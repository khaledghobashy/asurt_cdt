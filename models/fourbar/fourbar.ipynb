{
 "cells": [
  {
   "cell_type": "markdown",
   "metadata": {},
   "source": [
    "$s$"
   ]
  },
  {
   "cell_type": "code",
   "execution_count": 1,
   "metadata": {},
   "outputs": [],
   "source": [
    "import ipywidgets as widgets\n",
    "out = widgets.Output()\n",
    "with out:\n",
    "    \n",
    "    %bookmark 'model_dir'\n",
    "    current_dir = %pwd\n",
    "    while 'models' in current_dir:\n",
    "        %cd ..\n",
    "        current_dir = %pwd\n",
    "    %bookmark 'base_dir'\n",
    "    %cd source_code\n",
    "    out.clear_output()\n",
    "%run base\n",
    "%run gui_v6\n",
    "with out:\n",
    "    %cd ..\n",
    "    %cd models/fourbar\n",
    "    out.clear_output()\n"
   ]
  },
  {
   "cell_type": "code",
   "execution_count": 2,
   "metadata": {},
   "outputs": [
    {
     "data": {
      "text/markdown": [
       "## VEHICLE DYNAMICS MODELING AND SIMULATION TOOL"
      ],
      "text/plain": [
       "<IPython.core.display.Markdown object>"
      ]
     },
     "metadata": {},
     "output_type": "display_data"
    },
    {
     "data": {
      "application/vnd.jupyter.widget-view+json": {
       "model_id": "3972f4244b43423d8e43321ca23ca9db",
       "version_major": 2,
       "version_minor": 0
      },
      "text/plain": [
       "VBox(children=(HBox(children=(VBox(children=(Button(description=' New', icon='file', layout=Layout(width='100p…"
      ]
     },
     "metadata": {},
     "output_type": "display_data"
    }
   ],
   "source": [
    "m=model()\n",
    "m.show()"
   ]
  },
  {
   "cell_type": "code",
   "execution_count": 4,
   "metadata": {},
   "outputs": [
    {
     "data": {
      "application/vnd.jupyter.widget-view+json": {
       "model_id": "9ebbf19cdadf4c54924ad532b1166042",
       "version_major": 2,
       "version_minor": 0
      },
      "text/plain": [
       "VBox(children=(HBox(children=(HBox(children=(Select(layout=Layout(height='150px', width='120px'), options={'Po…"
      ]
     },
     "metadata": {},
     "output_type": "display_data"
    }
   ],
   "source": [
    "m.model_tree()"
   ]
  },
  {
   "cell_type": "code",
   "execution_count": 44,
   "metadata": {},
   "outputs": [],
   "source": [
    "m.topology.remove_edge(m.bodies['rbs_ground'],m.bodies['rbs_crank'],1)"
   ]
  },
  {
   "cell_type": "code",
   "execution_count": 3,
   "metadata": {},
   "outputs": [
    {
     "data": {
      "text/plain": [
       "mcs_rot    <constraints.rotational_actuator object at 0x0...\n",
       "dtype: object"
      ]
     },
     "execution_count": 3,
     "metadata": {},
     "output_type": "execute_result"
    }
   ],
   "source": [
    "m.actuators"
   ]
  },
  {
   "cell_type": "code",
   "execution_count": 4,
   "metadata": {},
   "outputs": [
    {
     "data": {
      "text/plain": [
       "OutMultiEdgeView([(rbs_ground, rbs_crank, 0), (rbs_ground, rbs_crank, 1), (rbs_crank, rbs_conn, 0), (rbs_conn, rbs_slider, 0), (rbs_slider, rbs_ground, 0)])"
      ]
     },
     "execution_count": 4,
     "metadata": {},
     "output_type": "execute_result"
    }
   ],
   "source": [
    "\n",
    "m.topology.edges"
   ]
  },
  {
   "cell_type": "code",
   "execution_count": 5,
   "metadata": {},
   "outputs": [
    {
     "data": {
      "text/plain": [
       "NodeView((rbs_ground, rbs_crank, rbs_conn, rbs_slider))"
      ]
     },
     "execution_count": 5,
     "metadata": {},
     "output_type": "execute_result"
    }
   ],
   "source": [
    "m.topology.nodes"
   ]
  },
  {
   "cell_type": "code",
   "execution_count": 6,
   "metadata": {},
   "outputs": [],
   "source": [
    "# -*- coding: utf-8 -*-\n",
    "\"\"\"\n",
    "Created on Sat May 12 20:41:13 2018\n",
    "\n",
    "@author: khale\n",
    "\"\"\"\n",
    "\n",
    "\n",
    "import numpy as np\n",
    "import scipy as sc\n",
    "\n",
    "def jacobian_creator(topology):\n",
    "    \n",
    "    edgelist = topology.edges(data='joint')\n",
    "    nodelist = topology.nodes\n",
    "    \n",
    "    n_nodes = len(nodelist)\n",
    "    n_edges = len(edgelist)\n",
    "            \n",
    "    jacobian = np.zeros((n_edges+n_nodes,n_nodes),dtype=np.object)\n",
    "    jacobian.fill(None)\n",
    "    \n",
    "    equations = np.zeros((n_edges+n_nodes,1),dtype=np.object)\n",
    "    \n",
    "    vel_rhs = np.zeros((n_edges+n_nodes,1),dtype=np.object)\n",
    "    acc_rhs = np.zeros((n_edges+n_nodes,1),dtype=np.object)\n",
    "    \n",
    "    node_index = dict( (node,i) for i,node in enumerate(nodelist) )\n",
    "        \n",
    "    for ei,e in enumerate(edgelist):\n",
    "        (u,v) = e[:2]\n",
    "        eo    = e[2]\n",
    "        \n",
    "        ui = node_index[u]\n",
    "        vi = node_index[v]\n",
    "        \n",
    "        if jacobian[ui+n_edges,ui]==None: jacobian[ui+n_edges,ui] = (u.jac,ui)\n",
    "        if jacobian[vi+n_edges,vi]==None: jacobian[vi+n_edges,vi] = (v.jac,vi)\n",
    "                \n",
    "        jacobian[ei,ui] = (eo.jacobian_i,ui,vi)\n",
    "        jacobian[ei,vi] = (eo.jacobian_j,ui,vi)\n",
    "        \n",
    "        equations[ei,0] = (eo.equations,ui,vi)\n",
    "        if equations[ui+n_edges,0]==0: equations[ui+n_edges,0]=(u.equations,ui)\n",
    "        if equations[vi+n_edges,0]==0: equations[vi+n_edges,0]=(v.equations,vi)\n",
    "        \n",
    "        \n",
    "        vel_rhs[ei,0] = ((eo.vel_rhs) if eo.nc==1 else np.zeros((eo.nc,1)))\n",
    "        vel_rhs[ui+n_edges,0] = (np.array([[0]]) if u.nc==1 else np.zeros((7,1)))\n",
    "        vel_rhs[vi+n_edges,0] = (np.array([[0]]) if v.nc==1 else np.zeros((7,1)))\n",
    "        \n",
    "        acc_rhs[ei,0] = (eo.acc_rhs,ui,vi)\n",
    "        if acc_rhs[ui+n_edges,0]==0: acc_rhs[ui+n_edges,0]=(u.acc_rhs,ui)\n",
    "        if acc_rhs[vi+n_edges,0]==0: acc_rhs[vi+n_edges,0]=(v.acc_rhs,vi)\n",
    "        \n",
    "      \n",
    "    def j_mapper(i,q):\n",
    "        if len(i)==3:\n",
    "            fun,bi,bj = i\n",
    "            return fun(q[bi],q[bj])\n",
    "        else:\n",
    "            fun,bi = i\n",
    "            return fun(q[bi])\n",
    "        \n",
    "\n",
    "    vectorized_j = np.vectorize(j_mapper,otypes=[np.object],excluded='q')\n",
    "    \n",
    "    \n",
    "    def v_mapper(i):\n",
    "        try:\n",
    "            if i.all()==0:\n",
    "                return i\n",
    "        except AttributeError:\n",
    "            return i()\n",
    "\n",
    "    vectorized_v = np.vectorize(v_mapper,otypes=[np.object])\n",
    "    \n",
    "    def a_mapper(i,q,qd):\n",
    "        if len(i)==3:\n",
    "            fun,bi,bj = i\n",
    "            return fun(q[bi],q[bj],qd[bi],qd[bj])\n",
    "        else:\n",
    "            fun,bi = i\n",
    "            return fun(qd[bi])\n",
    "\n",
    "    vectorized_a = np.vectorize(a_mapper,otypes=[np.object],excluded=('q','qd'))\n",
    "    \n",
    "    return jacobian, equations, vel_rhs, acc_rhs, jacobian.nonzero(), vectorized_j, vectorized_v, vectorized_a\n",
    "\n",
    "\n",
    "def jacobian_evaluator(jac_blocks,nzi,mapper,q):\n",
    "    A = jac_blocks.copy()\n",
    "    A[nzi]=mapper(A[nzi],q=q)\n",
    "    return sc.sparse.bmat(A,format='csc')\n"
   ]
  },
  {
   "cell_type": "code",
   "execution_count": 7,
   "metadata": {},
   "outputs": [],
   "source": [
    "def nr_kds(j,e,nzi,mapper,q):\n",
    "    \n",
    "    A = jacobian_evaluator(j,nzi,mapper,q.values.reshape((2,7)))\n",
    "    \n",
    "    b = e.copy()\n",
    "    b = np.concatenate(mapper(e[e.nonzero()],q=q.values.reshape((2,7))))\n",
    "    delta_q = sc.sparse.linalg.spsolve(A,-b)\n",
    "    \n",
    "    itr=0\n",
    "    while np.linalg.norm(delta_q)>1e-5:\n",
    "        \n",
    "        q=q+delta_q\n",
    "        \n",
    "        if itr!=0 and itr%5==0:\n",
    "            print('Recalculating Jacobian')\n",
    "            A = jacobian_evaluator(j,nzi,mapper,q.values.reshape((2,7)))\n",
    "        b = np.concatenate(mapper(e[e.nonzero()],q=q.values.reshape((2,7))))\n",
    "        delta_q = sc.sparse.linalg.spsolve(A,-b)\n",
    "        \n",
    "        itr+=1\n",
    "        \n",
    "\n",
    "\n",
    "        if itr>200:\n",
    "            print(\"Iterations exceded \\n\")\n",
    "            break    \n",
    "    \n",
    "    return q,A\n",
    "\n",
    "\n",
    "def kds(topology,actuators,time_array):\n",
    "    q0 = pd.concat([i.q0 for i in topology.nodes])\n",
    "    j,e,v,a,nzi,j_m, v_m, a_m = jacobian_creator(topology)\n",
    "    \n",
    "    position_df=pd.DataFrame(columns=q0.index)\n",
    "    position_df.loc[0]=q0\n",
    "    \n",
    "    A = jacobian_evaluator(j,nzi,j_m,q0.values.reshape((2,7)))\n",
    "     \n",
    "    velocity_df=pd.DataFrame(columns=q0.index)\n",
    "    velocity_df.loc[0]=sc.sparse.linalg.spsolve(A,-1*np.concatenate(v_m(v)[:,0]))\n",
    "        \n",
    "    acceleration_df=pd.DataFrame(columns=q0.index)\n",
    "    acceleration_df.loc[0]=sc.sparse.linalg.spsolve(A,-1*np.concatenate(a_m(a,q=q0.values.reshape((2,7)),qd=velocity_df.loc[0].values.reshape((2,7)))[:,0]))\n",
    "    \n",
    "    \n",
    "    print('\\nRunning System Kinematic Analysis:')\n",
    "    dt = time_array[1]-time_array[0]\n",
    "    for i,step in enumerate(time_array):\n",
    "        #print(i)\n",
    "        \n",
    "        for ac in actuators:\n",
    "            ac.t=step\n",
    "        \n",
    "        \n",
    "        g=position_df.loc[i]+velocity_df.loc[i]*dt + 0.5*acceleration_df.loc[i]*dt**2\n",
    "         \n",
    "        position_df.loc[i+1],A=nr_kds(j,e,nzi,j_m,g)\n",
    "        qi=position_df.loc[i+1]\n",
    "        velocity_df.loc[i+1]=vi=sc.sparse.linalg.spsolve(A,-1*np.concatenate(v_m(v)[:,0]))\n",
    "        acceleration_df.loc[i+1]=sc.sparse.linalg.spsolve(A,-1*np.concatenate(a_m(a,q=qi.values.reshape((2,7)),qd=vi.reshape((2,7)))[:,0]))\n",
    "          \n",
    "        i+=1\n",
    "        \n",
    "    return position_df, velocity_df, acceleration_df\n",
    "    "
   ]
  },
  {
   "cell_type": "code",
   "execution_count": 9,
   "metadata": {},
   "outputs": [],
   "source": [
    "def nr_kds(j,e,nzi,mapper,q):\n",
    "    \n",
    "    A = jacobian_evaluator(j,nzi,mapper,q.values.reshape((4,7)))\n",
    "    \n",
    "    b = e.copy()\n",
    "    b = np.concatenate(mapper(e[e.nonzero()],q=q.values.reshape((4,7))))\n",
    "    delta_q = sc.sparse.linalg.spsolve(A,-b)\n",
    "    \n",
    "    itr=0\n",
    "    while np.linalg.norm(delta_q)>1e-5:\n",
    "        \n",
    "        q=q+delta_q\n",
    "        \n",
    "        if itr!=0 and itr%5==0:\n",
    "            print('Recalculating Jacobian')\n",
    "            A = jacobian_evaluator(j,nzi,mapper,q.values.reshape((4,7)))\n",
    "        b = np.concatenate(mapper(e[e.nonzero()],q=q.values.reshape((4,7))))\n",
    "        delta_q = sc.sparse.linalg.spsolve(A,-b)\n",
    "        \n",
    "        itr+=1\n",
    "        \n",
    "\n",
    "\n",
    "        if itr>200:\n",
    "            print(\"Iterations exceded \\n\")\n",
    "            break    \n",
    "    \n",
    "    return q,A\n",
    "\n",
    "\n",
    "def kds(topology,actuators,time_array):\n",
    "    q0 = pd.concat([i.q0 for i in topology.nodes])\n",
    "    j,e,v,a,nzi,j_m, v_m, a_m = jacobian_creator(topology)\n",
    "    \n",
    "    position_df=pd.DataFrame(columns=q0.index)\n",
    "    position_df.loc[0]=q0\n",
    "    \n",
    "    A = jacobian_evaluator(j,nzi,j_m,q0.values.reshape((4,7)))\n",
    "     \n",
    "    velocity_df=pd.DataFrame(columns=q0.index)\n",
    "    velocity_df.loc[0]=sc.sparse.linalg.spsolve(A,-1*np.concatenate(v_m(v)[:,0]))\n",
    "        \n",
    "    acceleration_df=pd.DataFrame(columns=q0.index)\n",
    "    acceleration_df.loc[0]=sc.sparse.linalg.spsolve(A,-1*np.concatenate(a_m(a,q=q0.values.reshape((4,7)),qd=velocity_df.loc[0].values.reshape((4,7)))[:,0]))\n",
    "    \n",
    "    \n",
    "    print('\\nRunning System Kinematic Analysis:')\n",
    "    dt = time_array[1]-time_array[0]\n",
    "    for i,step in enumerate(time_array):\n",
    "        #print(i)\n",
    "        \n",
    "        for ac in actuators:\n",
    "            ac.t=step\n",
    "        \n",
    "        \n",
    "        g=position_df.loc[i]+velocity_df.loc[i]*dt + 0.5*acceleration_df.loc[i]*dt**2\n",
    "         \n",
    "        position_df.loc[i+1],A=nr_kds(j,e,nzi,j_m,g)\n",
    "        qi=position_df.loc[i+1]\n",
    "        velocity_df.loc[i+1]=vi=sc.sparse.linalg.spsolve(A,-1*np.concatenate(v_m(v)[:,0]))\n",
    "        acceleration_df.loc[i+1]=sc.sparse.linalg.spsolve(A,-1*np.concatenate(a_m(a,q=qi.values.reshape((4,7)),qd=vi.reshape((4,7)))[:,0]))\n",
    "          \n",
    "        i+=1\n",
    "        \n",
    "    return position_df, velocity_df, acceleration_df\n",
    "    "
   ]
  },
  {
   "cell_type": "code",
   "execution_count": 10,
   "metadata": {},
   "outputs": [],
   "source": [
    "q0=pd.concat([i.q0 for i in m.topology.nodes])"
   ]
  },
  {
   "cell_type": "code",
   "execution_count": 12,
   "metadata": {},
   "outputs": [
    {
     "data": {
      "image/png": "[encoded data removed]",
      "text/plain": [
       "<matplotlib.figure.Figure at 0x230edcdbd30>"
      ]
     },
     "metadata": {},
     "output_type": "display_data"
    }
   ],
   "source": [
    "t_a = np.linspace(10/500,10,500)\n",
    "pos=[]\n",
    "vel=[]\n",
    "acc=[]\n",
    "for i in t_a:\n",
    "    m.actuators[0].t=i\n",
    "    pos.append(m.actuators[0].pos)\n",
    "    vel.append(m.actuators[0].vel)\n",
    "    acc.append(m.actuators[0].acc)\n",
    "plt.plot(t_a,vel)\n",
    "plt.show()"
   ]
  },
  {
   "cell_type": "code",
   "execution_count": 13,
   "metadata": {},
   "outputs": [],
   "source": [
    "j,e,v,a,nzi,mapper_j,mapper_v, mapper_a = jacobian_creator(m.topology)"
   ]
  },
  {
   "cell_type": "code",
   "execution_count": 14,
   "metadata": {},
   "outputs": [
    {
     "name": "stdout",
     "output_type": "stream",
     "text": [
      "\n",
      "Running System Kinematic Analysis:\n"
     ]
    }
   ],
   "source": [
    "t_a = np.linspace(10/500,10,500)\n",
    "qs,qv,qa = kds(m.topology,m.actuators,t_a)"
   ]
  },
  {
   "cell_type": "code",
   "execution_count": 15,
   "metadata": {},
   "outputs": [
    {
     "data": {
      "application/vnd.jupyter.widget-view+json": {
       "model_id": "481dd1a608274764b17ff0cf0b22a13d",
       "version_major": 2,
       "version_minor": 0
      },
      "text/plain": [
       "interactive(children=(IntSlider(value=1, description='i', max=500, min=1), Output()), _dom_classes=('widget-in…"
      ]
     },
     "metadata": {},
     "output_type": "display_data"
    },
    {
     "data": {
      "text/plain": [
       "<function __main__.f>"
      ]
     },
     "execution_count": 15,
     "metadata": {},
     "output_type": "execute_result"
    }
   ],
   "source": [
    "def f(i):\n",
    "    plt.figure(figsize=(8,8))\n",
    "    #plt.plot(t_a[0:i],qs['rbs_crank.x'][0:i])\n",
    "    plt.plot(qs['rbs_crank.x'][0:i],qs['rbs_slider.x'][0:i])\n",
    "    #plt.xlim(0,10)\n",
    "    plt.xlim(-40,40)\n",
    "    plt.ylim(75,240)\n",
    "    plt.grid()\n",
    "    plt.show()\n",
    "widgets.interact(f,i=widgets.IntSlider(value=1,max=500,min=1))\n"
   ]
  },
  {
   "cell_type": "code",
   "execution_count": 15,
   "metadata": {},
   "outputs": [
    {
     "data": {
      "application/vnd.jupyter.widget-view+json": {
       "model_id": "33b85cd2614449bca35f280660b8efdb",
       "version_major": 2,
       "version_minor": 0
      },
      "text/plain": [
       "interactive(children=(IntSlider(value=250, description='i', max=500), Output()), _dom_classes=('widget-interac…"
      ]
     },
     "metadata": {},
     "output_type": "display_data"
    },
    {
     "data": {
      "text/plain": [
       "<function __main__.f>"
      ]
     },
     "execution_count": 15,
     "metadata": {},
     "output_type": "execute_result"
    }
   ],
   "source": [
    "def f(i):\n",
    "    plt.figure(figsize=(8,8))\n",
    "    plt.plot(t_a[0:i],qa['rbs_link.z'][0:i])\n",
    "    plt.plot(t_a[0:i],qa['rbs_link.x'][0:i])\n",
    "    plt.xlim(0,10)\n",
    "    plt.grid()\n",
    "    plt.show()\n",
    "widgets.interact(f,i=(0,500))\n"
   ]
  },
  {
   "cell_type": "code",
   "execution_count": 50,
   "metadata": {},
   "outputs": [
    {
     "data": {
      "application/vnd.jupyter.widget-view+json": {
       "model_id": "313916cca0474ca18f928904d8062a3a",
       "version_major": 2,
       "version_minor": 0
      },
      "text/plain": [
       "interactive(children=(IntSlider(value=250, description='i', max=500), Output()), _dom_classes=('widget-interac…"
      ]
     },
     "metadata": {},
     "output_type": "display_data"
    },
    {
     "data": {
      "text/plain": [
       "<function __main__.f>"
      ]
     },
     "execution_count": 50,
     "metadata": {},
     "output_type": "execute_result"
    }
   ],
   "source": [
    "def f(i):\n",
    "    plt.figure(figsize=(8,8))\n",
    "    plt.plot(qs['rbs_link.x'][0:i],qs['rbs_link.z'][0:i])\n",
    "    plt.xlim(-1500,1500)\n",
    "    plt.ylim(-1500,1500)\n",
    "    plt.grid()\n",
    "    plt.show()\n",
    "widgets.interact(f,i=(0,500))"
   ]
  },
  {
   "cell_type": "code",
   "execution_count": 36,
   "metadata": {},
   "outputs": [
    {
     "data": {
      "application/vnd.jupyter.widget-view+json": {
       "model_id": "61decb4c48f742ff8df88fa263f28b78",
       "version_major": 2,
       "version_minor": 0
      },
      "text/plain": [
       "interactive(children=(IntSlider(value=250, description='i', max=500), Output()), _dom_classes=('widget-interac…"
      ]
     },
     "metadata": {},
     "output_type": "display_data"
    },
    {
     "data": {
      "text/plain": [
       "<function __main__.f>"
      ]
     },
     "execution_count": 36,
     "metadata": {},
     "output_type": "execute_result"
    }
   ],
   "source": [
    "def f(i):\n",
    "    plt.plot(t_a[0:i],qv['rbs_link.z'][0:i])\n",
    "    plt.plot(t_a[0:i],qv['rbs_link.x'][0:i])\n",
    "    plt.show()\n",
    "widgets.interact(f,i=(0,500))"
   ]
  },
  {
   "cell_type": "code",
   "execution_count": 157,
   "metadata": {},
   "outputs": [
    {
     "name": "stdout",
     "output_type": "stream",
     "text": [
      "7.62 ms ± 10.3 µs per loop (mean ± std. dev. of 7 runs, 100 loops each)\n"
     ]
    }
   ],
   "source": [
    "%timeit jacobian_evaluator(j,nzi,mapper,q0.values.reshape(4,7))"
   ]
  },
  {
   "cell_type": "code",
   "execution_count": 17,
   "metadata": {},
   "outputs": [
    {
     "data": {
      "text/plain": [
       "10.0"
      ]
     },
     "execution_count": 17,
     "metadata": {},
     "output_type": "execute_result"
    }
   ],
   "source": [
    "ib = m.actuators[0].i_body.q0\n",
    "jb = m.actuators[0].j_body.q0\n",
    "m.actuators[0].equations(ib,jb)\n",
    "m.actuators[0].pos"
   ]
  },
  {
   "cell_type": "code",
   "execution_count": 18,
   "metadata": {},
   "outputs": [
    {
     "data": {
      "text/plain": [
       "array([[ -1.00000000e+00,   0.00000000e+00,   0.00000000e+00,\n",
       "         -5.41196100e+02,   1.30656296e+03,  -5.41196100e+02,\n",
       "          1.30656296e+03],\n",
       "       [  0.00000000e+00,  -1.00000000e+00,   0.00000000e+00,\n",
       "         -1.30656296e+03,   5.41196100e+02,   1.30656296e+03,\n",
       "         -5.41196100e+02],\n",
       "       [  0.00000000e+00,   0.00000000e+00,  -1.00000000e+00,\n",
       "         -5.41196100e+02,  -1.30656296e+03,   5.41196100e+02,\n",
       "          1.30656296e+03],\n",
       "       [  0.00000000e+00,   0.00000000e+00,   0.00000000e+00,\n",
       "          1.84775907e+00,  -1.02812316e-16,  -3.44394088e-16,\n",
       "          7.65366865e-01],\n",
       "       [  0.00000000e+00,   0.00000000e+00,   0.00000000e+00,\n",
       "          1.45682066e-16,   7.65366865e-01,   1.84775907e+00,\n",
       "         -1.02812316e-16]])"
      ]
     },
     "execution_count": 18,
     "metadata": {},
     "output_type": "execute_result"
    }
   ],
   "source": [
    "q_ground, q_link = q0.values.reshape((2,7))\n",
    "rev = m.joints['jcs_rev']\n",
    "rev.jacobian_j(q_ground,q_link).A"
   ]
  },
  {
   "cell_type": "code",
   "execution_count": 19,
   "metadata": {},
   "outputs": [
    {
     "data": {
      "text/plain": [
       "array([[ (<bound method revolute.jacobian_i of <constraints.revolute object at 0x0000023EEEBA8BA8>>, 0, 1),\n",
       "        (<bound method revolute.jacobian_j of <constraints.revolute object at 0x0000023EEEBA8BA8>>, 0, 1)],\n",
       "       [ (<bound method rotational_actuator.jacobian_i of <constraints.rotational_actuator object at 0x0000023EE75F0F28>>, 0, 1),\n",
       "        (<bound method rotational_actuator.jacobian_j of <constraints.rotational_actuator object at 0x0000023EE75F0F28>>, 0, 1)],\n",
       "       [(<bound method mount.jac of rbs_ground>, 0), None],\n",
       "       [None, (<bound method rigid.jac of rbs_link>, 1)]], dtype=object)"
      ]
     },
     "execution_count": 19,
     "metadata": {},
     "output_type": "execute_result"
    }
   ],
   "source": [
    "j"
   ]
  },
  {
   "cell_type": "code",
   "execution_count": 20,
   "metadata": {},
   "outputs": [
    {
     "data": {
      "text/plain": [
       "array([[ True,  True,  True,  True,  True,  True,  True,  True,  True,\n",
       "         True,  True,  True,  True,  True],\n",
       "       [ True,  True,  True,  True,  True,  True,  True,  True,  True,\n",
       "         True,  True,  True,  True,  True],\n",
       "       [ True,  True,  True,  True,  True,  True,  True,  True,  True,\n",
       "         True,  True,  True,  True,  True],\n",
       "       [ True,  True,  True,  True,  True,  True,  True,  True,  True,\n",
       "         True,  True,  True,  True,  True],\n",
       "       [ True,  True,  True,  True,  True,  True,  True,  True,  True,\n",
       "         True,  True,  True,  True,  True],\n",
       "       [ True,  True,  True,  True,  True,  True,  True,  True,  True,\n",
       "         True,  True,  True,  True,  True],\n",
       "       [ True,  True,  True,  True,  True,  True,  True,  True,  True,\n",
       "         True,  True,  True,  True,  True],\n",
       "       [ True,  True,  True,  True,  True,  True,  True,  True,  True,\n",
       "         True,  True,  True,  True,  True],\n",
       "       [ True,  True,  True,  True,  True,  True,  True,  True,  True,\n",
       "         True,  True,  True,  True,  True],\n",
       "       [ True,  True,  True,  True,  True,  True,  True,  True,  True,\n",
       "         True,  True,  True,  True,  True],\n",
       "       [ True,  True,  True,  True,  True,  True,  True,  True,  True,\n",
       "         True,  True,  True,  True,  True],\n",
       "       [ True,  True,  True,  True,  True,  True,  True,  True,  True,\n",
       "         True,  True,  True,  True,  True],\n",
       "       [ True,  True,  True,  True,  True,  True,  True,  True,  True,\n",
       "         True,  True,  True,  True,  True],\n",
       "       [ True,  True,  True,  True,  True,  True,  True,  True,  True,\n",
       "         True,  True,  True,  True,  True]], dtype=bool)"
      ]
     },
     "execution_count": 20,
     "metadata": {},
     "output_type": "execute_result"
    }
   ],
   "source": [
    "jn = jacobian_evaluator(j,nzi,mapper_j,q=q0.values.reshape((2,7))).A\n",
    "np.argmax(abs(np.linalg.inv(jn)))\n",
    "abs(jn-np.array([[  1.00000000e+00,   0.00000000e+00,   0.00000000e+00,\n",
    "          0.00000000e+00,   0.00000000e+00,   0.00000000e+00,\n",
    "          0.00000000e+00,  -1.00000000e+00,   0.00000000e+00,\n",
    "          0.00000000e+00,  -5.41196100e+02,   1.30656296e+03,\n",
    "         -5.41196100e+02,   1.30656296e+03],\n",
    "       [  0.00000000e+00,   1.00000000e+00,   0.00000000e+00,\n",
    "          0.00000000e+00,   0.00000000e+00,   0.00000000e+00,\n",
    "          0.00000000e+00,   0.00000000e+00,  -1.00000000e+00,\n",
    "          0.00000000e+00,  -1.30656296e+03,   5.41196100e+02,\n",
    "          1.30656296e+03,  -5.41196100e+02],\n",
    "       [  0.00000000e+00,   0.00000000e+00,   1.00000000e+00,\n",
    "          0.00000000e+00,   0.00000000e+00,   0.00000000e+00,\n",
    "          0.00000000e+00,   0.00000000e+00,   0.00000000e+00,\n",
    "         -1.00000000e+00,  -5.41196100e+02,  -1.30656296e+03,\n",
    "          5.41196100e+02,   1.30656296e+03],\n",
    "       [  0.00000000e+00,   0.00000000e+00,   0.00000000e+00,\n",
    "          3.92523114e-17,   1.41421356e+00,   1.96261557e-16,\n",
    "          1.41421356e+00,   0.00000000e+00,   0.00000000e+00,\n",
    "          0.00000000e+00,   1.84775906e+00,  -1.66533454e-16,\n",
    "         -3.33066907e-16,   7.65366862e-01],\n",
    "       [  0.00000000e+00,   0.00000000e+00,   0.00000000e+00,\n",
    "          1.96261557e-16,   1.41421356e+00,  -3.92523114e-17,\n",
    "         -1.41421356e+00,   0.00000000e+00,   0.00000000e+00,\n",
    "          0.00000000e+00,   3.33066907e-16,   7.65366862e-01,\n",
    "          1.84775906e+00,   1.66533454e-16],\n",
    "       [  0.00000000e+00,   0.00000000e+00,   0.00000000e+00,\n",
    "          1.67803194e-09,   7.85046228e-17,  -1.99999999e+00,\n",
    "         -7.85046228e-17,   0.00000000e+00,   0.00000000e+00,\n",
    "          0.00000000e+00,   5.41196098e-01,   1.30656296e+00,\n",
    "         -5.41196099e-01,  -1.30656296e+00],\n",
    "       [  1.00000000e+00,   0.00000000e+00,   0.00000000e+00,\n",
    "          0.00000000e+00,   0.00000000e+00,   0.00000000e+00,\n",
    "          0.00000000e+00,   0.00000000e+00,   0.00000000e+00,\n",
    "          0.00000000e+00,   0.00000000e+00,   0.00000000e+00,\n",
    "          0.00000000e+00,   0.00000000e+00],\n",
    "       [  0.00000000e+00,   1.00000000e+00,   0.00000000e+00,\n",
    "          0.00000000e+00,   0.00000000e+00,   0.00000000e+00,\n",
    "          0.00000000e+00,   0.00000000e+00,   0.00000000e+00,\n",
    "          0.00000000e+00,   0.00000000e+00,   0.00000000e+00,\n",
    "          0.00000000e+00,   0.00000000e+00],\n",
    "       [  0.00000000e+00,   0.00000000e+00,   1.00000000e+00,\n",
    "          0.00000000e+00,   0.00000000e+00,   0.00000000e+00,\n",
    "          0.00000000e+00,   0.00000000e+00,   0.00000000e+00,\n",
    "          0.00000000e+00,   0.00000000e+00,   0.00000000e+00,\n",
    "          0.00000000e+00,   0.00000000e+00],\n",
    "       [  0.00000000e+00,   0.00000000e+00,   0.00000000e+00,\n",
    "          1.00000000e+00,   0.00000000e+00,   0.00000000e+00,\n",
    "          0.00000000e+00,   0.00000000e+00,   0.00000000e+00,\n",
    "          0.00000000e+00,   0.00000000e+00,   0.00000000e+00,\n",
    "          0.00000000e+00,   0.00000000e+00],\n",
    "       [  0.00000000e+00,   0.00000000e+00,   0.00000000e+00,\n",
    "          0.00000000e+00,   1.00000000e+00,   0.00000000e+00,\n",
    "          0.00000000e+00,   0.00000000e+00,   0.00000000e+00,\n",
    "          0.00000000e+00,   0.00000000e+00,   0.00000000e+00,\n",
    "          0.00000000e+00,   0.00000000e+00],\n",
    "       [  0.00000000e+00,   0.00000000e+00,   0.00000000e+00,\n",
    "          0.00000000e+00,   0.00000000e+00,   1.00000000e+00,\n",
    "          0.00000000e+00,   0.00000000e+00,   0.00000000e+00,\n",
    "          0.00000000e+00,   0.00000000e+00,   0.00000000e+00,\n",
    "          0.00000000e+00,   0.00000000e+00],\n",
    "       [  0.00000000e+00,   0.00000000e+00,   0.00000000e+00,\n",
    "          0.00000000e+00,   0.00000000e+00,   0.00000000e+00,\n",
    "          1.00000000e+00,   0.00000000e+00,   0.00000000e+00,\n",
    "          0.00000000e+00,   0.00000000e+00,   0.00000000e+00,\n",
    "          0.00000000e+00,   0.00000000e+00],\n",
    "       [  0.00000000e+00,   0.00000000e+00,   0.00000000e+00,\n",
    "          0.00000000e+00,   0.00000000e+00,   0.00000000e+00,\n",
    "          0.00000000e+00,   0.00000000e+00,   0.00000000e+00,\n",
    "          0.00000000e+00,  -5.41196100e-01,   1.30656296e+00,\n",
    "         -5.41196100e-01,   1.30656296e+00]]))<1e-5"
   ]
  },
  {
   "cell_type": "code",
   "execution_count": 21,
   "metadata": {},
   "outputs": [
    {
     "data": {
      "text/plain": [
       "array([[  1.00000000e+00,   0.00000000e+00,   0.00000000e+00,\n",
       "          0.00000000e+00,   0.00000000e+00,   0.00000000e+00,\n",
       "          0.00000000e+00,  -1.00000000e+00,   0.00000000e+00,\n",
       "          0.00000000e+00,  -5.41196100e+02,   1.30656296e+03,\n",
       "         -5.41196100e+02,   1.30656296e+03],\n",
       "       [  0.00000000e+00,   1.00000000e+00,   0.00000000e+00,\n",
       "          0.00000000e+00,   0.00000000e+00,   0.00000000e+00,\n",
       "          0.00000000e+00,   0.00000000e+00,  -1.00000000e+00,\n",
       "          0.00000000e+00,  -1.30656296e+03,   5.41196100e+02,\n",
       "          1.30656296e+03,  -5.41196100e+02],\n",
       "       [  0.00000000e+00,   0.00000000e+00,   1.00000000e+00,\n",
       "          0.00000000e+00,   0.00000000e+00,   0.00000000e+00,\n",
       "          0.00000000e+00,   0.00000000e+00,   0.00000000e+00,\n",
       "         -1.00000000e+00,  -5.41196100e+02,  -1.30656296e+03,\n",
       "          5.41196100e+02,   1.30656296e+03],\n",
       "       [  0.00000000e+00,   0.00000000e+00,   0.00000000e+00,\n",
       "          1.24491566e-16,   1.41421356e+00,   1.89526925e-16,\n",
       "          1.41421356e+00,   0.00000000e+00,   0.00000000e+00,\n",
       "          0.00000000e+00,   1.84775907e+00,  -1.02812316e-16,\n",
       "         -3.44394088e-16,   7.65366865e-01],\n",
       "       [  0.00000000e+00,   0.00000000e+00,   0.00000000e+00,\n",
       "          1.89526925e-16,   1.41421356e+00,  -1.24491566e-16,\n",
       "         -1.41421356e+00,   0.00000000e+00,   0.00000000e+00,\n",
       "          0.00000000e+00,   1.45682066e-16,   7.65366865e-01,\n",
       "          1.84775907e+00,  -1.02812316e-16],\n",
       "       [  0.00000000e+00,   0.00000000e+00,   0.00000000e+00,\n",
       "          4.23796137e-16,   5.55111512e-17,  -2.00000000e+00,\n",
       "         -5.55111512e-17,   0.00000000e+00,   0.00000000e+00,\n",
       "          0.00000000e+00,   5.41196100e-01,   1.30656296e+00,\n",
       "         -5.41196100e-01,  -1.30656296e+00],\n",
       "       [  1.00000000e+00,   0.00000000e+00,   0.00000000e+00,\n",
       "          0.00000000e+00,   0.00000000e+00,   0.00000000e+00,\n",
       "          0.00000000e+00,   0.00000000e+00,   0.00000000e+00,\n",
       "          0.00000000e+00,   0.00000000e+00,   0.00000000e+00,\n",
       "          0.00000000e+00,   0.00000000e+00],\n",
       "       [  0.00000000e+00,   1.00000000e+00,   0.00000000e+00,\n",
       "          0.00000000e+00,   0.00000000e+00,   0.00000000e+00,\n",
       "          0.00000000e+00,   0.00000000e+00,   0.00000000e+00,\n",
       "          0.00000000e+00,   0.00000000e+00,   0.00000000e+00,\n",
       "          0.00000000e+00,   0.00000000e+00],\n",
       "       [  0.00000000e+00,   0.00000000e+00,   1.00000000e+00,\n",
       "          0.00000000e+00,   0.00000000e+00,   0.00000000e+00,\n",
       "          0.00000000e+00,   0.00000000e+00,   0.00000000e+00,\n",
       "          0.00000000e+00,   0.00000000e+00,   0.00000000e+00,\n",
       "          0.00000000e+00,   0.00000000e+00],\n",
       "       [  0.00000000e+00,   0.00000000e+00,   0.00000000e+00,\n",
       "          1.00000000e+00,   0.00000000e+00,   0.00000000e+00,\n",
       "          0.00000000e+00,   0.00000000e+00,   0.00000000e+00,\n",
       "          0.00000000e+00,   0.00000000e+00,   0.00000000e+00,\n",
       "          0.00000000e+00,   0.00000000e+00],\n",
       "       [  0.00000000e+00,   0.00000000e+00,   0.00000000e+00,\n",
       "          0.00000000e+00,   1.00000000e+00,   0.00000000e+00,\n",
       "          0.00000000e+00,   0.00000000e+00,   0.00000000e+00,\n",
       "          0.00000000e+00,   0.00000000e+00,   0.00000000e+00,\n",
       "          0.00000000e+00,   0.00000000e+00],\n",
       "       [  0.00000000e+00,   0.00000000e+00,   0.00000000e+00,\n",
       "          0.00000000e+00,   0.00000000e+00,   1.00000000e+00,\n",
       "          0.00000000e+00,   0.00000000e+00,   0.00000000e+00,\n",
       "          0.00000000e+00,   0.00000000e+00,   0.00000000e+00,\n",
       "          0.00000000e+00,   0.00000000e+00],\n",
       "       [  0.00000000e+00,   0.00000000e+00,   0.00000000e+00,\n",
       "          0.00000000e+00,   0.00000000e+00,   0.00000000e+00,\n",
       "          1.00000000e+00,   0.00000000e+00,   0.00000000e+00,\n",
       "          0.00000000e+00,   0.00000000e+00,   0.00000000e+00,\n",
       "          0.00000000e+00,   0.00000000e+00],\n",
       "       [  0.00000000e+00,   0.00000000e+00,   0.00000000e+00,\n",
       "          0.00000000e+00,   0.00000000e+00,   0.00000000e+00,\n",
       "          0.00000000e+00,   0.00000000e+00,   0.00000000e+00,\n",
       "          0.00000000e+00,  -5.41196100e-01,   1.30656296e+00,\n",
       "         -5.41196100e-01,   1.30656296e+00]])"
      ]
     },
     "execution_count": 21,
     "metadata": {},
     "output_type": "execute_result"
    }
   ],
   "source": [
    "jn"
   ]
  },
  {
   "cell_type": "code",
   "execution_count": 26,
   "metadata": {},
   "outputs": [
    {
     "data": {
      "text/plain": [
       "array([[  1.00000000e+00,   0.00000000e+00,   0.00000000e+00,\n",
       "          0.00000000e+00,   0.00000000e+00,   0.00000000e+00,\n",
       "          0.00000000e+00],\n",
       "       [  0.00000000e+00,   1.00000000e+00,   0.00000000e+00,\n",
       "          0.00000000e+00,   0.00000000e+00,   0.00000000e+00,\n",
       "          0.00000000e+00],\n",
       "       [  0.00000000e+00,   0.00000000e+00,   1.00000000e+00,\n",
       "          0.00000000e+00,   0.00000000e+00,   0.00000000e+00,\n",
       "          0.00000000e+00],\n",
       "       [  0.00000000e+00,   0.00000000e+00,   0.00000000e+00,\n",
       "          1.24491566e-16,   1.41421356e+00,   1.89526925e-16,\n",
       "          1.41421356e+00],\n",
       "       [  0.00000000e+00,   0.00000000e+00,   0.00000000e+00,\n",
       "          1.89526925e-16,   1.41421356e+00,  -1.24491566e-16,\n",
       "         -1.41421356e+00]])"
      ]
     },
     "execution_count": 26,
     "metadata": {},
     "output_type": "execute_result"
    }
   ],
   "source": [
    "rev.jacobian_i(q_ground,q_link).A"
   ]
  },
  {
   "cell_type": "code",
   "execution_count": 27,
   "metadata": {},
   "outputs": [
    {
     "data": {
      "text/plain": [
       "array([[ -1.00000000e+00,   0.00000000e+00,   0.00000000e+00,\n",
       "         -5.41196100e+02,   1.30656296e+03,  -5.41196100e+02,\n",
       "          1.30656296e+03],\n",
       "       [  0.00000000e+00,  -1.00000000e+00,   0.00000000e+00,\n",
       "         -1.30656296e+03,   5.41196100e+02,   1.30656296e+03,\n",
       "         -5.41196100e+02],\n",
       "       [  0.00000000e+00,   0.00000000e+00,  -1.00000000e+00,\n",
       "         -5.41196100e+02,  -1.30656296e+03,   5.41196100e+02,\n",
       "          1.30656296e+03],\n",
       "       [  0.00000000e+00,   0.00000000e+00,   0.00000000e+00,\n",
       "          1.84775907e+00,  -1.02812316e-16,  -3.44394088e-16,\n",
       "          7.65366865e-01],\n",
       "       [  0.00000000e+00,   0.00000000e+00,   0.00000000e+00,\n",
       "          1.45682066e-16,   7.65366865e-01,   1.84775907e+00,\n",
       "         -1.02812316e-16]])"
      ]
     },
     "execution_count": 27,
     "metadata": {},
     "output_type": "execute_result"
    }
   ],
   "source": [
    "rev.jacobian_j(q_ground,q_link).A"
   ]
  },
  {
   "cell_type": "code",
   "execution_count": 22,
   "metadata": {},
   "outputs": [
    {
     "data": {
      "text/plain": [
       "array([[  0.00000000e+00,   0.00000000e+00,   0.00000000e+00,\n",
       "          4.23796137e-16,   5.55111512e-17,  -2.00000000e+00,\n",
       "         -5.55111512e-17]])"
      ]
     },
     "execution_count": 22,
     "metadata": {},
     "output_type": "execute_result"
    }
   ],
   "source": [
    "m.actuators[0].jacobian_i(q_ground,q_link).A"
   ]
  },
  {
   "cell_type": "code",
   "execution_count": 21,
   "metadata": {},
   "outputs": [
    {
     "data": {
      "text/plain": [
       "[[ 0.70710678]\n",
       " [ 0.        ]\n",
       " [-0.70710678]]"
      ]
     },
     "execution_count": 21,
     "metadata": {},
     "output_type": "execute_result"
    }
   ],
   "source": [
    "m.actuators[0].vi_i"
   ]
  },
  {
   "cell_type": "code",
   "execution_count": null,
   "metadata": {},
   "outputs": [],
   "source": []
  }
 ],
 "metadata": {
  "kernelspec": {
   "display_name": "Python 3",
   "language": "python",
   "name": "python3"
  },
  "language_info": {
   "codemirror_mode": {
    "name": "ipython",
    "version": 3
   },
   "file_extension": ".py",
   "mimetype": "text/x-python",
   "name": "python",
   "nbconvert_exporter": "python",
   "pygments_lexer": "ipython3",
   "version": "3.6.3"
  }
 },
 "nbformat": 4,
 "nbformat_minor": 2
}
