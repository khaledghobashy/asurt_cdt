{
 "cells": [
  {
   "cell_type": "markdown",
   "metadata": {},
   "source": [
    "$s$"
   ]
  },
  {
   "cell_type": "code",
   "execution_count": 47,
   "metadata": {},
   "outputs": [],
   "source": [
    "import ipywidgets as widgets\n",
    "out = widgets.Output()\n",
    "with out:\n",
    "    \n",
    "    %bookmark 'model_dir'\n",
    "    current_dir = %pwd\n",
    "    while 'models' in current_dir:\n",
    "        %cd ..\n",
    "        current_dir = %pwd\n",
    "    %bookmark 'base_dir'\n",
    "    %cd source_code\n",
    "    out.clear_output()\n",
    "%run base\n",
    "%run gui_v6\n",
    "with out:\n",
    "    %cd ..\n",
    "    %cd models/fourbar\n",
    "    out.clear_output()\n"
   ]
  },
  {
   "cell_type": "code",
   "execution_count": 48,
   "metadata": {},
   "outputs": [
    {
     "data": {
      "text/markdown": [
       "## VEHICLE DYNAMICS MODELING AND SIMULATION TOOL"
      ],
      "text/plain": [
       "<IPython.core.display.Markdown object>"
      ]
     },
     "metadata": {},
     "output_type": "display_data"
    },
    {
     "data": {
      "application/vnd.jupyter.widget-view+json": {
       "model_id": "2d169f8ef21145a081a7b3e6c2270bfc",
       "version_major": 2,
       "version_minor": 0
      },
      "text/plain": [
       "VBox(children=(HBox(children=(VBox(children=(Button(description=' New', icon='file', layout=Layout(width='100p…"
      ]
     },
     "metadata": {},
     "output_type": "display_data"
    }
   ],
   "source": [
    "m=model()\n",
    "m.show()"
   ]
  },
  {
   "cell_type": "code",
   "execution_count": 49,
   "metadata": {},
   "outputs": [
    {
     "data": {
      "application/vnd.jupyter.widget-view+json": {
       "model_id": "58d0ca2ba4724b878213c7e4acd52afb",
       "version_major": 2,
       "version_minor": 0
      },
      "text/plain": [
       "VBox(children=(HBox(children=(HBox(children=(Select(layout=Layout(height='150px', width='120px'), options={'Po…"
      ]
     },
     "metadata": {},
     "output_type": "display_data"
    }
   ],
   "source": [
    "m.model_tree()"
   ]
  },
  {
   "cell_type": "code",
   "execution_count": 50,
   "metadata": {},
   "outputs": [
    {
     "data": {
      "text/plain": [
       "rbs_ground.x     0.0\n",
       "rbs_ground.y     0.0\n",
       "rbs_ground.z     0.0\n",
       "rbs_ground.e0    1.0\n",
       "rbs_ground.e1    0.0\n",
       "rbs_ground.e2    0.0\n",
       "rbs_ground.e3    0.0\n",
       "dtype: float64"
      ]
     },
     "execution_count": 50,
     "metadata": {},
     "output_type": "execute_result"
    }
   ],
   "source": [
    "m.bodies[2].q0"
   ]
  },
  {
   "cell_type": "code",
   "execution_count": 58,
   "metadata": {},
   "outputs": [
    {
     "data": {
      "text/plain": [
       "OutMultiEdgeDataView([(rbs_crank, rbs_ground, <constraints.revolute object at 0x0000020FB2172208>), (rbs_crank, rbs_connecting_rod, <constraints.spherical object at 0x0000020FB2340A20>), (rbs_connecting_rod, rbs_slider, <constraints.universal object at 0x0000020FB2447CC0>), (rbs_slider, rbs_ground, <constraints.translational object at 0x0000020FB21B2CC0>)])"
      ]
     },
     "execution_count": 58,
     "metadata": {},
     "output_type": "execute_result"
    }
   ],
   "source": [
    "m.topology.edges(data='joint')"
   ]
  },
  {
   "cell_type": "code",
   "execution_count": 75,
   "metadata": {},
   "outputs": [],
   "source": [
    "# -*- coding: utf-8 -*-\n",
    "\"\"\"\n",
    "Created on Sat May 12 20:41:13 2018\n",
    "\n",
    "@author: khale\n",
    "\"\"\"\n",
    "\n",
    "\n",
    "import numpy as np\n",
    "import scipy as sc\n",
    "\n",
    "def jacobian_creator(topology):\n",
    "    \n",
    "    edgelist = topology.edges(data='joint')\n",
    "    nodelist = topology.nodes\n",
    "    \n",
    "    n_nodes = len(nodelist)\n",
    "    n_edges = len(edgelist)\n",
    "            \n",
    "    jacobian = np.zeros((n_edges+n_nodes,n_nodes),dtype=np.object)\n",
    "    jacobian.fill(None)\n",
    "    \n",
    "    equations = np.zeros((n_edges+n_nodes,1),dtype=np.object)\n",
    "    \n",
    "    vel_rhs = np.zeros((n_edges+n_nodes,1),dtype=np.object)\n",
    "    acc_rhs = np.zeros((n_edges+n_nodes,1),dtype=np.object)\n",
    "    \n",
    "    node_index = dict( (node,i) for i,node in enumerate(nodelist) )\n",
    "        \n",
    "    for ei,e in enumerate(edgelist):\n",
    "        (u,v) = e[:2]\n",
    "        eo    = e[2]\n",
    "        \n",
    "        ui = node_index[u]\n",
    "        vi = node_index[v]\n",
    "        \n",
    "        if jacobian[ui+n_edges,ui]==None: jacobian[ui+n_edges,ui] = (u.jac,ui)\n",
    "        if jacobian[vi+n_edges,vi]==None: jacobian[vi+n_edges,vi] = (v.jac,vi)\n",
    "                \n",
    "        jacobian[ei,ui] = (eo.jacobian_i,ui,vi)\n",
    "        jacobian[ei,vi] = (eo.jacobian_j,vi,ui)\n",
    "        \n",
    "        equations[ei,0] = (eo.equations,ui,vi)\n",
    "        if equations[ui+n_edges,0]==0: equations[ui+n_edges,0]=(u.equations,ui)\n",
    "        if equations[vi+n_edges,0]==0: equations[vi+n_edges,0]=(v.equations,vi)\n",
    "        \n",
    "        \n",
    "        #vel_rhs[ei,0] = (eo.vel_rhs,ui,vi)\n",
    "        \n",
    "        acc_rhs[ei,0] = (eo.acc_rhs,ui,vi)\n",
    "        \n",
    "      \n",
    "    def mapper(i,q):\n",
    "        try:\n",
    "            fun,bi,bj = i\n",
    "            return fun(q[bi],q[bj])\n",
    "        except ValueError:\n",
    "            fun,bi = i\n",
    "            return fun(q[bi])\n",
    "    \n",
    "    vectorized = np.vectorize(mapper,otypes=[np.object],excluded='q')\n",
    "    \n",
    "    return jacobian, equations, vel_rhs, acc_rhs, jacobian.nonzero(), vectorized\n",
    "\n",
    "\n",
    "def jacobian_evaluator(jac_blocks,nzi,mapper,q):\n",
    "    A = jac_blocks.copy()\n",
    "    A[nzi]=mapper(A[nzi],q=q)\n",
    "    return sc.sparse.bmat(A)\n"
   ]
  },
  {
   "cell_type": "code",
   "execution_count": 76,
   "metadata": {},
   "outputs": [],
   "source": [
    "j,e,v,a,nzi,mapper = jacobian_creator(m.topology)"
   ]
  },
  {
   "cell_type": "code",
   "execution_count": 77,
   "metadata": {},
   "outputs": [],
   "source": [
    "q0=pd.concat([i.q0 for i in m.topology.nodes])"
   ]
  },
  {
   "cell_type": "code",
   "execution_count": 62,
   "metadata": {},
   "outputs": [
    {
     "name": "stdout",
     "output_type": "stream",
     "text": [
      "13 ms ± 63.1 µs per loop (mean ± std. dev. of 7 runs, 100 loops each)\n"
     ]
    }
   ],
   "source": [
    "%timeit jacobian_evaluator(j,nzi,mapper,q0.values.reshape(4,7))"
   ]
  },
  {
   "cell_type": "code",
   "execution_count": 78,
   "metadata": {},
   "outputs": [
    {
     "data": {
      "text/plain": [
       "array([[ (<bound method revolute.equations of <constraints.revolute object at 0x0000020FB2172208>>, 0, 1)],\n",
       "       [ (<bound method spherical.equations of <constraints.spherical object at 0x0000020FB2340A20>>, 0, 2)],\n",
       "       [ (<bound method universal.equations of <constraints.universal object at 0x0000020FB2447CC0>>, 2, 3)],\n",
       "       [ (<bound method translational.equations of <constraints.translational object at 0x0000020FB21B2CC0>>, 3, 1)],\n",
       "       [(<bound method rigid.equations of rbs_crank>, 0)],\n",
       "       [(<bound method mount.equations of rbs_ground>, 1)],\n",
       "       [(<bound method rigid.equations of rbs_connecting_rod>, 2)],\n",
       "       [(<bound method rigid.equations of rbs_slider>, 3)]], dtype=object)"
      ]
     },
     "execution_count": 78,
     "metadata": {},
     "output_type": "execute_result"
    }
   ],
   "source": [
    "e"
   ]
  },
  {
   "cell_type": "code",
   "execution_count": 79,
   "metadata": {},
   "outputs": [
    {
     "data": {
      "text/plain": [
       "array([ array([[  3.55271368e-15],\n",
       "       [ -7.10542736e-15],\n",
       "       [  1.06581410e-14],\n",
       "       [  5.55111512e-17],\n",
       "       [ -1.11022302e-16]]),\n",
       "       array([[  1.42108547e-14],\n",
       "       [  1.42108547e-14],\n",
       "       [ -1.42108547e-14]]),\n",
       "       array([[ -3.55271368e-15],\n",
       "       [  6.87549264e-15],\n",
       "       [ -9.52420783e-17],\n",
       "       [ -1.52655666e-16]]),\n",
       "       array([[  9.52420783e-18],\n",
       "       [  2.29934717e-17],\n",
       "       [  1.62588398e-16],\n",
       "       [  1.62588398e-16],\n",
       "       [ -1.11022302e-16]]),\n",
       "       array([[ -1.11022302e-16]]),\n",
       "       array([[ 0.],\n",
       "       [ 0.],\n",
       "       [ 0.],\n",
       "       [ 0.],\n",
       "       [ 0.],\n",
       "       [ 0.],\n",
       "       [ 0.]]),\n",
       "       array([[ 0.]]), array([[ -1.11022302e-16]])], dtype=object)"
      ]
     },
     "execution_count": 79,
     "metadata": {},
     "output_type": "execute_result"
    }
   ],
   "source": [
    "mapper(e[e.nonzero()],q=q0.values.reshape(4,7))"
   ]
  },
  {
   "cell_type": "code",
   "execution_count": null,
   "metadata": {},
   "outputs": [],
   "source": []
  },
  {
   "cell_type": "code",
   "execution_count": 65,
   "metadata": {},
   "outputs": [
    {
     "data": {
      "text/plain": [
       "array([[  9.52420783e-18],\n",
       "       [  2.29934717e-17],\n",
       "       [  1.62588398e-16],\n",
       "       [  1.62588398e-16],\n",
       "       [ -1.11022302e-16]])"
      ]
     },
     "execution_count": 65,
     "metadata": {},
     "output_type": "execute_result"
    }
   ],
   "source": [
    "qi = m.joints['jcs_C_trans'].i_body.q0\n",
    "qj = m.joints['jcs_C_trans'].j_body.q0\n",
    "m.joints['jcs_C_trans'].equations(qi,qj)"
   ]
  },
  {
   "cell_type": "code",
   "execution_count": null,
   "metadata": {},
   "outputs": [],
   "source": []
  }
 ],
 "metadata": {
  "kernelspec": {
   "display_name": "Python 3",
   "language": "python",
   "name": "python3"
  },
  "language_info": {
   "codemirror_mode": {
    "name": "ipython",
    "version": 3
   },
   "file_extension": ".py",
   "mimetype": "text/x-python",
   "name": "python",
   "nbconvert_exporter": "python",
   "pygments_lexer": "ipython3",
   "version": "3.6.3"
  }
 },
 "nbformat": 4,
 "nbformat_minor": 2
}
