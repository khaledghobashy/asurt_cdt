{
 "cells": [
  {
   "cell_type": "markdown",
   "metadata": {},
   "source": [
    "$s$"
   ]
  },
  {
   "cell_type": "code",
   "execution_count": 6,
   "metadata": {},
   "outputs": [],
   "source": [
    "import ipywidgets as widgets\n",
    "out = widgets.Output()\n",
    "with out:\n",
    "    \n",
    "    %bookmark 'model_dir'\n",
    "    current_dir = %pwd\n",
    "    while 'models' in current_dir:\n",
    "        %cd ..\n",
    "        current_dir = %pwd\n",
    "    %bookmark 'base_dir'\n",
    "    %cd source_code\n",
    "    out.clear_output()\n",
    "%run base\n",
    "%run gui_v6\n",
    "with out:\n",
    "    %cd ..\n",
    "    %cd models/fourbar\n",
    "    out.clear_output()\n"
   ]
  },
  {
   "cell_type": "code",
   "execution_count": 7,
   "metadata": {},
   "outputs": [
    {
     "data": {
      "text/markdown": [
       "## VEHICLE DYNAMICS MODELING AND SIMULATION TOOL"
      ],
      "text/plain": [
       "<IPython.core.display.Markdown object>"
      ]
     },
     "metadata": {},
     "output_type": "display_data"
    },
    {
     "data": {
      "application/vnd.jupyter.widget-view+json": {
       "model_id": "77f021b343394c0ebbaa8733da724690",
       "version_major": 2,
       "version_minor": 0
      },
      "text/plain": [
       "VBox(children=(HBox(children=(VBox(children=(Button(description=' New', icon='file', layout=Layout(width='100p…"
      ]
     },
     "metadata": {},
     "output_type": "display_data"
    }
   ],
   "source": [
    "m=model()\n",
    "m.show()"
   ]
  },
  {
   "cell_type": "code",
   "execution_count": 8,
   "metadata": {},
   "outputs": [
    {
     "data": {
      "text/plain": [
       "OutMultiEdgeView([(rbs_ground, rbs_link, 'jcs_rev')])"
      ]
     },
     "execution_count": 8,
     "metadata": {},
     "output_type": "execute_result"
    }
   ],
   "source": [
    "m.topology.edges"
   ]
  },
  {
   "cell_type": "code",
   "execution_count": 21,
   "metadata": {},
   "outputs": [],
   "source": [
    "def equations_assembler(topology):\n",
    "    \n",
    "    edgelist = topology.edges(data='obj')\n",
    "    nodelist = topology.nodes\n",
    "    \n",
    "    n_nodes = len(nodelist)\n",
    "    n_edges = len(edgelist)\n",
    "            \n",
    "    jacobian = np.zeros((n_edges+n_nodes,n_nodes),dtype=np.object)\n",
    "    jacobian.fill(None)\n",
    "    \n",
    "    equations = np.zeros((n_edges+n_nodes),dtype=np.object)\n",
    "    \n",
    "    vel_rhs = np.zeros((n_edges+n_nodes),dtype=np.object)\n",
    "    acc_rhs = np.zeros((n_edges+n_nodes),dtype=np.object)\n",
    "    \n",
    "    reaction_vector = np.zeros((n_edges),dtype=np.object)\n",
    "    reaction_indecies = np.zeros((n_edges),dtype=np.object)\n",
    "    \n",
    "    lamda_vector = np.zeros((n_edges+n_nodes),dtype=np.object)\n",
    "    \n",
    "    node_index = dict( (node,i) for i,node in enumerate(nodelist) )\n",
    "    \n",
    "    n7 = np.arange(7)\n",
    "    for ei,e in enumerate(edgelist):\n",
    "        (u,v) = e[:2]\n",
    "        eo    = e[2]\n",
    "        \n",
    "        ui = node_index[u]\n",
    "        vi = node_index[v]\n",
    "        \n",
    "        ui7 = (ui*7)+n7\n",
    "        vi7 = (vi*7)+n7\n",
    "        \n",
    "        if jacobian[ui+n_edges,ui]==None: jacobian[ui+n_edges,ui] = (u.jac,ui7)\n",
    "        if jacobian[vi+n_edges,vi]==None: jacobian[vi+n_edges,vi] = (v.jac,vi7)\n",
    "                \n",
    "        jacobian[ei,ui] = (eo.jacobian_i,ui7,vi7)\n",
    "        jacobian[ei,vi] = (eo.jacobian_j,ui7,vi7)\n",
    "        \n",
    "        equations[ei] = (eo.equations,ui7,vi7)\n",
    "        if equations[ui+n_edges]==0: equations[ui+n_edges]=(u.equations,ui7)\n",
    "        if equations[vi+n_edges]==0: equations[vi+n_edges]=(v.equations,vi7)\n",
    "        \n",
    "        \n",
    "        vel_rhs[ei] = ((eo.vel_rhs) if eo.nc==1 else np.zeros((eo.nc,1)))\n",
    "        vel_rhs[ui+n_edges] = (np.array([[0]]) if u.nc==1 else np.zeros((7,1)))\n",
    "        vel_rhs[vi+n_edges] = (np.array([[0]]) if v.nc==1 else np.zeros((7,1)))\n",
    "        \n",
    "        acc_rhs[ei] = (eo.acc_rhs,ui7,vi7)\n",
    "        if acc_rhs[ui+n_edges]==0: acc_rhs[ui+n_edges]=(u.acc_rhs,ui7)\n",
    "        if acc_rhs[vi+n_edges]==0: acc_rhs[vi+n_edges]=(v.acc_rhs,vi7)\n",
    "            \n",
    "        reaction_vector[ei] = (eo.reactions,ui7,vi7,eo.index)\n",
    "        reaction_indecies[ei] = eo.reaction_index\n",
    "        \n",
    "        lamda_vector[ei] = eo.index\n",
    "        if lamda_vector[ui+n_edges]==0: lamda_vector[ui+n_edges]=u.index\n",
    "        if lamda_vector[vi+n_edges]==0: lamda_vector[vi+n_edges]=v.index\n",
    "        \n",
    "    #####################################################\n",
    "    # Defining vectorized functions\n",
    "    #####################################################\n",
    "    \n",
    "    def j_mapper(i,q):\n",
    "        if len(i)==3:\n",
    "            fun,bi,bj = i\n",
    "            return fun(q[bi],q[bj])\n",
    "        else:\n",
    "            fun,bi = i\n",
    "            return fun(q[bi])\n",
    "    j_vectorized = np.vectorize(j_mapper,otypes=[np.object],excluded='q')\n",
    "    \n",
    "    \n",
    "    def v_mapper(i):\n",
    "        if isinstance(i,(int,np.ndarray)):\n",
    "            return i\n",
    "        else:\n",
    "            return i()\n",
    "    v_vectorized = np.vectorize(v_mapper,otypes=[np.object])\n",
    "    \n",
    "    def a_mapper(i,q,qd):\n",
    "        if len(i)==3:\n",
    "            fun,bi,bj = i\n",
    "            return fun(q[bi],q[bj],qd[bi],qd[bj])\n",
    "        else:\n",
    "            fun,bi = i\n",
    "            return fun(qd[bi])\n",
    "    a_vectorized = np.vectorize(a_mapper,otypes=[np.object],excluded=('q','qd'))\n",
    "    \n",
    "    def r_mapper(i,q,lamda):\n",
    "        fun,bi,bj,index = i\n",
    "        return fun(q[bi],q[bj],lamda[index].values)\n",
    "    r_vectorized = np.vectorize(r_mapper,otypes=[np.object],excluded=('q','lamda'))\n",
    "    \n",
    "    ####################################################################################\n",
    "    ####################################################################################\n",
    "    \n",
    "    mass_matrix = np.zeros((n_nodes,n_nodes),dtype=np.object)\n",
    "    mass_matrix.fill(None)\n",
    "    \n",
    "    gravitational_vector = np.zeros((n_nodes),dtype=np.object)\n",
    "    centrifugal_vector   = np.zeros((n_nodes),dtype=np.object)\n",
    "    inertiaforce_vector  = np.zeros((n_nodes),dtype=np.object)\n",
    "    \n",
    "    for n in nodelist:\n",
    "        ni = node_index[n]\n",
    "        ni7 = (ni*7)+n7\n",
    "        \n",
    "        mass_matrix[ni,ni]=(n.mass_matrix,ni7)\n",
    "        \n",
    "        gravitational_vector[ni]=n.gravity\n",
    "        \n",
    "        centrifugal_vector[ni]=(n.centrifugal,ni7)\n",
    "        \n",
    "        inertiaforce_vector[ni]=(n.inertia_force,ni7)\n",
    "        \n",
    "        \n",
    "    def mass_mapper(i,q):\n",
    "        fun,bi = i\n",
    "        return fun(q[bi])\n",
    "    mass_vectorized = np.vectorize(mass_mapper,otypes=[np.object],excluded='q')\n",
    "    \n",
    "    def centrifugal_mapper(i,q,qd):\n",
    "        fun,bi = i\n",
    "        return fun(q[bi],qd[bi])\n",
    "    centrifugal_vectorized = np.vectorize(centrifugal_mapper,otypes=[np.object],excluded=('q','qd'))\n",
    "    \n",
    "    def gravity_mapper(i):\n",
    "        return i()\n",
    "    gravity_vectorized = np.vectorize(gravity_mapper,otypes=[np.object])\n",
    "    \n",
    "    \n",
    "    system = pd.Series([jacobian,\n",
    "                        jacobian.nonzero(),\n",
    "                        equations, \n",
    "                        vel_rhs, \n",
    "                        acc_rhs,\n",
    "                        reaction_vector,\n",
    "                        reaction_indecies,\n",
    "                        lamda_vector,\n",
    "                        mass_matrix,\n",
    "                        gravitational_vector,\n",
    "                        centrifugal_vector,\n",
    "                        inertiaforce_vector,\n",
    "                        j_vectorized,\n",
    "                        v_vectorized,\n",
    "                        a_vectorized,\n",
    "                        r_vectorized,\n",
    "                        mass_vectorized,\n",
    "                        centrifugal_vectorized,\n",
    "                        gravity_vectorized],\n",
    "                       index=['Jacobian','Jnzi','Ceq','Veq','Aeq','Rvec','Rind','Lind',\n",
    "                              'MassMatrix','Gravity','Centrifugal','Inertia',\n",
    "                              'Jf','Vf','Af','Rf','Mf','Cf','Gf'])\n",
    "    \n",
    "    return system\n"
   ]
  },
  {
   "cell_type": "code",
   "execution_count": 12,
   "metadata": {},
   "outputs": [],
   "source": [
    "def jacobian_evaluator(jac_blocks,nzi,mapper,q):\n",
    "    A = jac_blocks.copy()\n",
    "    A[nzi]=mapper(A[nzi],q=q)\n",
    "    return sc.sparse.bmat(A,format='csc')"
   ]
  },
  {
   "cell_type": "code",
   "execution_count": 50,
   "metadata": {},
   "outputs": [],
   "source": [
    "def coordinates_mapper(q):\n",
    "    n=len(q)\n",
    "    int2str=pd.Series(q.index,index=np.arange(0,n,1))\n",
    "    str2int=pd.Series(np.arange(0,n,1),index=q.index)\n",
    "    return int2str, str2int\n",
    "\n",
    "def extract_ind(sparse_jac,q):\n",
    "    mat=sparse_jac.A\n",
    "    rows,cols=mat.shape\n",
    "    permR=sc.linalg.lu(mat.T)[0]\n",
    "    ind_cols=permR[:,rows:]\n",
    "    maped=coordinates_mapper(q)[0]\n",
    "    ind_coord=[maped[np.argmax(ind_cols[:,i])] for i in range(cols-rows) ]\n",
    "    \n",
    "    return ind_coord, ind_cols, permR\n",
    "\n",
    "\n",
    "def dds(q0,qd0,system_equations,time_array):\n",
    "    '''\n",
    "    Dynamically Driven Systems Solver\n",
    "    '''\n",
    "    #Qa_f = system_equations.Qa\n",
    "    Cf = system_equations.Cf\n",
    "    Gf = system_equations.Gf\n",
    "    Mf  = system_equations.Mf\n",
    "    Jf = eq_f = system_equations.Jf\n",
    "    Af = system_equations.Af\n",
    "    Vf = system_equations.Vf\n",
    "    \n",
    "    Cv = system_equations.Centrifugal\n",
    "    Gv = system_equations.Gravity\n",
    "    Mm  = system_equations.MassMatrix\n",
    "    Jm = eq_f = system_equations.Jacobian\n",
    "    Av = system_equations.Aeq\n",
    "    Vv = system_equations.Veq\n",
    "    Ev = system_equations.Ceq\n",
    "    Jnzi = system_equations.Jnzi\n",
    "\n",
    "    # assigning initial conditions to the system NE equations\n",
    "    M  = sc.sparse.block_diag(Mf(Mm.diagonal(),q=q0.values),format='csc')\n",
    "    J  = jacobian_evaluator(Jm,Jnzi,Jf,q0.values)\n",
    "    Qv = np.concatenate(Cf(Cv,q=q0.values,qd=qd0.values))\n",
    "    Qg = np.concatenate(Gf(Gv))\n",
    "    Qt = (Qv+Qg)\n",
    "    ac = np.concatenate(Af(Av,q=q0.values,qd=qd0.values))\n",
    "    \n",
    "    # Initiating coordinate partitioning\n",
    "    qind=extract_ind(J,q0)\n",
    "    qstr=qind[0]\n",
    "    Ids=qind[1]\n",
    "    perm_matrix = qind[2]\n",
    "    qind_index=list(coordinates_mapper(q0)[1][qstr])\n",
    "    print('DOF : %s \\n' %len(qstr))\n",
    "    print('Independent Coordinates are: %s with indices: %s \\n'%(qstr,qind_index))\n",
    "    \n",
    "    \n",
    "    # creating dataframes to hold the simulation results at each timestep\n",
    "    # with initial conditions at t0\n",
    "    position_df=pd.DataFrame(columns=q0.index)\n",
    "    position_df.loc[0]=q0\n",
    "    \n",
    "    velocity_df=pd.DataFrame(columns=q0.index)\n",
    "    velocity_df.loc[0]=qd0\n",
    "    \n",
    "    acceleration_df=pd.DataFrame(columns=q0.index)\n",
    "    \n",
    "    lamda_df=pd.DataFrame(columns=np.concatenate(system_equations.Lind))\n",
    "    \n",
    "    JR_df=pd.DataFrame(columns=np.concatenate(system_equations.Rind))\n",
    "    \n",
    "\n",
    "\n",
    "    # assembling the coefficient matrix and the rhs vector and solving for\n",
    "    # system accelerations and lagrange multipliers\n",
    "    coeff_matrix=sc.sparse.bmat([[M,Cq.T],[Cq,None]],format='csc')\n",
    "    b_vector=np.concatenate([Qt,ac])\n",
    "    x=sc.sparse.linalg.spsolve(coeff_matrix,b_vector)\n",
    "    \n",
    "    # updating the dataframes with the evaluated results\n",
    "    qdd0n  = x[:7*nb] # the first 7xnb elements in the x vector\n",
    "    lamda0 = x[7*nb:] # the rest of elements in the x vector\n",
    "    acceleration_df.loc[0]=qdd0n\n",
    "    lamda_df.loc[0]=lamda0\n",
    "    reaction=JR_f(joints,q0,lamda_df.loc[0])\n",
    "    JR_df.loc[0]=reaction.values.reshape((len(reaction,)))\n",
    "\n",
    "    \n",
    "    # Setting up the integrator function and the initial conditions\n",
    "    ssm=state_space_creator(qind_index)\n",
    "    r=ode(ssm).set_integrator('dop853')\n",
    "    y0=assign_initial_conditions(q0,qd0,qstr)\n",
    "    r.set_initial_value(y0).set_f_params(M,Cq,Qt,lamda0)\n",
    "    \n",
    "    # Setting up the time array to be used in integration steps and starting\n",
    "    # the integration\n",
    "    t=np.arange(0,sim_time,stepsize)\n",
    "    for i,dt in enumerate(t):\n",
    "#        print('time_step: '+str(i))\n",
    "        progress_bar(len(t),i)\n",
    "\n",
    "        r.integrate(dt)\n",
    "#        print(r.y)\n",
    "#        if not r.successful():\n",
    "#            print(\"BREAKING SOLVER\")\n",
    "#            return position_df,velocity_df,acceleration_df,JR_df\n",
    "        \n",
    "        # creating the guess vector for the vector q as the values of the \n",
    "        # previous step and the value of newly evaluated independent coordinate\n",
    "        guess=position_df.loc[i]\n",
    "        guess[qstr]=r.y[:len(r.y)//2]\n",
    "        \n",
    "        # Evaluating the dependent vector q using newton raphson\n",
    "        dependent=nr_dds(eq_f,Cq_f,guess,bodies,joints,actuators,Ids)\n",
    "        position_df.loc[i+1]=dependent[0]\n",
    "        Cq_new=dependent[1]\n",
    "        # Calculating the system velocities\n",
    "        vrhs=velf(actuators)\n",
    "        vind=np.array(r.y[len(r.y)//2:]).reshape((len(r.y)//2,1))\n",
    "        vrhs=np.concatenate([vrhs,vind])\n",
    "        velocity_df.loc[i+1]=sc.sparse.linalg.spsolve(Cq_new,vrhs)\n",
    "        \n",
    "        \n",
    "        q=position_df.loc[i+1]\n",
    "        qd=velocity_df.loc[i+1]\n",
    "        \n",
    "        # Evaluating the new coeff matrix bloks of the system NE equations\n",
    "        M  = M_f(q,bodies)\n",
    "        Cq = Cq_f(q,bodies,joints,actuators)\n",
    "        Qa = Qa_f(forces,q,qd)\n",
    "        Qv = Qv_f(bodies,q,qd)\n",
    "        Qg = Qg_f(bodies)\n",
    "        Qt = (Qa+Qv+Qg).reshape((7*nb,))\n",
    "        ac = accf(q,qd,bodies,joints,actuators)\n",
    "\n",
    "        coeff_matrix=sc.sparse.bmat([[M,Cq.T],[Cq,None]],format='csc')\n",
    "        b_vector=np.concatenate([Qt,ac])\n",
    "        # Evaluating the acceleration and lagrange mult. vector\n",
    "        x=sc.sparse.linalg.spsolve(coeff_matrix,b_vector)\n",
    "        \n",
    "        # updating the dataframes with the evaluated results\n",
    "        qdd   = x[:7*nb] # the first 7xnb elements in the x vector\n",
    "        lamda = x[7*nb:] # the rest of elements in the x vector\n",
    "        acceleration_df.loc[i+1]=qdd\n",
    "        lamda_df.loc[i+1]=lamda\n",
    "#        spring_df.loc[i+1]=[spring.defflection,spring.velocity,spring.springforce,spring.damperforce]\n",
    "        reaction=JR_f(joints,q,lamda_df.loc[i+1])\n",
    "        JR_df.loc[i+1]=reaction.values.reshape((len(reaction,)))\n",
    "        \n",
    "\n",
    "        # Setting the ssm input parameters\n",
    "        r.set_f_params(M,Cq_new[:M.shape[0]-len(qind_index),:],Qt,lamda)\n",
    "    \n",
    "    \n",
    "    return position_df,velocity_df,acceleration_df,JR_df\n",
    "    return M,J,Qt,ac\n"
   ]
  },
  {
   "cell_type": "code",
   "execution_count": 24,
   "metadata": {},
   "outputs": [
    {
     "data": {
      "text/plain": [
       "array(['jcs_rev_Fx', 'jcs_rev_Fy', 'jcs_rev_Fz', 'jcs_rev_Mx',\n",
       "       'jcs_rev_My', 'jcs_rev_Mz'],\n",
       "      dtype='<U10')"
      ]
     },
     "execution_count": 24,
     "metadata": {},
     "output_type": "execute_result"
    }
   ],
   "source": [
    "import scipy as sc\n",
    "q0=pd.concat([i.q0 for i in m.topology.nodes])\n",
    "assembled = equations_assembler(m.topology)\n",
    "np.concatenate(assembled.Rind)"
   ]
  },
  {
   "cell_type": "code",
   "execution_count": 52,
   "metadata": {},
   "outputs": [
    {
     "name": "stdout",
     "output_type": "stream",
     "text": [
      "DOF : 3 \n",
      "\n",
      "Independent Coordinates are: ['rbs_link.z', 'rbs_link.e0', 'rbs_link.y'] with indices: [9, 10, 8] \n",
      "\n"
     ]
    },
    {
     "data": {
      "text/plain": [
       "(<14x14 sparse matrix of type '<class 'numpy.float64'>'\n",
       " \twith 25 stored elements in Compressed Sparse Column format>,\n",
       " <11x14 sparse matrix of type '<class 'numpy.float64'>'\n",
       " \twith 29 stored elements in Compressed Sparse Column format>,\n",
       " array([[  0.00000000e+00],\n",
       "        [  0.00000000e+00],\n",
       "        [ -9.81000000e+03],\n",
       "        [  0.00000000e+00],\n",
       "        [  0.00000000e+00],\n",
       "        [  0.00000000e+00],\n",
       "        [  0.00000000e+00],\n",
       "        [  0.00000000e+00],\n",
       "        [  0.00000000e+00],\n",
       "        [ -1.06787918e+08],\n",
       "        [  0.00000000e+00],\n",
       "        [  0.00000000e+00],\n",
       "        [  0.00000000e+00],\n",
       "        [  0.00000000e+00]]),\n",
       " matrix([[ 2000.],\n",
       "         [    0.],\n",
       "         [    0.],\n",
       "         [    0.],\n",
       "         [    0.],\n",
       "         [    0.],\n",
       "         [    0.],\n",
       "         [    0.],\n",
       "         [    0.],\n",
       "         [    0.],\n",
       "         [    2.]]))"
      ]
     },
     "execution_count": 52,
     "metadata": {},
     "output_type": "execute_result"
    }
   ],
   "source": [
    "dds(q0,q0,assembled,0)"
   ]
  },
  {
   "cell_type": "code",
   "execution_count": 5,
   "metadata": {},
   "outputs": [
    {
     "data": {
      "text/plain": [
       "array([[ (<bound method spherical.jacobian_i of <constraints.spherical object at 0x000002189F9AAE48>>, array([0, 1, 2, 3, 4, 5, 6]), array([ 7,  8,  9, 10, 11, 12, 13])),\n",
       "        (<bound method spherical.jacobian_j of <constraints.spherical object at 0x000002189F9AAE48>>, array([0, 1, 2, 3, 4, 5, 6]), array([ 7,  8,  9, 10, 11, 12, 13]))],\n",
       "       [(<bound method mount.jac of rbs_ground>, array([0, 1, 2, 3, 4, 5, 6])),\n",
       "        None],\n",
       "       [None,\n",
       "        (<bound method rigid.jac of rbs_link>, array([ 7,  8,  9, 10, 11, 12, 13]))]], dtype=object)"
      ]
     },
     "execution_count": 5,
     "metadata": {},
     "output_type": "execute_result"
    }
   ],
   "source": [
    "import scipy as sc\n",
    "q0=pd.concat([i.q0 for i in m.topology.nodes])\n",
    "assembled = equations_assembler(m.topology)\n",
    "assembled.Jacobian"
   ]
  },
  {
   "cell_type": "code",
   "execution_count": 9,
   "metadata": {},
   "outputs": [
    {
     "data": {
      "text/plain": [
       "<11x14 sparse matrix of type '<class 'numpy.float64'>'\n",
       "\twith 29 stored elements in Compressed Sparse Column format>"
      ]
     },
     "execution_count": 9,
     "metadata": {},
     "output_type": "execute_result"
    }
   ],
   "source": [
    "q0=pd.concat([i.q0 for i in m.topology.nodes])\n",
    "jn = jacobian_evaluator(assembled.Jacobian,assembled.Jnzi,assembled.Jf,q0.values)\n",
    "jn"
   ]
  },
  {
   "cell_type": "code",
   "execution_count": 10,
   "metadata": {},
   "outputs": [],
   "source": [
    "perm,L,U = sc.linalg.lu(jn.A.T)"
   ]
  },
  {
   "cell_type": "code",
   "execution_count": 11,
   "metadata": {},
   "outputs": [
    {
     "data": {
      "text/plain": [
       "(11, 14)"
      ]
     },
     "execution_count": 11,
     "metadata": {},
     "output_type": "execute_result"
    }
   ],
   "source": [
    "perm.shape\n",
    "(L@U).T.shape\n",
    "(jn.A@perm).shape"
   ]
  },
  {
   "cell_type": "code",
   "execution_count": 12,
   "metadata": {},
   "outputs": [
    {
     "data": {
      "text/plain": [
       "True"
      ]
     },
     "execution_count": 12,
     "metadata": {},
     "output_type": "execute_result"
    }
   ],
   "source": [
    "np.allclose((jn.A@perm)-(L@U).T,np.zeros((11,14)))"
   ]
  },
  {
   "cell_type": "code",
   "execution_count": 13,
   "metadata": {},
   "outputs": [
    {
     "data": {
      "text/plain": [
       "array([  6.53281482e-01,  -2.70598050e-01,   6.53281482e-01,\n",
       "         0.00000000e+00,   0.00000000e+00,   0.00000000e+00,\n",
       "         1.00000000e+00,   0.00000000e+00,   0.00000000e+00,\n",
       "         0.00000000e+00,   1.00000000e+03,   0.00000000e+00,\n",
       "        -2.70598050e-01,   0.00000000e+00])"
      ]
     },
     "execution_count": 13,
     "metadata": {},
     "output_type": "execute_result"
    }
   ],
   "source": [
    "perm.T@q0.values"
   ]
  },
  {
   "cell_type": "code",
   "execution_count": 14,
   "metadata": {},
   "outputs": [
    {
     "data": {
      "text/plain": [
       "array([-0.27059805,  0.65328148, -0.27059805,  0.65328148])"
      ]
     },
     "execution_count": 14,
     "metadata": {},
     "output_type": "execute_result"
    }
   ],
   "source": [
    "m.bodies['rbs_link'].P"
   ]
  },
  {
   "cell_type": "code",
   "execution_count": 27,
   "metadata": {},
   "outputs": [
    {
     "data": {
      "text/plain": [
       "(14, 14)"
      ]
     },
     "execution_count": 27,
     "metadata": {},
     "output_type": "execute_result"
    }
   ],
   "source": [
    "mass_n = sc.sparse.block_diag(assembled['Mf'](assembled['MassMatrix'].diagonal(),q=q0.values)).A\n",
    "mass_n.shape"
   ]
  },
  {
   "cell_type": "code",
   "execution_count": 28,
   "metadata": {},
   "outputs": [
    {
     "data": {
      "text/plain": [
       "array([[  1.08856185e+04,   0.00000000e+00,   0.00000000e+00],\n",
       "       [  0.00000000e+00,   7.26039424e+09,   0.00000000e+00],\n",
       "       [  0.00000000e+00,   0.00000000e+00,   1.08856185e+04]])"
      ]
     },
     "execution_count": 28,
     "metadata": {},
     "output_type": "execute_result"
    }
   ],
   "source": [
    "Mi = (perm.T@mass_n@perm)[11:,:]\n",
    "Mid = Mi[:,0:11]\n",
    "Mii = Mi[:,11:]\n",
    "Mii"
   ]
  },
  {
   "cell_type": "code",
   "execution_count": 38,
   "metadata": {},
   "outputs": [
    {
     "data": {
      "text/plain": [
       "array([[-0.],\n",
       "       [-0.],\n",
       "       [-0.],\n",
       "       [-0.],\n",
       "       [-0.],\n",
       "       [-0.],\n",
       "       [-0.],\n",
       "       [-0.],\n",
       "       [-0.],\n",
       "       [-0.],\n",
       "       [-0.],\n",
       "       [-0.],\n",
       "       [-0.],\n",
       "       [-0.]])"
      ]
     },
     "execution_count": 38,
     "metadata": {},
     "output_type": "execute_result"
    }
   ],
   "source": [
    "Cf = assembled.Cf\n",
    "Cv = assembled.Centrifugal\n",
    "np.concatenate(Cf(Cv,q=q0.values,qi=q0.values))"
   ]
  },
  {
   "cell_type": "code",
   "execution_count": 74,
   "metadata": {},
   "outputs": [
    {
     "data": {
      "text/plain": [
       "(['rbs_link.z', 'rbs_link.e0', 'rbs_link.y'], array([[ 0.,  0.,  0.],\n",
       "        [ 0.,  0.,  0.],\n",
       "        [ 0.,  0.,  0.],\n",
       "        [ 0.,  0.,  0.],\n",
       "        [ 0.,  0.,  0.],\n",
       "        [ 0.,  0.,  0.],\n",
       "        [ 0.,  0.,  0.],\n",
       "        [ 0.,  0.,  0.],\n",
       "        [ 0.,  0.,  1.],\n",
       "        [ 1.,  0.,  0.],\n",
       "        [ 0.,  1.,  0.],\n",
       "        [ 0.,  0.,  0.],\n",
       "        [ 0.,  0.,  0.],\n",
       "        [ 0.,  0.,  0.]]))"
      ]
     },
     "execution_count": 74,
     "metadata": {},
     "output_type": "execute_result"
    }
   ],
   "source": [
    "extract_ind(jn,q0)"
   ]
  },
  {
   "cell_type": "code",
   "execution_count": null,
   "metadata": {},
   "outputs": [],
   "source": []
  }
 ],
 "metadata": {
  "kernelspec": {
   "display_name": "Python 3",
   "language": "python",
   "name": "python3"
  },
  "language_info": {
   "codemirror_mode": {
    "name": "ipython",
    "version": 3
   },
   "file_extension": ".py",
   "mimetype": "text/x-python",
   "name": "python",
   "nbconvert_exporter": "python",
   "pygments_lexer": "ipython3",
   "version": "3.6.3"
  }
 },
 "nbformat": 4,
 "nbformat_minor": 2
}
