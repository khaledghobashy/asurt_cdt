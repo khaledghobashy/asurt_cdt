{
 "cells": [
  {
   "cell_type": "markdown",
   "metadata": {},
   "source": [
    "$s$"
   ]
  },
  {
   "cell_type": "code",
   "execution_count": 1,
   "metadata": {},
   "outputs": [],
   "source": [
    "import ipywidgets as widgets\n",
    "out = widgets.Output()\n",
    "with out:\n",
    "    \n",
    "    %bookmark 'model_dir'\n",
    "    current_dir = %pwd\n",
    "    while 'models' in current_dir:\n",
    "        %cd ..\n",
    "        current_dir = %pwd\n",
    "    %bookmark 'base_dir'\n",
    "    %cd source_code\n",
    "    out.clear_output()\n",
    "%run base\n",
    "%run gui_v6\n",
    "with out:\n",
    "    %cd ..\n",
    "    %cd models/slider_cranck\n",
    "    out.clear_output()\n"
   ]
  },
  {
   "cell_type": "code",
   "execution_count": 2,
   "metadata": {},
   "outputs": [
    {
     "data": {
      "text/markdown": [
       "## VEHICLE DYNAMICS MODELING AND SIMULATION TOOL"
      ],
      "text/plain": [
       "<IPython.core.display.Markdown object>"
      ]
     },
     "metadata": {},
     "output_type": "display_data"
    },
    {
     "data": {
      "application/vnd.jupyter.widget-view+json": {
       "model_id": "eaf24be3d020446ba1907cb2661834a3",
       "version_major": 2,
       "version_minor": 0
      },
      "text/plain": [
       "VBox(children=(HBox(children=(VBox(children=(Button(description=' New', icon='file', layout=Layout(width='100p…"
      ]
     },
     "metadata": {},
     "output_type": "display_data"
    }
   ],
   "source": [
    "m=model()\n",
    "m.show()"
   ]
  },
  {
   "cell_type": "code",
   "execution_count": 3,
   "metadata": {},
   "outputs": [
    {
     "data": {
      "application/vnd.jupyter.widget-view+json": {
       "model_id": "e94b37c1422a4a1aaa6223a5acada57a",
       "version_major": 2,
       "version_minor": 0
      },
      "text/plain": [
       "Output()"
      ]
     },
     "metadata": {},
     "output_type": "display_data"
    }
   ],
   "source": [
    "m.show_data_flow()"
   ]
  },
  {
   "cell_type": "code",
   "execution_count": 6,
   "metadata": {},
   "outputs": [
    {
     "data": {
      "application/vnd.jupyter.widget-view+json": {
       "model_id": "cea33c5c4cf048cb9f520ef604a41d68",
       "version_major": 2,
       "version_minor": 0
      },
      "text/plain": [
       "Output()"
      ]
     },
     "metadata": {},
     "output_type": "display_data"
    }
   ],
   "source": [
    "m.object_predecessors('jcs_A_sph')"
   ]
  },
  {
   "cell_type": "code",
   "execution_count": 4,
   "metadata": {},
   "outputs": [
    {
     "data": {
      "text/plain": [
       "rbs_connecting    rbs_connecting\n",
       "rbs_cranck            rbs_cranck\n",
       "rbs_ground            rbs_ground\n",
       "rbs_slider            rbs_slider\n",
       "dtype: object"
      ]
     },
     "execution_count": 4,
     "metadata": {},
     "output_type": "execute_result"
    }
   ],
   "source": [
    "m.bodies"
   ]
  },
  {
   "cell_type": "code",
   "execution_count": 5,
   "metadata": {},
   "outputs": [
    {
     "data": {
      "text/plain": [
       "jcs_A_sph      <constraints.spherical object at 0x00000215821...\n",
       "jcs_B_uni      <constraints.universal object at 0x00000215821...\n",
       "jcs_C_trans    <constraints.translational object at 0x0000021...\n",
       "jcs_O_rev      <constraints.revolute object at 0x000002158216...\n",
       "dtype: object"
      ]
     },
     "execution_count": 5,
     "metadata": {},
     "output_type": "execute_result"
    }
   ],
   "source": [
    "m.joints"
   ]
  },
  {
   "cell_type": "code",
   "execution_count": 3,
   "metadata": {},
   "outputs": [],
   "source": [
    "from constraints import translational_actuator\n",
    "from solvers import dds"
   ]
  },
  {
   "cell_type": "code",
   "execution_count": 8,
   "metadata": {},
   "outputs": [
    {
     "data": {
      "text/plain": [
       "'act'"
      ]
     },
     "execution_count": 8,
     "metadata": {},
     "output_type": "execute_result"
    }
   ],
   "source": [
    "slider_actuator = translational_actuator('act',m.joints['jcs_slider_ground_trans'])\n",
    "slider_actuator.name"
   ]
  },
  {
   "cell_type": "code",
   "execution_count": 7,
   "metadata": {},
   "outputs": [
    {
     "name": "stdout",
     "output_type": "stream",
     "text": [
      "DOF : 1 \n",
      "\n",
      "Independent Coordinates are: ['rbs_slider.x'] with indices: [21] \n",
      "\n",
      "time_step: 0\n",
      "[ 210.    0.]\n",
      "time_step: 1\n",
      "[ 210.00151652    3.03304283]\n"
     ]
    },
    {
     "name": "stderr",
     "output_type": "stream",
     "text": [
      "C:\\Users\\khale\\Anaconda3\\lib\\site-packages\\scipy\\integrate\\_ode.py:1035: UserWarning: dop853: step size becomes too small\n",
      "  self.messages.get(idid, 'Unexpected idid=%s' % idid))\n"
     ]
    },
    {
     "name": "stdout",
     "output_type": "stream",
     "text": [
      "time_step: 2\n",
      "[ 210.00606606    6.06603473]\n",
      "time_step: 3\n",
      "[ 210.01364851    9.09887382]\n",
      "time_step: 4\n",
      "[ 210.02426368   12.13145815]\n",
      "time_step: 5\n",
      "[ 210.03791125   15.16368564]\n",
      "time_step: 6\n",
      "[ 210.05459082   18.19545398]\n",
      "time_step: 7\n",
      "[ 210.07430188   21.22666059]\n",
      "time_step: 8\n",
      "[ 210.09704381   24.25720254]\n",
      "time_step: 9\n",
      "[ 210.1228159    27.28697645]\n",
      "time_step: 10\n",
      "[ 210.15161733   30.31587846]\n",
      "time_step: 11\n",
      "[ 210.18344717   33.34380414]\n",
      "time_step: 12\n",
      "[ 210.2183044    36.37064837]\n",
      "time_step: 13\n",
      "[ 210.25618787   39.39630536]\n",
      "time_step: 14\n",
      "[ 210.29709636   42.42066847]\n",
      "time_step: 15\n",
      "[ 210.34102851   45.44363018]\n",
      "time_step: 16\n",
      "[ 210.38798286   48.46508203]\n",
      "time_step: 17\n",
      "[ 210.43795786   51.4849145 ]\n",
      "time_step: 18\n",
      "[ 210.49095183   54.50301693]\n",
      "time_step: 19\n",
      "[ 210.54696298   57.51927746]\n",
      "time_step: 20\n",
      "[ 210.60598941   60.53358292]\n",
      "time_step: 21\n",
      "[ 210.66802911   63.54581875]\n",
      "time_step: 22\n",
      "[ 210.73307995   66.55586889]\n",
      "time_step: 23\n",
      "[ 210.80113969   69.5636157 ]\n",
      "time_step: 24\n",
      "[ 210.87220597   72.56893987]\n",
      "time_step: 25\n",
      "[ 210.9462763    75.57172029]\n",
      "time_step: 26\n",
      "[ 211.02334808   78.57183396]\n",
      "time_step: 27\n",
      "[ 211.10341857   81.5691559 ]\n",
      "time_step: 28\n",
      "[ 211.18648493   84.563559  ]\n",
      "time_step: 29\n",
      "[ 211.27254417   87.55491392]\n",
      "time_step: 30\n",
      "[ 211.36159317   90.54308898]\n",
      "time_step: 31\n",
      "[ 211.45362869   93.52795003]\n",
      "time_step: 32\n",
      "[ 211.54864734   96.50936029]\n",
      "time_step: 33\n",
      "[ 211.64664561   99.48718026]\n",
      "time_step: 34\n",
      "[ 211.74761984  102.46126754]\n",
      "time_step: 35\n",
      "[ 211.85156621  105.43147669]\n",
      "time_step: 36\n",
      "[ 211.95848078  108.39765911]\n",
      "time_step: 37\n",
      "[ 212.06835944  111.3596628 ]\n",
      "time_step: 38\n",
      "[ 212.18119794  114.31733229]\n",
      "time_step: 39\n",
      "[ 212.29699186  117.27050837]\n",
      "time_step: 40\n",
      "[ 212.41573662  120.21902797]\n",
      "time_step: 41\n",
      "[ 212.5374275   123.16272393]\n",
      "time_step: 42\n",
      "[ 212.66205957  126.10142481]\n",
      "time_step: 43\n",
      "[ 212.78962776  129.03495466]\n",
      "time_step: 44\n",
      "[ 212.92012681  131.96313281]\n",
      "time_step: 45\n",
      "[ 213.05355126  134.88577362]\n",
      "time_step: 46\n",
      "[ 213.18989549  137.80268625]\n",
      "time_step: 47\n",
      "[ 213.32915367  140.71367435]\n",
      "time_step: 48\n",
      "[ 213.47131978  143.61853584]\n",
      "time_step: 49\n",
      "[ 213.61638758  146.51706255]\n",
      "time_step: 50\n",
      "[ 213.76435063  149.40903997]\n",
      "time_step: 51\n",
      "[ 213.91520227  152.29424688]\n",
      "time_step: 52\n",
      "[ 214.06893562  155.172455  ]\n",
      "time_step: 53\n",
      "[ 214.22554356  158.04342865]\n",
      "time_step: 54\n",
      "[ 214.38501874  160.90692432]\n",
      "time_step: 55\n",
      "[ 214.54735355  163.76269027]\n",
      "time_step: 56\n",
      "[ 214.71254013  166.61046608]\n",
      "time_step: 57\n",
      "[ 214.88057035  169.44998219]\n",
      "time_step: 58\n",
      "[ 215.05143582  172.28095938]\n",
      "time_step: 59\n",
      "[ 215.22512785  175.10310823]\n",
      "time_step: 60\n",
      "[ 215.40163747  177.91612857]\n",
      "time_step: 61\n",
      "[ 215.58095539  180.71970885]\n",
      "time_step: 62\n",
      "[ 215.76307201  183.51352549]\n",
      "time_step: 63\n",
      "[ 215.94797739  186.29724215]\n",
      "time_step: 64\n",
      "[ 216.13566127  189.07050906]\n",
      "time_step: 65\n",
      "[ 216.326113    191.83296211]\n",
      "time_step: 66\n",
      "[ 216.5193216   194.58422206]\n",
      "time_step: 67\n",
      "[ 216.71527565  197.3238936 ]\n",
      "time_step: 68\n",
      "[ 216.91396338  200.05156431]\n",
      "time_step: 69\n",
      "[ 217.11537257  202.76680361]\n",
      "time_step: 70\n",
      "[ 217.31949055  205.4691616 ]\n",
      "time_step: 71\n",
      "[ 217.52630421  208.1581678 ]\n",
      "time_step: 72\n",
      "[ 217.73579996  210.83332977]\n",
      "time_step: 73\n",
      "[ 217.94796369  213.49413166]\n",
      "time_step: 74\n",
      "[ 218.16278077  216.14003258]\n",
      "time_step: 75\n",
      "[ 218.38023602  218.77046491]\n",
      "time_step: 76\n",
      "[ 218.60031367  221.38483236]\n",
      "time_step: 77\n",
      "[ 218.82299734  223.98250795]\n",
      "time_step: 78\n",
      "[ 219.04827001  226.56283172]\n",
      "time_step: 79\n",
      "[ 219.27611398  229.12510831]\n",
      "time_step: 80\n",
      "[ 219.50651084  231.66860426]\n",
      "time_step: 81\n",
      "[ 219.73944141  234.19254504]\n",
      "time_step: 82\n",
      "[ 219.97488574  236.69611181]\n",
      "time_step: 83\n",
      "[ 220.21282302  239.17843786]\n",
      "time_step: 84\n",
      "[ 220.45323154  241.63860467]\n",
      "time_step: 85\n",
      "[ 220.69608866  244.075637  ]\n",
      "time_step: 86\n",
      "[ 220.94137073  246.48849955]\n",
      "time_step: 87\n",
      "[ 221.18905302  248.87609019]\n",
      "time_step: 88\n",
      "[ 221.43910968  251.23723443]\n",
      "time_step: 89\n",
      "[ 221.69151364  253.57067876]\n",
      "time_step: 90\n",
      "[ 221.94623652  255.87508318]\n",
      "time_step: 91\n",
      "[ 222.20324857  258.14901287]\n",
      "time_step: 92\n",
      "[ 222.46251854  260.39092872]\n",
      "time_step: 93\n",
      "[ 222.72401359  262.59917675]\n",
      "time_step: 94\n",
      "[ 222.98769917  264.7719761 ]\n",
      "time_step: 95\n",
      "[ 223.25353886  266.90740534]\n",
      "time_step: 96\n",
      "[ 223.52149426  269.00338693]\n",
      "time_step: 97\n",
      "[ 223.79152478  271.05766948]\n",
      "time_step: 98\n",
      "[ 224.06358752  273.06780725]\n",
      "time_step: 99\n",
      "[ 224.33763699  275.03113664]\n",
      "time_step: 100\n",
      "[ 224.61362494  276.94474897]\n",
      "time_step: 101\n",
      "[ 224.89150004  278.80545868]\n",
      "time_step: 102\n",
      "[ 225.17120765  280.60976638]\n",
      "time_step: 103\n",
      "[ 225.45268944  282.35381518]\n",
      "time_step: 104\n",
      "[ 225.73588302  284.0333393 ]\n",
      "time_step: 105\n",
      "[ 226.02072149  285.64360287]\n",
      "time_step: 106\n",
      "[ 226.30713296  287.17932669]\n",
      "time_step: 107\n",
      "[ 226.59503992  288.63460004]\n",
      "time_step: 108\n",
      "[ 226.88435861  290.00277357]\n",
      "time_step: 109\n",
      "[ 227.17499816  291.27632821]\n",
      "time_step: 110\n",
      "[ 227.46685968  292.44671324]\n",
      "time_step: 111\n",
      "[ 227.75983511  293.50414446]\n",
      "time_step: 112\n",
      "[ 228.05380586  294.43734959]\n",
      "time_step: 113\n",
      "[ 228.34864115  295.23324378]\n",
      "time_step: 114\n",
      "[ 228.64419603  295.8765101 ]\n",
      "time_step: 115\n",
      "[ 228.94030881  296.34904967]\n",
      "time_step: 116\n",
      "[ 229.23679796  296.62924877]\n",
      "time_step: 117\n",
      "[ 229.53345807  296.69097874]\n",
      "time_step: 118\n",
      "[ 229.83005468  296.50223009]\n",
      "time_step: 119\n",
      "[ 230.12631736  296.02314163]\n",
      "time_step: 120\n",
      "[ 230.4219305   295.20314317]\n",
      "time_step: 121\n",
      "[ 230.71652039  293.97663679]\n",
      "time_step: 122\n",
      "[ 231.00963682  292.25621536]\n",
      "time_step: 123\n",
      "[ 231.30072567  289.92149087]\n",
      "time_step: 124\n",
      "[ 231.5890862  286.7995584]\n",
      "time_step: 125\n",
      "[ 231.87380002  282.62808448]\n",
      "time_step: 126\n",
      "[ 232.15224617  274.26422498]\n",
      "time_step: 127\n",
      "[ 232.42030217  261.84775952]\n",
      "time_step: 128\n",
      "[ 232.67146036  240.46863075]\n",
      "time_step: 129\n",
      "[ 232.88063345  177.87754441]\n",
      "Iterations exceded \n",
      "\n",
      "time_step: 130\n",
      "[ 233.06005199  180.95954253]\n",
      "Iterations exceded \n",
      "\n",
      "time_step: 131\n",
      "[ 233.24057787  180.09220776]\n",
      "Iterations exceded \n",
      "\n",
      "time_step: 132\n",
      "[ 233.42218416  183.12037676]\n",
      "time_step: 133\n"
     ]
    },
    {
     "name": "stderr",
     "output_type": "stream",
     "text": [
      "C:\\Users\\khale\\Anaconda3\\lib\\site-packages\\scipy\\integrate\\_ode.py:1035: UserWarning: dop853: larger nmax is needed\n",
      "  self.messages.get(idid, 'Unexpected idid=%s' % idid))\n"
     ]
    },
    {
     "name": "stdout",
     "output_type": "stream",
     "text": [
      "[ 233.42218416  183.12037676]\n",
      "time_step: 134\n",
      "[ 233.42218416  183.12037676]\n",
      "time_step: 135\n",
      "[ 233.42218416  183.12037676]\n",
      "time_step: 136\n",
      "[ 233.42218416  183.12037676]\n",
      "time_step: 137\n",
      "[ 233.42218416  183.12037676]\n",
      "time_step: 138\n",
      "[ 233.42218416  183.12037676]\n",
      "time_step: 139\n",
      "[ 233.42218416  183.12037676]\n",
      "time_step: 140\n",
      "[ 233.42218416  183.12037676]\n",
      "time_step: 141\n",
      "[ 233.42218416  183.12037676]\n",
      "time_step: 142\n",
      "[ 233.42218416  183.12037676]\n",
      "time_step: 143\n",
      "[ 233.42218416  183.12037676]\n",
      "time_step: 144\n",
      "[ 233.42218416  183.12037676]\n",
      "time_step: 145\n",
      "[ 233.42218416  183.12037676]\n",
      "time_step: 146\n",
      "[ 233.42218416  183.12037676]\n",
      "time_step: 147\n",
      "[ 233.42218416  183.12037676]\n",
      "time_step: 148\n",
      "[ 233.42218416  183.12037676]\n",
      "time_step: 149\n",
      "[ 233.42218416  183.12037676]\n"
     ]
    }
   ],
   "source": [
    "q0  = pd.concat([i.dic    for i in m.bodies])\n",
    "qd0 = pd.concat([i.qd0()    for i in m.bodies])\n",
    "topology_writer(m.bodies,m.joints,[],[],'slider_crank_data_dyn')\n",
    "\n",
    "\n",
    "pos_df,vel_df,acc_df,reactionss=dds(q0,qd0,m.bodies,m.joints,[],[],'slider_crank_data_dyn',0.15,0.001)"
   ]
  },
  {
   "cell_type": "code",
   "execution_count": 14,
   "metadata": {},
   "outputs": [
    {
     "data": {
      "image/png": "[encoded data removed]",
      "text/plain": [
       "<matplotlib.figure.Figure at 0x21584ac50f0>"
      ]
     },
     "metadata": {},
     "output_type": "display_data"
    }
   ],
   "source": [
    "figsize=(10,3)\n",
    "plt.figure('rocker_y',figsize=figsize)\n",
    "plt.title('rocker_y', fontsize=14, fontweight='bold')\n",
    "plt.plot(pos_df['rbs_cranck.x'][:129],pos_df['rbs_cranck.z'][:129],label=r'$wc_{y}$')\n",
    "plt.legend()\n",
    "plt.tick_params(axis='x', colors='white')\n",
    "plt.tick_params(axis='y', colors='white')\n",
    "plt.xlabel('Vertical Travel (mm)')\n",
    "plt.ylabel('Displacement (mm)')\n",
    "plt.grid()\n",
    "plt.show()"
   ]
  },
  {
   "cell_type": "code",
   "execution_count": 31,
   "metadata": {},
   "outputs": [
    {
     "name": "stdout",
     "output_type": "stream",
     "text": [
      "\n",
      "Running System Kinematic Analysis:\n",
      "Progress: [                         ] 1% of 100 steps.Recalculating Jacobian\n",
      "Progress: [=========================] 100% of 100 steps."
     ]
    }
   ],
   "source": [
    "slider_actuator = translational_actuator('act',m.joints['jcs_C_trans'])\n",
    "ac = pd.Series([slider_actuator],index=['act'])\n",
    "q0   = pd.concat([i.dic    for i in m.bodies])\n",
    "topology_writer(m.bodies,m.joints,ac,[],'slider_crank_data_kin')\n",
    "t=np.linspace(0,2*np.pi,100)\n",
    "slider_actuator.pos_array=12*np.sin(t)\n",
    "\n",
    "\n",
    "pos_df,vel_df,acc_df,itr=kds(m.bodies,m.joints,ac,'slider_crank_data_kin',t)"
   ]
  },
  {
   "cell_type": "code",
   "execution_count": 4,
   "metadata": {},
   "outputs": [
    {
     "name": "stdout",
     "output_type": "stream",
     "text": [
      "\n",
      "Running System Kinematic Analysis:\n",
      "Progress: [                         ] 3% of 100 steps."
     ]
    },
    {
     "name": "stderr",
     "output_type": "stream",
     "text": [
      "E:\\Main\\Programming\\Python\\My Projects\\asurt_cdt\\source_code\\mbs_objects\\bodies_inertia.py:224: RuntimeWarning: overflow encountered in double_scalars\n",
      "  eq=(e0**2)+(e1**2)+(e2**2)+(e3**2)-1\n",
      "E:\\Main\\Programming\\Python\\My Projects\\asurt_cdt\\source_code\\mbs_objects\\bodies_inertia.py:248: RuntimeWarning: overflow encountered in double_scalars\n",
      "  eq7=(e0**2)+(e1**2)+(e2**2)+(e3**2)-1\n",
      "C:\\Users\\khale\\Anaconda3\\lib\\site-packages\\scipy\\sparse\\linalg\\dsolve\\linsolve.py:161: MatrixRankWarning: Matrix is exactly singular\n",
      "  warn(\"Matrix is exactly singular\", MatrixRankWarning)\n"
     ]
    },
    {
     "name": "stdout",
     "output_type": "stream",
     "text": [
      "Progress: [=========================] 100% of 100 steps."
     ]
    }
   ],
   "source": [
    "crank_actuator = rotational_drive('act',m.joints['jcs_O_rev'])\n",
    "ac = pd.Series([crank_actuator],index=['act'])\n",
    "topology_writer(m.bodies,m.joints,ac,[],'slider_crank_data_kin')\n",
    "t=np.linspace(0,2*np.pi,100)\n",
    "crank_actuator.pos_array=np.deg2rad(30)*np.sin(t)\n",
    "\n",
    "\n",
    "pos_df,vel_df,acc_df,itr=kds(m.bodies,m.joints,ac,'slider_crank_data_kin',t)"
   ]
  },
  {
   "cell_type": "code",
   "execution_count": 7,
   "metadata": {},
   "outputs": [
    {
     "data": {
      "text/plain": [
       "array([[ 0.70710678],\n",
       "       [ 0.        ],\n",
       "       [-0.70710678]])"
      ]
     },
     "execution_count": 7,
     "metadata": {},
     "output_type": "execute_result"
    }
   ],
   "source": [
    "m.joints['jcs_O_rev'].j_body.dcm.dot(m.joints['jcs_O_rev'].vji)"
   ]
  },
  {
   "cell_type": "code",
   "execution_count": 52,
   "metadata": {},
   "outputs": [
    {
     "data": {
      "image/png": "[encoded data removed]",
      "text/plain": [
       "<matplotlib.figure.Figure at 0x1d9990592b0>"
      ]
     },
     "metadata": {},
     "output_type": "display_data"
    }
   ],
   "source": [
    "\n",
    "\n",
    "figsize=(10,3)\n",
    "plt.figure('rocker_y',figsize=figsize)\n",
    "plt.title('rocker_y', fontsize=14, fontweight='bold')\n",
    "\n",
    "#plt.plot(np.rad2deg(crank_actuator.pos_array),pos_df['rbs_slider.x'][1:],label=r'$wc_{y}$')\n",
    "plt.plot(pos_df['rbs_cranck.x'][1:],pos_df['rbs_cranck.z'][1:],label=r'$wc_{y}$')\n",
    "\n",
    "plt.legend()\n",
    "plt.tick_params(axis='x', colors='white')\n",
    "plt.tick_params(axis='y', colors='white')\n",
    "plt.xlabel('Vertical Travel (mm)')\n",
    "plt.ylabel('Displacement (mm)')\n",
    "plt.grid()\n",
    "plt.show()"
   ]
  },
  {
   "cell_type": "code",
   "execution_count": 37,
   "metadata": {},
   "outputs": [],
   "source": [
    "import sympy as sy\n",
    "sy.init_printing(True)"
   ]
  },
  {
   "cell_type": "code",
   "execution_count": 38,
   "metadata": {},
   "outputs": [
    {
     "data": {
      "image/png": "[encoded data removed]",
      "text/latex": [
       "$$\\cos{\\left (\\theta{\\left (t \\right )} \\right )}$$"
      ],
      "text/plain": [
       "cos(θ(t))"
      ]
     },
     "execution_count": 38,
     "metadata": {},
     "output_type": "execute_result"
    }
   ],
   "source": [
    "t=sy.Symbol('t')\n",
    "theta=sy.Function('theta')(t)\n",
    "sy.cos(theta)"
   ]
  },
  {
   "cell_type": "code",
   "execution_count": 19,
   "metadata": {},
   "outputs": [
    {
     "data": {
      "image/png": "[encoded data removed]",
      "text/latex": [
       "$$- \\sin{\\left (\\theta{\\left (t \\right )} \\right )} \\frac{d}{d t} \\theta{\\left (t \\right )}$$"
      ],
      "text/plain": [
       "           d       \n",
       "-sin(θ(t))⋅──(θ(t))\n",
       "           dt      "
      ]
     },
     "execution_count": 19,
     "metadata": {},
     "output_type": "execute_result"
    }
   ],
   "source": [
    "sy.diff(sy.cos(theta),t,1)"
   ]
  },
  {
   "cell_type": "code",
   "execution_count": 20,
   "metadata": {},
   "outputs": [
    {
     "data": {
      "image/png": "[encoded data removed]",
      "text/latex": [
       "$$- (\\sin{\\left (\\theta{\\left (t \\right )} \\right )} \\frac{d^{2}}{d t^{2}}  \\theta{\\left (t \\right )} + \\cos{\\left (\\theta{\\left (t \\right )} \\right )} \\left(\\frac{d}{d t} \\theta{\\left (t \\right )}\\right)^{2})$$"
      ],
      "text/plain": [
       " ⎛            2                             2⎞\n",
       " ⎜           d                    ⎛d       ⎞ ⎟\n",
       "-⎜sin(θ(t))⋅───(θ(t)) + cos(θ(t))⋅⎜──(θ(t))⎟ ⎟\n",
       " ⎜            2                   ⎝dt      ⎠ ⎟\n",
       " ⎝          dt                               ⎠"
      ]
     },
     "execution_count": 20,
     "metadata": {},
     "output_type": "execute_result"
    }
   ],
   "source": [
    "sy.diff(sy.cos(theta),t,2)"
   ]
  },
  {
   "cell_type": "code",
   "execution_count": null,
   "metadata": {},
   "outputs": [],
   "source": []
  }
 ],
 "metadata": {
  "kernelspec": {
   "display_name": "Python 3",
   "language": "python",
   "name": "python3"
  },
  "language_info": {
   "codemirror_mode": {
    "name": "ipython",
    "version": 3
   },
   "file_extension": ".py",
   "mimetype": "text/x-python",
   "name": "python",
   "nbconvert_exporter": "python",
   "pygments_lexer": "ipython3",
   "version": "3.6.3"
  }
 },
 "nbformat": 4,
 "nbformat_minor": 2
}
