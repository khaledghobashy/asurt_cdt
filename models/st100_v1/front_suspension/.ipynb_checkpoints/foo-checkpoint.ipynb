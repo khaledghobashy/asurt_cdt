{
 "cells": [
  {
   "cell_type": "code",
   "execution_count": 1,
   "metadata": {},
   "outputs": [],
   "source": [
    "%bookmark 'model_dir'\n",
    "current_dir = %pwd\n",
    "while 'models' in current_dir:\n",
    "    %cd ..\n",
    "    current_dir = %pwd\n",
    "%bookmark 'base_dir'\n",
    "%run source_code/points_gui\n",
    "%cd 'model_dir'"
   ]
  },
  {
   "cell_type": "code",
   "execution_count": 2,
   "metadata": {},
   "outputs": [],
   "source": [
    "tab"
   ]
  },
  {
   "cell_type": "code",
   "execution_count": 3,
   "metadata": {},
   "outputs": [],
   "source": [
    "adding_points_gui()[0]"
   ]
  },
  {
   "cell_type": "code",
   "execution_count": 4,
   "metadata": {},
   "outputs": [],
   "source": [
    "%bookmark 'model_dir'\n",
    "current_dir = %pwd\n",
    "while 'models' in current_dir:\n",
    "    %cd ..\n",
    "    current_dir = %pwd\n",
    "%bookmark 'base_dir'\n",
    "%run source_code/points_gui\n",
    "%cd 'model_dir'"
   ]
  },
  {
   "cell_type": "code",
   "execution_count": 5,
   "metadata": {},
   "outputs": [],
   "source": [
    "%bookmark 'model_dir'\n",
    "current_dir = %pwd\n",
    "while 'models' in current_dir:\n",
    "    %cd ..\n",
    "    current_dir = %pwd\n",
    "%bookmark 'base_dir'\n",
    "%run source_code/points_gui\n",
    "%cd 'model_dir'"
   ]
  },
  {
   "cell_type": "code",
   "execution_count": 6,
   "metadata": {},
   "outputs": [],
   "source": [
    "adding_points_gui()[0]"
   ]
  },
  {
   "cell_type": "code",
   "execution_count": 7,
   "metadata": {},
   "outputs": [],
   "source": [
    "adding_points_gui()[0]"
   ]
  },
  {
   "cell_type": "code",
   "execution_count": 8,
   "metadata": {},
   "outputs": [],
   "source": [
    "%bookmark 'model_dir'\n",
    "current_dir = %pwd\n",
    "while 'models' in current_dir:\n",
    "    %cd ..\n",
    "    current_dir = %pwd\n",
    "%bookmark 'base_dir'\n",
    "%run source_code/points_gui\n",
    "%cd 'model_dir'"
   ]
  },
  {
   "cell_type": "code",
   "execution_count": 9,
   "metadata": {},
   "outputs": [],
   "source": [
    "adding_points_gui()[0]"
   ]
  },
  {
   "cell_type": "code",
   "execution_count": 10,
   "metadata": {},
   "outputs": [],
   "source": [
    "%bookmark 'model_dir'\n",
    "current_dir = %pwd\n",
    "while 'models' in current_dir:\n",
    "    %cd ..\n",
    "    current_dir = %pwd\n",
    "%bookmark 'base_dir'\n",
    "%run source_code/points_gui\n",
    "%cd 'model_dir'"
   ]
  },
  {
   "cell_type": "code",
   "execution_count": 11,
   "metadata": {},
   "outputs": [],
   "source": [
    "adding_points_gui()[0]"
   ]
  },
  {
   "cell_type": "code",
   "execution_count": 12,
   "metadata": {},
   "outputs": [],
   "source": [
    "%bookmark 'model_dir'\n",
    "current_dir = %pwd\n",
    "while 'models' in current_dir:\n",
    "    %cd ..\n",
    "    current_dir = %pwd\n",
    "%bookmark 'base_dir'\n",
    "%run source_code/points_gui\n",
    "%cd 'model_dir'"
   ]
  },
  {
   "cell_type": "code",
   "execution_count": 13,
   "metadata": {},
   "outputs": [],
   "source": [
    "adding_points_gui()[0]"
   ]
  },
  {
   "cell_type": "code",
   "execution_count": 14,
   "metadata": {},
   "outputs": [],
   "source": [
    "%bookmark 'model_dir'\n",
    "current_dir = %pwd\n",
    "while 'models' in current_dir:\n",
    "    %cd ..\n",
    "    current_dir = %pwd\n",
    "%bookmark 'base_dir'\n",
    "%run source_code/points_gui\n",
    "%cd 'model_dir'"
   ]
  },
  {
   "cell_type": "code",
   "execution_count": 15,
   "metadata": {},
   "outputs": [],
   "source": [
    "adding_points_gui()[0]"
   ]
  },
  {
   "cell_type": "code",
   "execution_count": 16,
   "metadata": {},
   "outputs": [],
   "source": [
    "%bookmark 'model_dir'\n",
    "current_dir = %pwd\n",
    "while 'models' in current_dir:\n",
    "    %cd ..\n",
    "    current_dir = %pwd\n",
    "%bookmark 'base_dir'\n",
    "%run source_code/points_gui\n",
    "%cd 'model_dir'"
   ]
  },
  {
   "cell_type": "code",
   "execution_count": 17,
   "metadata": {},
   "outputs": [],
   "source": [
    "adding_points_gui()[0]"
   ]
  },
  {
   "cell_type": "code",
   "execution_count": 18,
   "metadata": {},
   "outputs": [],
   "source": [
    "%bookmark 'model_dir'\n",
    "current_dir = %pwd\n",
    "while 'models' in current_dir:\n",
    "    %cd ..\n",
    "    current_dir = %pwd\n",
    "%bookmark 'base_dir'\n",
    "%run source_code/points_gui\n",
    "%cd 'model_dir'"
   ]
  },
  {
   "cell_type": "code",
   "execution_count": 19,
   "metadata": {},
   "outputs": [],
   "source": [
    "adding_points_gui()[0]"
   ]
  },
  {
   "cell_type": "code",
   "execution_count": 20,
   "metadata": {},
   "outputs": [],
   "source": [
    "%bookmark 'model_dir'\n",
    "current_dir = %pwd\n",
    "while 'models' in current_dir:\n",
    "    %cd ..\n",
    "    current_dir = %pwd\n",
    "%bookmark 'base_dir'\n",
    "%run source_code/points_gui\n",
    "%cd 'model_dir'"
   ]
  },
  {
   "cell_type": "code",
   "execution_count": 21,
   "metadata": {},
   "outputs": [],
   "source": [
    "adding_points_gui()[0]"
   ]
  },
  {
   "cell_type": "code",
   "execution_count": 22,
   "metadata": {},
   "outputs": [],
   "source": [
    "%bookmark 'model_dir'\n",
    "current_dir = %pwd\n",
    "while 'models' in current_dir:\n",
    "    %cd ..\n",
    "    current_dir = %pwd\n",
    "%bookmark 'base_dir'\n",
    "%run source_code/points_gui\n",
    "%cd 'model_dir'"
   ]
  },
  {
   "cell_type": "code",
   "execution_count": 23,
   "metadata": {},
   "outputs": [],
   "source": [
    "adding_points_gui()[0]"
   ]
  },
  {
   "cell_type": "code",
   "execution_count": 24,
   "metadata": {},
   "outputs": [],
   "source": [
    "%bookmark 'model_dir'\n",
    "current_dir = %pwd\n",
    "while 'models' in current_dir:\n",
    "    %cd ..\n",
    "    current_dir = %pwd\n",
    "%bookmark 'base_dir'\n",
    "%run source_code/points_gui\n",
    "%cd 'model_dir'"
   ]
  },
  {
   "cell_type": "code",
   "execution_count": 25,
   "metadata": {},
   "outputs": [],
   "source": [
    "adding_points_gui()[0]"
   ]
  },
  {
   "cell_type": "code",
   "execution_count": 26,
   "metadata": {},
   "outputs": [],
   "source": [
    "%bookmark 'model_dir'\n",
    "current_dir = %pwd\n",
    "while 'models' in current_dir:\n",
    "    %cd ..\n",
    "    current_dir = %pwd\n",
    "%bookmark 'base_dir'\n",
    "%run source_code/points_gui\n",
    "%cd 'model_dir'"
   ]
  },
  {
   "cell_type": "code",
   "execution_count": 27,
   "metadata": {},
   "outputs": [],
   "source": [
    "adding_points_gui()[0]"
   ]
  },
  {
   "cell_type": "code",
   "execution_count": 28,
   "metadata": {},
   "outputs": [],
   "source": [
    "%bookmark 'model_dir'\n",
    "current_dir = %pwd\n",
    "while 'models' in current_dir:\n",
    "    %cd ..\n",
    "    current_dir = %pwd\n",
    "%bookmark 'base_dir'\n",
    "%run source_code/points_gui\n",
    "%cd 'model_dir'"
   ]
  },
  {
   "cell_type": "code",
   "execution_count": 29,
   "metadata": {},
   "outputs": [],
   "source": [
    "adding_points_gui()[0]"
   ]
  },
  {
   "cell_type": "code",
   "execution_count": 30,
   "metadata": {},
   "outputs": [],
   "source": [
    "%bookmark 'model_dir'\n",
    "current_dir = %pwd\n",
    "while 'models' in current_dir:\n",
    "    %cd ..\n",
    "    current_dir = %pwd\n",
    "%bookmark 'base_dir'\n",
    "%run source_code/points_gui\n",
    "%cd 'model_dir'"
   ]
  },
  {
   "cell_type": "code",
   "execution_count": 31,
   "metadata": {},
   "outputs": [],
   "source": [
    "adding_points_gui()[0]"
   ]
  },
  {
   "cell_type": "code",
   "execution_count": 32,
   "metadata": {},
   "outputs": [],
   "source": [
    "%bookmark 'model_dir'\n",
    "current_dir = %pwd\n",
    "while 'models' in current_dir:\n",
    "    %cd ..\n",
    "    current_dir = %pwd\n",
    "%bookmark 'base_dir'\n",
    "%run source_code/points_gui\n",
    "%cd 'model_dir'"
   ]
  },
  {
   "cell_type": "code",
   "execution_count": 33,
   "metadata": {},
   "outputs": [],
   "source": [
    "adding_points_gui()[0]"
   ]
  },
  {
   "cell_type": "code",
   "execution_count": 34,
   "metadata": {},
   "outputs": [],
   "source": [
    "wid=adding_points_gui()\n",
    "wid[0]"
   ]
  },
  {
   "cell_type": "code",
   "execution_count": 35,
   "metadata": {},
   "outputs": [],
   "source": [
    "wid[2]"
   ]
  },
  {
   "cell_type": "code",
   "execution_count": 36,
   "metadata": {},
   "outputs": [],
   "source": [
    "wid[2]"
   ]
  },
  {
   "cell_type": "code",
   "execution_count": 37,
   "metadata": {},
   "outputs": [],
   "source": [
    "%bookmark 'model_dir'\n",
    "current_dir = %pwd\n",
    "while 'models' in current_dir:\n",
    "    %cd ..\n",
    "    current_dir = %pwd\n",
    "%bookmark 'base_dir'\n",
    "%run source_code/points_gui\n",
    "%cd 'model_dir'"
   ]
  },
  {
   "cell_type": "code",
   "execution_count": 38,
   "metadata": {},
   "outputs": [],
   "source": [
    "wid=adding_points_gui()\n",
    "wid[0]"
   ]
  },
  {
   "cell_type": "code",
   "execution_count": 39,
   "metadata": {},
   "outputs": [],
   "source": [
    "%bookmark 'model_dir'\n",
    "current_dir = %pwd\n",
    "while 'models' in current_dir:\n",
    "    %cd ..\n",
    "    current_dir = %pwd\n",
    "%bookmark 'base_dir'\n",
    "%run source_code/points_gui\n",
    "%cd 'model_dir'"
   ]
  },
  {
   "cell_type": "code",
   "execution_count": 40,
   "metadata": {},
   "outputs": [],
   "source": [
    "wid=adding_points_gui()\n",
    "wid[0]"
   ]
  },
  {
   "cell_type": "code",
   "execution_count": 41,
   "metadata": {},
   "outputs": [],
   "source": [
    "%bookmark 'model_dir'\n",
    "current_dir = %pwd\n",
    "while 'models' in current_dir:\n",
    "    %cd ..\n",
    "    current_dir = %pwd\n",
    "%bookmark 'base_dir'\n",
    "%run source_code/points_gui\n",
    "%cd 'model_dir'"
   ]
  },
  {
   "cell_type": "code",
   "execution_count": 42,
   "metadata": {},
   "outputs": [],
   "source": [
    "wid=adding_points_gui()\n",
    "wid[0]"
   ]
  },
  {
   "cell_type": "code",
   "execution_count": 43,
   "metadata": {},
   "outputs": [],
   "source": [
    "%bookmark 'model_dir'\n",
    "current_dir = %pwd\n",
    "while 'models' in current_dir:\n",
    "    %cd ..\n",
    "    current_dir = %pwd\n",
    "%bookmark 'base_dir'\n",
    "%run source_code/points_gui\n",
    "%cd 'model_dir'"
   ]
  },
  {
   "cell_type": "code",
   "execution_count": 44,
   "metadata": {},
   "outputs": [],
   "source": [
    "wid=adding_points_gui()\n",
    "wid[0]"
   ]
  },
  {
   "cell_type": "code",
   "execution_count": 45,
   "metadata": {},
   "outputs": [],
   "source": [
    "%bookmark 'model_dir'\n",
    "current_dir = %pwd\n",
    "while 'models' in current_dir:\n",
    "    %cd ..\n",
    "    current_dir = %pwd\n",
    "%bookmark 'base_dir'\n",
    "%run source_code/points_gui\n",
    "%cd 'model_dir'"
   ]
  },
  {
   "cell_type": "code",
   "execution_count": 46,
   "metadata": {},
   "outputs": [],
   "source": [
    "wid=adding_points_gui()\n",
    "wid[0]"
   ]
  },
  {
   "cell_type": "code",
   "execution_count": 47,
   "metadata": {},
   "outputs": [],
   "source": [
    "wid[2]"
   ]
  },
  {
   "cell_type": "code",
   "execution_count": 48,
   "metadata": {},
   "outputs": [],
   "source": [
    "wid[2]"
   ]
  },
  {
   "cell_type": "code",
   "execution_count": 49,
   "metadata": {},
   "outputs": [],
   "source": [
    "%bookmark 'model_dir'\n",
    "current_dir = %pwd\n",
    "while 'models' in current_dir:\n",
    "    %cd ..\n",
    "    current_dir = %pwd\n",
    "%bookmark 'base_dir'\n",
    "%run source_code/points_gui\n",
    "%cd 'model_dir'"
   ]
  },
  {
   "cell_type": "code",
   "execution_count": 50,
   "metadata": {},
   "outputs": [],
   "source": [
    "wid=adding_points_gui()\n",
    "wid[0]"
   ]
  },
  {
   "cell_type": "code",
   "execution_count": 51,
   "metadata": {},
   "outputs": [],
   "source": [
    "%bookmark 'model_dir'\n",
    "current_dir = %pwd\n",
    "while 'models' in current_dir:\n",
    "    %cd ..\n",
    "    current_dir = %pwd\n",
    "%bookmark 'base_dir'\n",
    "%run source_code/points_gui\n",
    "%cd 'model_dir'"
   ]
  },
  {
   "cell_type": "code",
   "execution_count": 52,
   "metadata": {},
   "outputs": [],
   "source": [
    "wid=adding_points_gui()\n",
    "wid[0]"
   ]
  },
  {
   "cell_type": "code",
   "execution_count": 53,
   "metadata": {},
   "outputs": [],
   "source": [
    "widgets.Output()"
   ]
  },
  {
   "cell_type": "code",
   "execution_count": 54,
   "metadata": {},
   "outputs": [],
   "source": [
    "w=widgets.Output()"
   ]
  },
  {
   "cell_type": "code",
   "execution_count": 55,
   "metadata": {},
   "outputs": [],
   "source": [
    "w"
   ]
  },
  {
   "cell_type": "code",
   "execution_count": 56,
   "metadata": {},
   "outputs": [],
   "source": [
    "w.outputs"
   ]
  },
  {
   "cell_type": "code",
   "execution_count": 57,
   "metadata": {},
   "outputs": [],
   "source": [
    "w.outputs=wid[2]"
   ]
  },
  {
   "cell_type": "code",
   "execution_count": 58,
   "metadata": {},
   "outputs": [],
   "source": [
    "w.outputs=(wid[2],)"
   ]
  },
  {
   "cell_type": "code",
   "execution_count": 59,
   "metadata": {},
   "outputs": [],
   "source": [
    "print(wid[2])"
   ]
  },
  {
   "cell_type": "code",
   "execution_count": 60,
   "metadata": {},
   "outputs": [],
   "source": [
    "repr(wid[2])"
   ]
  },
  {
   "cell_type": "code",
   "execution_count": 61,
   "metadata": {},
   "outputs": [],
   "source": [
    "with w:\n",
    "    wid[2]"
   ]
  },
  {
   "cell_type": "code",
   "execution_count": 62,
   "metadata": {},
   "outputs": [],
   "source": [
    "with w:\n",
    "    return wid[2]"
   ]
  },
  {
   "cell_type": "code",
   "execution_count": 63,
   "metadata": {},
   "outputs": [],
   "source": [
    "with w:\n",
    "    print( wid[2])"
   ]
  },
  {
   "cell_type": "code",
   "execution_count": 64,
   "metadata": {},
   "outputs": [],
   "source": [
    "w=widgets.Output()"
   ]
  },
  {
   "cell_type": "code",
   "execution_count": 65,
   "metadata": {},
   "outputs": [],
   "source": [
    "with w:\n",
    "    print( wid[2])"
   ]
  },
  {
   "cell_type": "code",
   "execution_count": 66,
   "metadata": {},
   "outputs": [],
   "source": [
    "%bookmark 'model_dir'\n",
    "current_dir = %pwd\n",
    "while 'models' in current_dir:\n",
    "    %cd ..\n",
    "    current_dir = %pwd\n",
    "%bookmark 'base_dir'\n",
    "%run source_code/points_gui\n",
    "%cd 'model_dir'"
   ]
  },
  {
   "cell_type": "code",
   "execution_count": 67,
   "metadata": {},
   "outputs": [],
   "source": [
    "wid=adding_points_gui()\n",
    "wid[0]"
   ]
  },
  {
   "cell_type": "code",
   "execution_count": 68,
   "metadata": {},
   "outputs": [],
   "source": [
    "%bookmark 'model_dir'\n",
    "current_dir = %pwd\n",
    "while 'models' in current_dir:\n",
    "    %cd ..\n",
    "    current_dir = %pwd\n",
    "%bookmark 'base_dir'\n",
    "%run source_code/points_gui\n",
    "%cd 'model_dir'"
   ]
  },
  {
   "cell_type": "code",
   "execution_count": 69,
   "metadata": {},
   "outputs": [],
   "source": [
    "wid=adding_points_gui()\n",
    "wid[0]"
   ]
  },
  {
   "cell_type": "code",
   "execution_count": 70,
   "metadata": {},
   "outputs": [],
   "source": [
    "%bookmark 'model_dir'\n",
    "current_dir = %pwd\n",
    "while 'models' in current_dir:\n",
    "    %cd ..\n",
    "    current_dir = %pwd\n",
    "%bookmark 'base_dir'\n",
    "%run source_code/points_gui\n",
    "%cd 'model_dir'"
   ]
  },
  {
   "cell_type": "code",
   "execution_count": 71,
   "metadata": {},
   "outputs": [],
   "source": [
    "wid=adding_points_gui()\n",
    "wid[0]"
   ]
  },
  {
   "cell_type": "code",
   "execution_count": 72,
   "metadata": {},
   "outputs": [],
   "source": [
    "%bookmark 'model_dir'\n",
    "current_dir = %pwd\n",
    "while 'models' in current_dir:\n",
    "    %cd ..\n",
    "    current_dir = %pwd\n",
    "%bookmark 'base_dir'\n",
    "%run source_code/points_gui\n",
    "%cd 'model_dir'"
   ]
  },
  {
   "cell_type": "code",
   "execution_count": 73,
   "metadata": {},
   "outputs": [],
   "source": [
    "wid=adding_points_gui()\n",
    "wid[0]"
   ]
  },
  {
   "cell_type": "code",
   "execution_count": 74,
   "metadata": {},
   "outputs": [],
   "source": [
    "%bookmark 'model_dir'\n",
    "current_dir = %pwd\n",
    "while 'models' in current_dir:\n",
    "    %cd ..\n",
    "    current_dir = %pwd\n",
    "%bookmark 'base_dir'\n",
    "%run source_code/points_gui\n",
    "%cd 'model_dir'"
   ]
  },
  {
   "cell_type": "code",
   "execution_count": 75,
   "metadata": {},
   "outputs": [],
   "source": [
    "wid=adding_points_gui()\n",
    "wid[0]"
   ]
  },
  {
   "cell_type": "code",
   "execution_count": 76,
   "metadata": {},
   "outputs": [],
   "source": [
    "%bookmark 'model_dir'\n",
    "current_dir = %pwd\n",
    "while 'models' in current_dir:\n",
    "    %cd ..\n",
    "    current_dir = %pwd\n",
    "%bookmark 'base_dir'\n",
    "%run source_code/points_gui\n",
    "%cd 'model_dir'"
   ]
  },
  {
   "cell_type": "code",
   "execution_count": 77,
   "metadata": {},
   "outputs": [],
   "source": [
    "wid=adding_points_gui()\n",
    "wid[0]"
   ]
  },
  {
   "cell_type": "code",
   "execution_count": 78,
   "metadata": {},
   "outputs": [],
   "source": [
    "%bookmark 'model_dir'\n",
    "current_dir = %pwd\n",
    "while 'models' in current_dir:\n",
    "    %cd ..\n",
    "    current_dir = %pwd\n",
    "%bookmark 'base_dir'\n",
    "%run source_code/points_gui\n",
    "%cd 'model_dir'"
   ]
  },
  {
   "cell_type": "code",
   "execution_count": 79,
   "metadata": {},
   "outputs": [],
   "source": [
    "wid=adding_points_gui()\n",
    "wid[0]"
   ]
  },
  {
   "cell_type": "code",
   "execution_count": 80,
   "metadata": {},
   "outputs": [],
   "source": [
    "%bookmark 'model_dir'\n",
    "current_dir = %pwd\n",
    "while 'models' in current_dir:\n",
    "    %cd ..\n",
    "    current_dir = %pwd\n",
    "%bookmark 'base_dir'\n",
    "%run source_code/points_gui\n",
    "%cd 'model_dir'"
   ]
  },
  {
   "cell_type": "code",
   "execution_count": 81,
   "metadata": {},
   "outputs": [],
   "source": [
    "wid=adding_points_gui()\n",
    "wid[0]"
   ]
  },
  {
   "cell_type": "code",
   "execution_count": 82,
   "metadata": {},
   "outputs": [],
   "source": [
    "%bookmark 'model_dir'\n",
    "current_dir = %pwd\n",
    "while 'models' in current_dir:\n",
    "    %cd ..\n",
    "    current_dir = %pwd\n",
    "%bookmark 'base_dir'\n",
    "%run source_code/points_gui\n",
    "%cd 'model_dir'"
   ]
  },
  {
   "cell_type": "code",
   "execution_count": 83,
   "metadata": {},
   "outputs": [],
   "source": [
    "wid=adding_points_gui()\n",
    "wid[0]"
   ]
  },
  {
   "cell_type": "code",
   "execution_count": 84,
   "metadata": {},
   "outputs": [],
   "source": [
    "%bookmark 'model_dir'\n",
    "current_dir = %pwd\n",
    "while 'models' in current_dir:\n",
    "    %cd ..\n",
    "    current_dir = %pwd\n",
    "%bookmark 'base_dir'\n",
    "%run source_code/points_gui\n",
    "%cd 'model_dir'"
   ]
  },
  {
   "cell_type": "code",
   "execution_count": 85,
   "metadata": {},
   "outputs": [],
   "source": [
    "wid=adding_points_gui()\n",
    "wid[0]"
   ]
  },
  {
   "cell_type": "code",
   "execution_count": 86,
   "metadata": {},
   "outputs": [],
   "source": [
    "%bookmark 'model_dir'\n",
    "current_dir = %pwd\n",
    "while 'models' in current_dir:\n",
    "    %cd ..\n",
    "    current_dir = %pwd\n",
    "%bookmark 'base_dir'\n",
    "%run source_code/points_gui\n",
    "%cd 'model_dir'"
   ]
  },
  {
   "cell_type": "code",
   "execution_count": 87,
   "metadata": {},
   "outputs": [],
   "source": [
    "wid=adding_points_gui()\n",
    "wid[0]"
   ]
  },
  {
   "cell_type": "code",
   "execution_count": 88,
   "metadata": {},
   "outputs": [],
   "source": [
    "wid[2]"
   ]
  },
  {
   "cell_type": "code",
   "execution_count": 89,
   "metadata": {},
   "outputs": [],
   "source": [
    "w=wid[2]"
   ]
  },
  {
   "cell_type": "code",
   "execution_count": 90,
   "metadata": {},
   "outputs": [],
   "source": [
    "w=wid[2]\n",
    "w"
   ]
  },
  {
   "cell_type": "code",
   "execution_count": 91,
   "metadata": {},
   "outputs": [],
   "source": [
    "w=wid[2]\n",
    "w.loc[0]"
   ]
  },
  {
   "cell_type": "code",
   "execution_count": 92,
   "metadata": {},
   "outputs": [],
   "source": [
    "w=wid[2]\n",
    "w.index"
   ]
  },
  {
   "cell_type": "code",
   "execution_count": 93,
   "metadata": {},
   "outputs": [],
   "source": [
    "w=wid[2]\n",
    "w.T"
   ]
  },
  {
   "cell_type": "code",
   "execution_count": 94,
   "metadata": {},
   "outputs": [],
   "source": [
    "w=wid[2]\n",
    "w.T[0]"
   ]
  },
  {
   "cell_type": "code",
   "execution_count": 95,
   "metadata": {},
   "outputs": [],
   "source": [
    "w=wid[2]\n",
    "w.T[1]=['s',0,0,0]"
   ]
  },
  {
   "cell_type": "code",
   "execution_count": 96,
   "metadata": {},
   "outputs": [],
   "source": [
    "w=wid[2]\n",
    "w.T[1]=['s',0,0,0]\n",
    "w"
   ]
  },
  {
   "cell_type": "code",
   "execution_count": 97,
   "metadata": {},
   "outputs": [],
   "source": [
    "w=wid[2]\n",
    "w.loc[1]"
   ]
  },
  {
   "cell_type": "code",
   "execution_count": 98,
   "metadata": {},
   "outputs": [],
   "source": [
    "w=wid[2]\n",
    "w.loc[1]=['s',1,1,1]"
   ]
  },
  {
   "cell_type": "code",
   "execution_count": 99,
   "metadata": {},
   "outputs": [],
   "source": [
    "w=wid[2]\n",
    "w.loc[1]=['s',1,1,1]\n",
    "w"
   ]
  },
  {
   "cell_type": "code",
   "execution_count": 100,
   "metadata": {},
   "outputs": [],
   "source": [
    "%bookmark 'model_dir'\n",
    "current_dir = %pwd\n",
    "while 'models' in current_dir:\n",
    "    %cd ..\n",
    "    current_dir = %pwd\n",
    "%bookmark 'base_dir'\n",
    "%run source_code/points_gui\n",
    "%cd 'model_dir'"
   ]
  },
  {
   "cell_type": "code",
   "execution_count": 101,
   "metadata": {},
   "outputs": [],
   "source": [
    "wid=adding_points_gui()\n",
    "wid[0]"
   ]
  },
  {
   "cell_type": "code",
   "execution_count": 102,
   "metadata": {},
   "outputs": [],
   "source": [
    "%bookmark 'model_dir'\n",
    "current_dir = %pwd\n",
    "while 'models' in current_dir:\n",
    "    %cd ..\n",
    "    current_dir = %pwd\n",
    "%bookmark 'base_dir'\n",
    "%run source_code/points_gui\n",
    "%cd 'model_dir'"
   ]
  },
  {
   "cell_type": "code",
   "execution_count": 103,
   "metadata": {},
   "outputs": [],
   "source": [
    "wid=adding_points_gui()\n",
    "wid[0]"
   ]
  },
  {
   "cell_type": "code",
   "execution_count": 104,
   "metadata": {},
   "outputs": [],
   "source": [
    "%bookmark 'model_dir'\n",
    "current_dir = %pwd\n",
    "while 'models' in current_dir:\n",
    "    %cd ..\n",
    "    current_dir = %pwd\n",
    "%bookmark 'base_dir'\n",
    "%run source_code/points_gui\n",
    "%cd 'model_dir'"
   ]
  },
  {
   "cell_type": "code",
   "execution_count": 105,
   "metadata": {},
   "outputs": [],
   "source": [
    "wid=adding_points_gui()\n",
    "wid[0]"
   ]
  },
  {
   "cell_type": "code",
   "execution_count": 106,
   "metadata": {},
   "outputs": [],
   "source": [
    "%bookmark 'model_dir'\n",
    "current_dir = %pwd\n",
    "while 'models' in current_dir:\n",
    "    %cd ..\n",
    "    current_dir = %pwd\n",
    "%bookmark 'base_dir'\n",
    "%run source_code/points_gui\n",
    "%cd 'model_dir'"
   ]
  },
  {
   "cell_type": "code",
   "execution_count": 107,
   "metadata": {},
   "outputs": [],
   "source": [
    "wid=adding_points_gui()\n",
    "wid[0]"
   ]
  },
  {
   "cell_type": "code",
   "execution_count": 108,
   "metadata": {},
   "outputs": [],
   "source": [
    "%bookmark 'model_dir'\n",
    "current_dir = %pwd\n",
    "while 'models' in current_dir:\n",
    "    %cd ..\n",
    "    current_dir = %pwd\n",
    "%bookmark 'base_dir'\n",
    "%run source_code/points_gui\n",
    "%cd 'model_dir'"
   ]
  },
  {
   "cell_type": "code",
   "execution_count": 109,
   "metadata": {},
   "outputs": [],
   "source": [
    "wid=adding_points_gui()\n",
    "wid[0]"
   ]
  },
  {
   "cell_type": "code",
   "execution_count": 110,
   "metadata": {},
   "outputs": [],
   "source": [
    "%bookmark 'model_dir'\n",
    "current_dir = %pwd\n",
    "while 'models' in current_dir:\n",
    "    %cd ..\n",
    "    current_dir = %pwd\n",
    "%bookmark 'base_dir'\n",
    "%run source_code/points_gui\n",
    "%cd 'model_dir'"
   ]
  },
  {
   "cell_type": "code",
   "execution_count": 111,
   "metadata": {},
   "outputs": [],
   "source": [
    "wid=adding_points_gui()\n",
    "wid[0]"
   ]
  },
  {
   "cell_type": "code",
   "execution_count": 112,
   "metadata": {},
   "outputs": [],
   "source": [
    "%bookmark 'model_dir'\n",
    "current_dir = %pwd\n",
    "while 'models' in current_dir:\n",
    "    %cd ..\n",
    "    current_dir = %pwd\n",
    "%bookmark 'base_dir'\n",
    "%run source_code/points_gui\n",
    "%cd 'model_dir'"
   ]
  },
  {
   "cell_type": "code",
   "execution_count": 113,
   "metadata": {},
   "outputs": [],
   "source": [
    "wid=adding_points_gui()\n",
    "wid[0]"
   ]
  },
  {
   "cell_type": "code",
   "execution_count": 114,
   "metadata": {},
   "outputs": [],
   "source": [
    "%bookmark 'model_dir'\n",
    "current_dir = %pwd\n",
    "while 'models' in current_dir:\n",
    "    %cd ..\n",
    "    current_dir = %pwd\n",
    "%bookmark 'base_dir'\n",
    "%run source_code/points_gui\n",
    "%cd 'model_dir'"
   ]
  },
  {
   "cell_type": "code",
   "execution_count": 115,
   "metadata": {},
   "outputs": [],
   "source": [
    "wid=adding_points_gui()\n",
    "wid[0]"
   ]
  },
  {
   "cell_type": "code",
   "execution_count": 116,
   "metadata": {},
   "outputs": [],
   "source": [
    "%bookmark 'model_dir'\n",
    "current_dir = %pwd\n",
    "while 'models' in current_dir:\n",
    "    %cd ..\n",
    "    current_dir = %pwd\n",
    "%bookmark 'base_dir'\n",
    "%run source_code/points_gui\n",
    "%cd 'model_dir'"
   ]
  },
  {
   "cell_type": "code",
   "execution_count": 117,
   "metadata": {},
   "outputs": [],
   "source": [
    "wid=adding_points_gui()\n",
    "wid[0]"
   ]
  },
  {
   "cell_type": "code",
   "execution_count": 118,
   "metadata": {},
   "outputs": [],
   "source": [
    "%bookmark 'model_dir'\n",
    "current_dir = %pwd\n",
    "while 'models' in current_dir:\n",
    "    %cd ..\n",
    "    current_dir = %pwd\n",
    "%bookmark 'base_dir'\n",
    "%run source_code/points_gui\n",
    "%cd 'model_dir'"
   ]
  },
  {
   "cell_type": "code",
   "execution_count": 119,
   "metadata": {},
   "outputs": [],
   "source": [
    "wid=adding_points_gui()\n",
    "wid[0]"
   ]
  },
  {
   "cell_type": "code",
   "execution_count": 120,
   "metadata": {},
   "outputs": [],
   "source": [
    "%bookmark 'model_dir'\n",
    "current_dir = %pwd\n",
    "while 'models' in current_dir:\n",
    "    %cd ..\n",
    "    current_dir = %pwd\n",
    "%bookmark 'base_dir'\n",
    "%run source_code/points_gui\n",
    "%cd 'model_dir'"
   ]
  },
  {
   "cell_type": "code",
   "execution_count": 121,
   "metadata": {},
   "outputs": [],
   "source": [
    "wid=adding_points_gui()\n",
    "wid[0]"
   ]
  },
  {
   "cell_type": "code",
   "execution_count": 122,
   "metadata": {},
   "outputs": [],
   "source": [
    "%bookmark 'model_dir'\n",
    "current_dir = %pwd\n",
    "while 'models' in current_dir:\n",
    "    %cd ..\n",
    "    current_dir = %pwd\n",
    "%bookmark 'base_dir'\n",
    "%run source_code/points_gui\n",
    "%cd 'model_dir'"
   ]
  },
  {
   "cell_type": "code",
   "execution_count": 123,
   "metadata": {},
   "outputs": [],
   "source": [
    "wid=adding_points_gui()\n",
    "wid[0]"
   ]
  },
  {
   "cell_type": "code",
   "execution_count": 124,
   "metadata": {},
   "outputs": [],
   "source": [
    "%bookmark 'model_dir'\n",
    "current_dir = %pwd\n",
    "while 'models' in current_dir:\n",
    "    %cd ..\n",
    "    current_dir = %pwd\n",
    "%bookmark 'base_dir'\n",
    "%run source_code/points_gui\n",
    "%cd 'model_dir'"
   ]
  },
  {
   "cell_type": "code",
   "execution_count": 125,
   "metadata": {},
   "outputs": [],
   "source": [
    "wid=adding_points_gui()\n",
    "wid[0]"
   ]
  },
  {
   "cell_type": "code",
   "execution_count": 126,
   "metadata": {},
   "outputs": [],
   "source": [
    "%bookmark 'model_dir'\n",
    "current_dir = %pwd\n",
    "while 'models' in current_dir:\n",
    "    %cd ..\n",
    "    current_dir = %pwd\n",
    "%bookmark 'base_dir'\n",
    "%run source_code/points_gui\n",
    "%cd 'model_dir'"
   ]
  },
  {
   "cell_type": "code",
   "execution_count": 127,
   "metadata": {},
   "outputs": [],
   "source": [
    "wid=adding_points_gui()\n",
    "wid[0]"
   ]
  },
  {
   "cell_type": "code",
   "execution_count": 128,
   "metadata": {},
   "outputs": [],
   "source": [
    "%bookmark 'model_dir'\n",
    "current_dir = %pwd\n",
    "while 'models' in current_dir:\n",
    "    %cd ..\n",
    "    current_dir = %pwd\n",
    "%bookmark 'base_dir'\n",
    "%run source_code/points_gui\n",
    "%cd 'model_dir'"
   ]
  },
  {
   "cell_type": "code",
   "execution_count": 129,
   "metadata": {},
   "outputs": [],
   "source": [
    "wid=adding_points_gui()\n",
    "wid[0]"
   ]
  },
  {
   "cell_type": "code",
   "execution_count": 130,
   "metadata": {},
   "outputs": [],
   "source": [
    "%bookmark 'model_dir'\n",
    "current_dir = %pwd\n",
    "while 'models' in current_dir:\n",
    "    %cd ..\n",
    "    current_dir = %pwd\n",
    "%bookmark 'base_dir'\n",
    "%run source_code/points_gui\n",
    "%cd 'model_dir'"
   ]
  },
  {
   "cell_type": "code",
   "execution_count": 131,
   "metadata": {},
   "outputs": [],
   "source": [
    "wid=adding_points_gui()\n",
    "wid[0]"
   ]
  },
  {
   "cell_type": "code",
   "execution_count": 132,
   "metadata": {},
   "outputs": [],
   "source": [
    "%bookmark 'model_dir'\n",
    "current_dir = %pwd\n",
    "while 'models' in current_dir:\n",
    "    %cd ..\n",
    "    current_dir = %pwd\n",
    "%bookmark 'base_dir'\n",
    "%run source_code/points_gui\n",
    "%cd 'model_dir'"
   ]
  },
  {
   "cell_type": "code",
   "execution_count": 133,
   "metadata": {},
   "outputs": [],
   "source": [
    "wid=adding_points_gui()\n",
    "wid[0]"
   ]
  },
  {
   "cell_type": "code",
   "execution_count": 134,
   "metadata": {},
   "outputs": [],
   "source": [
    "%bookmark 'model_dir'\n",
    "current_dir = %pwd\n",
    "while 'models' in current_dir:\n",
    "    %cd ..\n",
    "    current_dir = %pwd\n",
    "%bookmark 'base_dir'\n",
    "%run source_code/points_gui\n",
    "%cd 'model_dir'"
   ]
  },
  {
   "cell_type": "code",
   "execution_count": 135,
   "metadata": {},
   "outputs": [],
   "source": [
    "wid=adding_points_gui()\n",
    "wid[0]"
   ]
  },
  {
   "cell_type": "code",
   "execution_count": 136,
   "metadata": {},
   "outputs": [],
   "source": [
    "%bookmark 'model_dir'\n",
    "current_dir = %pwd\n",
    "while 'models' in current_dir:\n",
    "    %cd ..\n",
    "    current_dir = %pwd\n",
    "%bookmark 'base_dir'\n",
    "%run source_code/points_gui\n",
    "%cd 'model_dir'"
   ]
  },
  {
   "cell_type": "code",
   "execution_count": 137,
   "metadata": {},
   "outputs": [],
   "source": [
    "wid=adding_points_gui()\n",
    "wid[0]"
   ]
  },
  {
   "cell_type": "code",
   "execution_count": 138,
   "metadata": {},
   "outputs": [],
   "source": [
    "%bookmark 'model_dir'\n",
    "current_dir = %pwd\n",
    "while 'models' in current_dir:\n",
    "    %cd ..\n",
    "    current_dir = %pwd\n",
    "%bookmark 'base_dir'\n",
    "%run source_code/points_gui\n",
    "%cd 'model_dir'"
   ]
  },
  {
   "cell_type": "code",
   "execution_count": 139,
   "metadata": {},
   "outputs": [],
   "source": [
    "wid=adding_points_gui()\n",
    "wid[0]"
   ]
  },
  {
   "cell_type": "code",
   "execution_count": 140,
   "metadata": {},
   "outputs": [],
   "source": [
    "%bookmark 'model_dir'\n",
    "current_dir = %pwd\n",
    "while 'models' in current_dir:\n",
    "    %cd ..\n",
    "    current_dir = %pwd\n",
    "%bookmark 'base_dir'\n",
    "%run source_code/points_gui\n",
    "%cd 'model_dir'"
   ]
  },
  {
   "cell_type": "code",
   "execution_count": 141,
   "metadata": {},
   "outputs": [],
   "source": [
    "wid=adding_points_gui()\n",
    "wid[0]"
   ]
  },
  {
   "cell_type": "code",
   "execution_count": 142,
   "metadata": {},
   "outputs": [],
   "source": [
    "%bookmark 'model_dir'\n",
    "current_dir = %pwd\n",
    "while 'models' in current_dir:\n",
    "    %cd ..\n",
    "    current_dir = %pwd\n",
    "%bookmark 'base_dir'\n",
    "%run source_code/points_gui\n",
    "%cd 'model_dir'"
   ]
  },
  {
   "cell_type": "code",
   "execution_count": 143,
   "metadata": {},
   "outputs": [],
   "source": [
    "wid=adding_points_gui()\n",
    "wid[0]"
   ]
  },
  {
   "cell_type": "code",
   "execution_count": 144,
   "metadata": {},
   "outputs": [],
   "source": [
    "%bookmark 'model_dir'\n",
    "current_dir = %pwd\n",
    "while 'models' in current_dir:\n",
    "    %cd ..\n",
    "    current_dir = %pwd\n",
    "%bookmark 'base_dir'\n",
    "%run source_code/points_gui\n",
    "%cd 'model_dir'"
   ]
  },
  {
   "cell_type": "code",
   "execution_count": 145,
   "metadata": {},
   "outputs": [],
   "source": [
    "wid=adding_points_gui()\n",
    "wid[0]"
   ]
  },
  {
   "cell_type": "code",
   "execution_count": 146,
   "metadata": {},
   "outputs": [],
   "source": [
    "%bookmark 'model_dir'\n",
    "current_dir = %pwd\n",
    "while 'models' in current_dir:\n",
    "    %cd ..\n",
    "    current_dir = %pwd\n",
    "%bookmark 'base_dir'\n",
    "%run source_code/points_gui\n",
    "%cd 'model_dir'"
   ]
  },
  {
   "cell_type": "code",
   "execution_count": 147,
   "metadata": {},
   "outputs": [],
   "source": [
    "wid=adding_points_gui()\n",
    "wid[0]"
   ]
  },
  {
   "cell_type": "code",
   "execution_count": 148,
   "metadata": {},
   "outputs": [],
   "source": [
    "%bookmark 'model_dir'\n",
    "current_dir = %pwd\n",
    "while 'models' in current_dir:\n",
    "    %cd ..\n",
    "    current_dir = %pwd\n",
    "%bookmark 'base_dir'\n",
    "%run source_code/points_gui\n",
    "%cd 'model_dir'"
   ]
  },
  {
   "cell_type": "code",
   "execution_count": 149,
   "metadata": {},
   "outputs": [],
   "source": [
    "wid=adding_points_gui()\n",
    "wid[0]"
   ]
  },
  {
   "cell_type": "code",
   "execution_count": 150,
   "metadata": {},
   "outputs": [],
   "source": [
    "%bookmark 'model_dir'\n",
    "current_dir = %pwd\n",
    "while 'models' in current_dir:\n",
    "    %cd ..\n",
    "    current_dir = %pwd\n",
    "%bookmark 'base_dir'\n",
    "%run source_code/points_gui\n",
    "%cd 'model_dir'"
   ]
  },
  {
   "cell_type": "code",
   "execution_count": 151,
   "metadata": {},
   "outputs": [],
   "source": [
    "wid=adding_points_gui()\n",
    "wid[0]"
   ]
  },
  {
   "cell_type": "code",
   "execution_count": 152,
   "metadata": {},
   "outputs": [],
   "source": [
    "out = widgets.Output(layout={'border': '1px solid black'})\n",
    "out.append_stdout('Output appended with append_stdout')\n",
    "out.append_display_data(ipy.display.YouTubeVideo('eWzY2nGfkXk'))\n",
    "out"
   ]
  },
  {
   "cell_type": "code",
   "execution_count": 153,
   "metadata": {},
   "outputs": [],
   "source": [
    "out"
   ]
  },
  {
   "cell_type": "code",
   "execution_count": 154,
   "metadata": {},
   "outputs": [],
   "source": [
    "%bookmark 'model_dir'\n",
    "current_dir = %pwd\n",
    "while 'models' in current_dir:\n",
    "    %cd ..\n",
    "    current_dir = %pwd\n",
    "%bookmark 'base_dir'\n",
    "%run source_code/points_gui\n",
    "%cd 'model_dir'"
   ]
  },
  {
   "cell_type": "code",
   "execution_count": 155,
   "metadata": {},
   "outputs": [],
   "source": [
    "wid=adding_points_gui()\n",
    "wid[0]"
   ]
  },
  {
   "cell_type": "code",
   "execution_count": 156,
   "metadata": {},
   "outputs": [],
   "source": [
    "%bookmark 'model_dir'\n",
    "current_dir = %pwd\n",
    "while 'models' in current_dir:\n",
    "    %cd ..\n",
    "    current_dir = %pwd\n",
    "%bookmark 'base_dir'\n",
    "%run source_code/points_gui\n",
    "%cd 'model_dir'"
   ]
  },
  {
   "cell_type": "code",
   "execution_count": 157,
   "metadata": {},
   "outputs": [],
   "source": [
    "wid=adding_points_gui()\n",
    "wid[0]"
   ]
  },
  {
   "cell_type": "code",
   "execution_count": 158,
   "metadata": {},
   "outputs": [],
   "source": [
    "%bookmark 'model_dir'\n",
    "current_dir = %pwd\n",
    "while 'models' in current_dir:\n",
    "    %cd ..\n",
    "    current_dir = %pwd\n",
    "%bookmark 'base_dir'\n",
    "%run source_code/points_gui\n",
    "%cd 'model_dir'"
   ]
  },
  {
   "cell_type": "code",
   "execution_count": 159,
   "metadata": {},
   "outputs": [],
   "source": [
    "wid=adding_points_gui()\n",
    "wid[0]"
   ]
  },
  {
   "cell_type": "code",
   "execution_count": 160,
   "metadata": {},
   "outputs": [],
   "source": [
    "%bookmark 'model_dir'\n",
    "current_dir = %pwd\n",
    "while 'models' in current_dir:\n",
    "    %cd ..\n",
    "    current_dir = %pwd\n",
    "%bookmark 'base_dir'\n",
    "%run source_code/points_gui\n",
    "%cd 'model_dir'"
   ]
  },
  {
   "cell_type": "code",
   "execution_count": 161,
   "metadata": {},
   "outputs": [],
   "source": [
    "wid=adding_points_gui()\n",
    "wid[0]"
   ]
  },
  {
   "cell_type": "code",
   "execution_count": 162,
   "metadata": {},
   "outputs": [],
   "source": [
    "%bookmark 'model_dir'\n",
    "current_dir = %pwd\n",
    "while 'models' in current_dir:\n",
    "    %cd ..\n",
    "    current_dir = %pwd\n",
    "%bookmark 'base_dir'\n",
    "%run source_code/points_gui\n",
    "%cd 'model_dir'"
   ]
  },
  {
   "cell_type": "code",
   "execution_count": 163,
   "metadata": {},
   "outputs": [],
   "source": [
    "wid=adding_points_gui()\n",
    "wid[0]"
   ]
  },
  {
   "cell_type": "code",
   "execution_count": 164,
   "metadata": {},
   "outputs": [],
   "source": [
    "%bookmark 'model_dir'\n",
    "current_dir = %pwd\n",
    "while 'models' in current_dir:\n",
    "    %cd ..\n",
    "    current_dir = %pwd\n",
    "%bookmark 'base_dir'\n",
    "%run source_code/points_gui\n",
    "%cd 'model_dir'"
   ]
  },
  {
   "cell_type": "code",
   "execution_count": 165,
   "metadata": {},
   "outputs": [],
   "source": [
    "wid=adding_points_gui()\n",
    "wid[0]"
   ]
  },
  {
   "cell_type": "code",
   "execution_count": 166,
   "metadata": {},
   "outputs": [],
   "source": [
    "%bookmark 'model_dir'\n",
    "current_dir = %pwd\n",
    "while 'models' in current_dir:\n",
    "    %cd ..\n",
    "    current_dir = %pwd\n",
    "%bookmark 'base_dir'\n",
    "%run source_code/points_gui\n",
    "%cd 'model_dir'"
   ]
  },
  {
   "cell_type": "code",
   "execution_count": 167,
   "metadata": {},
   "outputs": [],
   "source": [
    "wid=adding_points_gui()\n",
    "wid[0]"
   ]
  },
  {
   "cell_type": "code",
   "execution_count": 168,
   "metadata": {},
   "outputs": [],
   "source": [
    "%bookmark 'model_dir'\n",
    "current_dir = %pwd\n",
    "while 'models' in current_dir:\n",
    "    %cd ..\n",
    "    current_dir = %pwd\n",
    "%bookmark 'base_dir'\n",
    "%run source_code/points_gui\n",
    "%cd 'model_dir'"
   ]
  },
  {
   "cell_type": "code",
   "execution_count": 169,
   "metadata": {},
   "outputs": [],
   "source": [
    "wid=adding_points_gui()\n",
    "wid[0]"
   ]
  },
  {
   "cell_type": "code",
   "execution_count": 170,
   "metadata": {},
   "outputs": [],
   "source": [
    "%bookmark 'model_dir'\n",
    "current_dir = %pwd\n",
    "while 'models' in current_dir:\n",
    "    %cd ..\n",
    "    current_dir = %pwd\n",
    "%bookmark 'base_dir'\n",
    "%run source_code/points_gui\n",
    "%cd 'model_dir'"
   ]
  },
  {
   "cell_type": "code",
   "execution_count": 171,
   "metadata": {},
   "outputs": [],
   "source": [
    "wid=adding_points_gui()\n",
    "wid[0]"
   ]
  },
  {
   "cell_type": "code",
   "execution_count": 172,
   "metadata": {},
   "outputs": [],
   "source": [
    "wid[2]"
   ]
  },
  {
   "cell_type": "code",
   "execution_count": 173,
   "metadata": {},
   "outputs": [],
   "source": [
    "%bookmark 'model_dir'\n",
    "current_dir = %pwd\n",
    "while 'models' in current_dir:\n",
    "    %cd ..\n",
    "    current_dir = %pwd\n",
    "%bookmark 'base_dir'\n",
    "%run source_code/points_gui\n",
    "%cd 'model_dir'"
   ]
  },
  {
   "cell_type": "code",
   "execution_count": 174,
   "metadata": {},
   "outputs": [],
   "source": [
    "wid=adding_points_gui()\n",
    "wid[0]"
   ]
  },
  {
   "cell_type": "code",
   "execution_count": 175,
   "metadata": {},
   "outputs": [],
   "source": [
    "wid[2]"
   ]
  },
  {
   "cell_type": "code",
   "execution_count": 176,
   "metadata": {},
   "outputs": [],
   "source": [
    "wid[2]"
   ]
  },
  {
   "cell_type": "code",
   "execution_count": 177,
   "metadata": {},
   "outputs": [],
   "source": [
    "%bookmark 'model_dir'\n",
    "current_dir = %pwd\n",
    "while 'models' in current_dir:\n",
    "    %cd ..\n",
    "    current_dir = %pwd\n",
    "%bookmark 'base_dir'\n",
    "%run source_code/points_gui\n",
    "%cd 'model_dir'"
   ]
  },
  {
   "cell_type": "code",
   "execution_count": 178,
   "metadata": {},
   "outputs": [],
   "source": [
    "wid=adding_points_gui()\n",
    "wid[0]"
   ]
  },
  {
   "cell_type": "code",
   "execution_count": 179,
   "metadata": {},
   "outputs": [],
   "source": [
    "wid[2]"
   ]
  },
  {
   "cell_type": "code",
   "execution_count": 180,
   "metadata": {},
   "outputs": [],
   "source": [
    "%bookmark 'model_dir'\n",
    "current_dir = %pwd\n",
    "while 'models' in current_dir:\n",
    "    %cd ..\n",
    "    current_dir = %pwd\n",
    "%bookmark 'base_dir'\n",
    "%run source_code/points_gui\n",
    "%cd 'model_dir'"
   ]
  },
  {
   "cell_type": "code",
   "execution_count": 181,
   "metadata": {},
   "outputs": [],
   "source": [
    "wid=adding_points_gui()\n",
    "wid[0]"
   ]
  },
  {
   "cell_type": "code",
   "execution_count": 182,
   "metadata": {},
   "outputs": [],
   "source": [
    "wid[2]"
   ]
  },
  {
   "cell_type": "code",
   "execution_count": 183,
   "metadata": {},
   "outputs": [],
   "source": [
    "%bookmark 'model_dir'\n",
    "current_dir = %pwd\n",
    "while 'models' in current_dir:\n",
    "    %cd ..\n",
    "    current_dir = %pwd\n",
    "%bookmark 'base_dir'\n",
    "%run source_code/points_gui\n",
    "%cd 'model_dir'"
   ]
  },
  {
   "cell_type": "code",
   "execution_count": 184,
   "metadata": {},
   "outputs": [],
   "source": [
    "wid=adding_points_gui()\n",
    "wid[0]"
   ]
  },
  {
   "cell_type": "code",
   "execution_count": 185,
   "metadata": {},
   "outputs": [],
   "source": [
    "wid[2]"
   ]
  },
  {
   "cell_type": "code",
   "execution_count": 186,
   "metadata": {},
   "outputs": [],
   "source": [
    "%bookmark 'model_dir'\n",
    "current_dir = %pwd\n",
    "while 'models' in current_dir:\n",
    "    %cd ..\n",
    "    current_dir = %pwd\n",
    "%bookmark 'base_dir'\n",
    "%run source_code/points_gui\n",
    "%cd 'model_dir'"
   ]
  },
  {
   "cell_type": "code",
   "execution_count": 187,
   "metadata": {},
   "outputs": [],
   "source": [
    "wid=adding_points_gui()\n",
    "wid[0]"
   ]
  },
  {
   "cell_type": "code",
   "execution_count": 188,
   "metadata": {},
   "outputs": [],
   "source": [
    "wid[2]"
   ]
  },
  {
   "cell_type": "code",
   "execution_count": 189,
   "metadata": {},
   "outputs": [],
   "source": [
    "%bookmark 'model_dir'\n",
    "current_dir = %pwd\n",
    "while 'models' in current_dir:\n",
    "    %cd ..\n",
    "    current_dir = %pwd\n",
    "%bookmark 'base_dir'\n",
    "%run source_code/points_gui\n",
    "%cd 'model_dir'"
   ]
  },
  {
   "cell_type": "code",
   "execution_count": 190,
   "metadata": {},
   "outputs": [],
   "source": [
    "wid=adding_points_gui()\n",
    "wid[0]"
   ]
  },
  {
   "cell_type": "code",
   "execution_count": 191,
   "metadata": {},
   "outputs": [],
   "source": [
    "%bookmark 'model_dir'\n",
    "current_dir = %pwd\n",
    "while 'models' in current_dir:\n",
    "    %cd ..\n",
    "    current_dir = %pwd\n",
    "%bookmark 'base_dir'\n",
    "%run source_code/points_gui\n",
    "%cd 'model_dir'"
   ]
  },
  {
   "cell_type": "code",
   "execution_count": 192,
   "metadata": {},
   "outputs": [],
   "source": [
    "wid=adding_points_gui()\n",
    "wid[0]"
   ]
  },
  {
   "cell_type": "code",
   "execution_count": 193,
   "metadata": {},
   "outputs": [],
   "source": [
    "wid[2]"
   ]
  },
  {
   "cell_type": "code",
   "execution_count": 194,
   "metadata": {},
   "outputs": [],
   "source": [
    "%bookmark 'model_dir'\n",
    "current_dir = %pwd\n",
    "while 'models' in current_dir:\n",
    "    %cd ..\n",
    "    current_dir = %pwd\n",
    "%bookmark 'base_dir'\n",
    "%run source_code/points_gui\n",
    "%cd 'model_dir'"
   ]
  },
  {
   "cell_type": "code",
   "execution_count": 195,
   "metadata": {},
   "outputs": [],
   "source": [
    "wid=adding_points_gui()\n",
    "wid[0]"
   ]
  },
  {
   "cell_type": "code",
   "execution_count": 196,
   "metadata": {},
   "outputs": [],
   "source": [
    "wid[2]"
   ]
  },
  {
   "cell_type": "code",
   "execution_count": 197,
   "metadata": {},
   "outputs": [],
   "source": [
    "%bookmark 'model_dir'\n",
    "current_dir = %pwd\n",
    "while 'models' in current_dir:\n",
    "    %cd ..\n",
    "    current_dir = %pwd\n",
    "%bookmark 'base_dir'\n",
    "%run source_code/points_gui\n",
    "%cd 'model_dir'"
   ]
  },
  {
   "cell_type": "code",
   "execution_count": 198,
   "metadata": {},
   "outputs": [],
   "source": [
    "wid=adding_points_gui()\n",
    "wid[0]"
   ]
  },
  {
   "cell_type": "code",
   "execution_count": 199,
   "metadata": {},
   "outputs": [],
   "source": [
    "wid[2]"
   ]
  },
  {
   "cell_type": "code",
   "execution_count": 200,
   "metadata": {},
   "outputs": [],
   "source": [
    "%bookmark 'model_dir'\n",
    "current_dir = %pwd\n",
    "while 'models' in current_dir:\n",
    "    %cd ..\n",
    "    current_dir = %pwd\n",
    "%bookmark 'base_dir'\n",
    "%run source_code/points_gui\n",
    "%cd 'model_dir'"
   ]
  },
  {
   "cell_type": "code",
   "execution_count": 201,
   "metadata": {},
   "outputs": [],
   "source": [
    "wid=adding_points_gui()\n",
    "wid[0]"
   ]
  },
  {
   "cell_type": "code",
   "execution_count": 202,
   "metadata": {},
   "outputs": [],
   "source": [
    "wid[2]"
   ]
  },
  {
   "cell_type": "code",
   "execution_count": 203,
   "metadata": {},
   "outputs": [],
   "source": [
    "%bookmark 'model_dir'\n",
    "current_dir = %pwd\n",
    "while 'models' in current_dir:\n",
    "    %cd ..\n",
    "    current_dir = %pwd\n",
    "%bookmark 'base_dir'\n",
    "%run source_code/points_gui\n",
    "%cd 'model_dir'"
   ]
  },
  {
   "cell_type": "code",
   "execution_count": 204,
   "metadata": {},
   "outputs": [],
   "source": [
    "wid=adding_points_gui()\n",
    "wid[0]"
   ]
  },
  {
   "cell_type": "code",
   "execution_count": 205,
   "metadata": {},
   "outputs": [],
   "source": [
    "wid[2]"
   ]
  },
  {
   "cell_type": "code",
   "execution_count": 206,
   "metadata": {},
   "outputs": [],
   "source": [
    "%bookmark 'model_dir'\n",
    "current_dir = %pwd\n",
    "while 'models' in current_dir:\n",
    "    %cd ..\n",
    "    current_dir = %pwd\n",
    "%bookmark 'base_dir'\n",
    "%run source_code/points_gui\n",
    "%cd 'model_dir'"
   ]
  },
  {
   "cell_type": "code",
   "execution_count": 207,
   "metadata": {},
   "outputs": [],
   "source": [
    "wid=adding_points_gui()\n",
    "wid[0]"
   ]
  },
  {
   "cell_type": "code",
   "execution_count": 208,
   "metadata": {},
   "outputs": [],
   "source": [
    "%bookmark 'model_dir'\n",
    "current_dir = %pwd\n",
    "while 'models' in current_dir:\n",
    "    %cd ..\n",
    "    current_dir = %pwd\n",
    "%bookmark 'base_dir'\n",
    "%run source_code/points_gui\n",
    "%cd 'model_dir'"
   ]
  },
  {
   "cell_type": "code",
   "execution_count": 209,
   "metadata": {},
   "outputs": [],
   "source": [
    "wid=adding_points_gui()\n",
    "wid[0]"
   ]
  },
  {
   "cell_type": "code",
   "execution_count": 210,
   "metadata": {},
   "outputs": [],
   "source": [
    "%bookmark 'model_dir'\n",
    "current_dir = %pwd\n",
    "while 'models' in current_dir:\n",
    "    %cd ..\n",
    "    current_dir = %pwd\n",
    "%bookmark 'base_dir'\n",
    "%run source_code/points_gui\n",
    "%cd 'model_dir'"
   ]
  },
  {
   "cell_type": "code",
   "execution_count": 211,
   "metadata": {},
   "outputs": [],
   "source": [
    "wid=adding_points_gui()\n",
    "wid[0]"
   ]
  },
  {
   "cell_type": "code",
   "execution_count": 212,
   "metadata": {},
   "outputs": [],
   "source": [
    "%bookmark 'model_dir'\n",
    "current_dir = %pwd\n",
    "while 'models' in current_dir:\n",
    "    %cd ..\n",
    "    current_dir = %pwd\n",
    "%bookmark 'base_dir'\n",
    "%run source_code/points_gui\n",
    "%cd 'model_dir'"
   ]
  },
  {
   "cell_type": "code",
   "execution_count": 213,
   "metadata": {},
   "outputs": [],
   "source": [
    "wid=adding_points_gui()\n",
    "wid[0]"
   ]
  },
  {
   "cell_type": "code",
   "execution_count": 214,
   "metadata": {},
   "outputs": [],
   "source": [
    "%bookmark 'model_dir'\n",
    "current_dir = %pwd\n",
    "while 'models' in current_dir:\n",
    "    %cd ..\n",
    "    current_dir = %pwd\n",
    "%bookmark 'base_dir'\n",
    "%run source_code/points_gui\n",
    "%cd 'model_dir'"
   ]
  },
  {
   "cell_type": "code",
   "execution_count": 215,
   "metadata": {},
   "outputs": [],
   "source": [
    "wid=adding_points_gui()\n",
    "wid[0]"
   ]
  },
  {
   "cell_type": "code",
   "execution_count": 216,
   "metadata": {},
   "outputs": [],
   "source": [
    "%bookmark 'model_dir'\n",
    "current_dir = %pwd\n",
    "while 'models' in current_dir:\n",
    "    %cd ..\n",
    "    current_dir = %pwd\n",
    "%bookmark 'base_dir'\n",
    "%run source_code/points_gui\n",
    "%cd 'model_dir'"
   ]
  },
  {
   "cell_type": "code",
   "execution_count": 217,
   "metadata": {},
   "outputs": [],
   "source": [
    "wid=adding_points_gui()\n",
    "wid[0]"
   ]
  },
  {
   "cell_type": "code",
   "execution_count": 218,
   "metadata": {},
   "outputs": [],
   "source": [
    "wid=adding_points_gui()\n",
    "wid[0]"
   ]
  },
  {
   "cell_type": "code",
   "execution_count": 219,
   "metadata": {},
   "outputs": [],
   "source": [
    "%bookmark 'model_dir'\n",
    "current_dir = %pwd\n",
    "while 'models' in current_dir:\n",
    "    %cd ..\n",
    "    current_dir = %pwd\n",
    "%bookmark 'base_dir'\n",
    "%run source_code/points_gui\n",
    "%cd 'model_dir'"
   ]
  },
  {
   "cell_type": "code",
   "execution_count": 220,
   "metadata": {},
   "outputs": [],
   "source": [
    "wid=adding_points_gui()\n",
    "wid[0]"
   ]
  },
  {
   "cell_type": "code",
   "execution_count": 221,
   "metadata": {},
   "outputs": [],
   "source": [
    "%bookmark 'model_dir'\n",
    "current_dir = %pwd\n",
    "while 'models' in current_dir:\n",
    "    %cd ..\n",
    "    current_dir = %pwd\n",
    "%bookmark 'base_dir'\n",
    "%run source_code/points_gui\n",
    "%cd 'model_dir'"
   ]
  },
  {
   "cell_type": "code",
   "execution_count": 222,
   "metadata": {},
   "outputs": [],
   "source": [
    "wid=adding_points_gui()\n",
    "wid[0]"
   ]
  },
  {
   "cell_type": "code",
   "execution_count": 223,
   "metadata": {},
   "outputs": [],
   "source": [
    "%bookmark 'model_dir'\n",
    "current_dir = %pwd\n",
    "while 'models' in current_dir:\n",
    "    %cd ..\n",
    "    current_dir = %pwd\n",
    "%bookmark 'base_dir'\n",
    "%run source_code/points_gui\n",
    "%cd 'model_dir'"
   ]
  },
  {
   "cell_type": "code",
   "execution_count": 224,
   "metadata": {},
   "outputs": [],
   "source": [
    "%%capture\n",
    "%bookmark 'model_dir'\n",
    "current_dir = %pwd\n",
    "while 'models' in current_dir:\n",
    "    %cd ..\n",
    "    current_dir = %pwd\n",
    "%bookmark 'base_dir'\n",
    "%run source_code/points_gui\n",
    "%cd 'model_dir'"
   ]
  },
  {
   "cell_type": "code",
   "execution_count": 225,
   "metadata": {},
   "outputs": [],
   "source": [
    "%bookmark 'model_dir'\n",
    "current_dir = %pwd\n",
    "while 'models' in current_dir:\n",
    "    %cd ..\n",
    "    current_dir = %pwd\n",
    "%bookmark 'base_dir'\n",
    "%run source_code/points_gui\n",
    "%cd 'model_dir'"
   ]
  },
  {
   "cell_type": "code",
   "execution_count": 226,
   "metadata": {},
   "outputs": [],
   "source": [
    "%bookmark 'model_dir';\n",
    "current_dir = %pwd;\n",
    "while 'models' in current_dir:\n",
    "    %cd .. ;\n",
    "    current_dir = %pwd;\n",
    "%bookmark 'base_dir';\n",
    "%run source_code/points_gui\n",
    "%cd 'model_dir';"
   ]
  },
  {
   "cell_type": "code",
   "execution_count": 227,
   "metadata": {},
   "outputs": [],
   "source": [
    "%bookmark 'model_dir';\n",
    "current_dir = %pwd ;\n",
    "while 'models' in current_dir:\n",
    "    %cd .. ;\n",
    "    current_dir = %pwd;\n",
    "%bookmark 'base_dir';\n",
    "%run source_code/points_gui\n",
    "%cd 'model_dir';"
   ]
  },
  {
   "cell_type": "code",
   "execution_count": 228,
   "metadata": {},
   "outputs": [],
   "source": [
    "%bookmark 'model_dir'\n",
    "current_dir = %pwd\n",
    "while 'models' in current_dir:\n",
    "    %cd ..\n",
    "    current_dir = %pwd\n",
    "%bookmark 'base_dir'\n",
    "%run source_code/points_gui\n",
    "%cd 'model_dir'"
   ]
  },
  {
   "cell_type": "code",
   "execution_count": 229,
   "metadata": {},
   "outputs": [],
   "source": [
    "%bookmark 'model_dir'\n",
    "current_dir = %pwd\n",
    "while 'models' in current_dir:\n",
    "    %cd ..\n",
    "    current_dir = %pwd\n",
    "%bookmark 'base_dir'\n",
    "%run source_code/points_gui\n",
    "%%capture\n",
    "%cd 'model_dir'"
   ]
  },
  {
   "cell_type": "code",
   "execution_count": 230,
   "metadata": {},
   "outputs": [],
   "source": [
    "%bookmark 'model_dir'\n",
    "current_dir = %pwd\n",
    "while 'models' in current_dir:\n",
    "    %cd ..\n",
    "    current_dir = %pwd\n",
    "%bookmark 'base_dir'\n",
    "%run source_code/points_gui\n",
    "%capture\n",
    "%cd 'model_dir'"
   ]
  },
  {
   "cell_type": "code",
   "execution_count": 231,
   "metadata": {},
   "outputs": [],
   "source": [
    "%bookmark 'model_dir'\n",
    "current_dir = %pwd\n",
    "while 'models' in current_dir:\n",
    "    %cd ..\n",
    "    current_dir = %pwd\n",
    "%bookmark 'base_dir'\n",
    "%run source_code/points_gui\n",
    "%cd 'model_dir'"
   ]
  },
  {
   "cell_type": "code",
   "execution_count": 232,
   "metadata": {},
   "outputs": [],
   "source": [
    "import ipywidgets as widgets\n",
    "out = widgets.Output()\n",
    "with out:\n",
    "    \n",
    "    %bookmark 'model_dir'\n",
    "    current_dir = %pwd\n",
    "    while 'models' in current_dir:\n",
    "        %cd ..\n",
    "        current_dir = %pwd\n",
    "    %bookmark 'base_dir'\n",
    "    out.clear_output()\n",
    "%run source_code/points_gui\n",
    "%cd 'model_dir'"
   ]
  },
  {
   "cell_type": "code",
   "execution_count": 233,
   "metadata": {},
   "outputs": [],
   "source": [
    "import ipywidgets as widgets\n",
    "out = widgets.Output()\n",
    "with out:\n",
    "    \n",
    "    %bookmark 'model_dir'\n",
    "    current_dir = %pwd\n",
    "    while 'models' in current_dir:\n",
    "        %cd ..\n",
    "        current_dir = %pwd\n",
    "    %bookmark 'base_dir'\n",
    "    out.clear_output()\n",
    "%run source_code/points_gui\n",
    "with out:\n",
    "    %cd 'model_dir'\n",
    "    out.clear_output()"
   ]
  }
 ],
 "metadata": {},
 "nbformat": 4,
 "nbformat_minor": 2
}
