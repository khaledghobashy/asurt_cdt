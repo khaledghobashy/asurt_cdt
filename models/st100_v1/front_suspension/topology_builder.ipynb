{
 "cells": [
  {
   "cell_type": "code",
   "execution_count": 1,
   "metadata": {},
   "outputs": [],
   "source": [
    "import ipywidgets as widgets\n",
    "out = widgets.Output()\n",
    "with out:\n",
    "    \n",
    "    %bookmark 'model_dir'\n",
    "    current_dir = %pwd\n",
    "    while 'models' in current_dir:\n",
    "        %cd ..\n",
    "        current_dir = %pwd\n",
    "    %bookmark 'base_dir'\n",
    "    %cd source_code\n",
    "    out.clear_output()\n",
    "%run modeling_gui\n",
    "with out:\n",
    "    %cd 'model_dir'\n",
    "    out.clear_output()"
   ]
  },
  {
   "cell_type": "markdown",
   "metadata": {},
   "source": [
    "# DEFINING MODEL PARAMETERS"
   ]
  },
  {
   "cell_type": "code",
   "execution_count": 2,
   "metadata": {},
   "outputs": [
    {
     "data": {
      "application/vnd.jupyter.widget-view+json": {
       "model_id": "05278cdc25c04d21bc0e14275b130394",
       "version_major": 2,
       "version_minor": 0
      },
      "text/plain": [
       "Accordion(children=(VBox(children=(Tab(children=(VBox(children=(HBox(children=(VBox(children=(HTML(value='<b>N…"
      ]
     },
     "metadata": {},
     "output_type": "display_data"
    }
   ],
   "source": [
    "'front_sus_points'\n",
    "'geometries'\n",
    "m=model()\n",
    "m.show()"
   ]
  },
  {
   "cell_type": "code",
   "execution_count": 6,
   "metadata": {},
   "outputs": [],
   "source": [
    "m.points.to_pickle('points_modefied')"
   ]
  },
  {
   "cell_type": "code",
   "execution_count": 8,
   "metadata": {},
   "outputs": [
    {
     "name": "stdout",
     "output_type": "stream",
     "text": [
      "L\n",
      "R\n",
      "L\n",
      "R\n",
      "L\n",
      "R\n",
      "L\n",
      "R\n",
      "L\n",
      "R\n",
      "L\n",
      "R\n",
      "L\n",
      "R\n",
      "L\n",
      "R\n",
      "L\n",
      "R\n",
      "L\n",
      "R\n",
      "L\n",
      "R\n",
      "L\n",
      "R\n",
      "S\n"
     ]
    }
   ],
   "source": [
    "m.points.to_pickle('system_points')\n",
    "pp=pd.read_pickle('system_points')\n",
    "for i in pp:\n",
    "    print(i.alignment)"
   ]
  },
  {
   "cell_type": "code",
   "execution_count": null,
   "metadata": {},
   "outputs": [],
   "source": []
  }
 ],
 "metadata": {
  "kernelspec": {
   "display_name": "Python 3",
   "language": "python",
   "name": "python3"
  },
  "language_info": {
   "codemirror_mode": {
    "name": "ipython",
    "version": 3
   },
   "file_extension": ".py",
   "mimetype": "text/x-python",
   "name": "python",
   "nbconvert_exporter": "python",
   "pygments_lexer": "ipython3",
   "version": "3.6.3"
  }
 },
 "nbformat": 4,
 "nbformat_minor": 2
}
