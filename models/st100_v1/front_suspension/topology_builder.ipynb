{
 "cells": [
  {
   "cell_type": "code",
   "execution_count": 264,
   "metadata": {},
   "outputs": [],
   "source": [
    "import ipywidgets as widgets\n",
    "out = widgets.Output()\n",
    "with out:\n",
    "    \n",
    "    %bookmark 'model_dir'\n",
    "    current_dir = %pwd\n",
    "    while 'models' in current_dir:\n",
    "        %cd ..\n",
    "        current_dir = %pwd\n",
    "    %bookmark 'base_dir'\n",
    "    out.clear_output()\n",
    "%run source_code/points_gui\n",
    "with out:\n",
    "    %cd 'model_dir'\n",
    "    out.clear_output()"
   ]
  },
  {
   "cell_type": "code",
   "execution_count": 265,
   "metadata": {},
   "outputs": [
    {
     "data": {
      "application/vnd.jupyter.widget-view+json": {
       "model_id": "729c9967eeab4194b56fb64c1ca40451",
       "version_major": 2,
       "version_minor": 0
      },
      "text/plain": [
       "Tab(children=(VBox(children=(HBox(children=(Label(value='$Name$', layout=Layout(width='130px')), Label(value='…"
      ]
     },
     "metadata": {},
     "output_type": "display_data"
    }
   ],
   "source": [
    "pp=adding_points_gui()\n",
    "'front_sus_points'\n",
    "pp[0]"
   ]
  },
  {
   "cell_type": "code",
   "execution_count": 266,
   "metadata": {},
   "outputs": [
    {
     "data": {
      "application/vnd.jupyter.widget-view+json": {
       "model_id": "a099f92607b34f618761f5118a261e71",
       "version_major": 2,
       "version_minor": 0
      },
      "text/plain": [
       "Tab(children=(VBox(children=(VBox(children=(Label(value='$Body$ $Name$'), Text(value='', placeholder='Enter Bo…"
      ]
     },
     "metadata": {},
     "output_type": "display_data"
    }
   ],
   "source": [
    "bodies=add_bodies_gui(pp[1])\n",
    "bodies[0]"
   ]
  },
  {
   "cell_type": "code",
   "execution_count": 260,
   "metadata": {},
   "outputs": [
    {
     "data": {
      "text/plain": [
       "khaled    <bodies_inertia.rigid object at 0x000001E62D81...\n",
       "dtype: object"
      ]
     },
     "execution_count": 260,
     "metadata": {},
     "output_type": "execute_result"
    }
   ],
   "source": [
    "bodies[1]"
   ]
  },
  {
   "cell_type": "code",
   "execution_count": null,
   "metadata": {},
   "outputs": [],
   "source": []
  }
 ],
 "metadata": {
  "kernelspec": {
   "display_name": "Python 3",
   "language": "python",
   "name": "python3"
  },
  "language_info": {
   "codemirror_mode": {
    "name": "ipython",
    "version": 3
   },
   "file_extension": ".py",
   "mimetype": "text/x-python",
   "name": "python",
   "nbconvert_exporter": "python",
   "pygments_lexer": "ipython3",
   "version": "3.6.3"
  }
 },
 "nbformat": 4,
 "nbformat_minor": 2
}
