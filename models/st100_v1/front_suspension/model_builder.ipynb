{
 "cells": [
  {
   "cell_type": "code",
   "execution_count": 10,
   "metadata": {},
   "outputs": [],
   "source": [
    "import ipywidgets as widgets\n",
    "out = widgets.Output()\n",
    "with out:\n",
    "    \n",
    "    %bookmark 'model_dir'\n",
    "    current_dir = %pwd\n",
    "    while 'models' in current_dir:\n",
    "        %cd ..\n",
    "        current_dir = %pwd\n",
    "    %bookmark 'base_dir'\n",
    "    %cd source_code\n",
    "    out.clear_output()\n",
    "%run base\n",
    "%run modeling_gui2\n",
    "with out:\n",
    "    %cd 'model_dir'\n",
    "    out.clear_output()"
   ]
  },
  {
   "cell_type": "code",
   "execution_count": 11,
   "metadata": {},
   "outputs": [
    {
     "data": {
      "application/vnd.jupyter.widget-view+json": {
       "model_id": "7efcdc413079449a8dd55ab03b4ad84c",
       "version_major": 2,
       "version_minor": 0
      },
      "text/plain": [
       "VBox(children=(VBox(children=(Button(description='New Model', style=ButtonStyle(), tooltip='Creat a New Model'…"
      ]
     },
     "metadata": {},
     "output_type": "display_data"
    }
   ],
   "source": [
    "m=model()\n",
    "m.show()"
   ]
  },
  {
   "cell_type": "code",
   "execution_count": 9,
   "metadata": {},
   "outputs": [
    {
     "data": {
      "text/plain": [
       "uca_cyl1           <inertia_properties.circular_cylinder object a...\n",
       "uca_cyl2           <inertia_properties.circular_cylinder object a...\n",
       "lca_cyl1           <inertia_properties.circular_cylinder object a...\n",
       "lca_cyl2           <inertia_properties.circular_cylinder object a...\n",
       "tie_rod_tie_cyl    <inertia_properties.circular_cylinder object a...\n",
       "upright_cyl1       <inertia_properties.circular_cylinder object a...\n",
       "upright_cyl2       <inertia_properties.circular_cylinder object a...\n",
       "dtype: object"
      ]
     },
     "execution_count": 9,
     "metadata": {},
     "output_type": "execute_result"
    }
   ],
   "source": [
    "m.geometries"
   ]
  },
  {
   "cell_type": "code",
   "execution_count": null,
   "metadata": {},
   "outputs": [],
   "source": []
  }
 ],
 "metadata": {
  "kernelspec": {
   "display_name": "Python 3",
   "language": "python",
   "name": "python3"
  },
  "language_info": {
   "codemirror_mode": {
    "name": "ipython",
    "version": 3
   },
   "file_extension": ".py",
   "mimetype": "text/x-python",
   "name": "python",
   "nbconvert_exporter": "python",
   "pygments_lexer": "ipython3",
   "version": "3.6.3"
  }
 },
 "nbformat": 4,
 "nbformat_minor": 2
}
