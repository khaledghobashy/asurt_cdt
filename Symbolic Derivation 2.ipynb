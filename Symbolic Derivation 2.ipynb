{
 "cells": [
  {
   "cell_type": "code",
   "execution_count": 1,
   "metadata": {
    "collapsed": true
   },
   "outputs": [],
   "source": [
    "import sympy as sm\n",
    "import numpy as np\n",
    "sm.init_printing()\n",
    "import matplotlib.pyplot as plt"
   ]
  },
  {
   "cell_type": "code",
   "execution_count": 3,
   "metadata": {},
   "outputs": [],
   "source": [
    "t  = sm.Symbol('t')\n",
    "\n",
    "Rxi = sm.Function('R^i_x')(t)\n",
    "Ryi = sm.Function('R^i_y')(t)\n",
    "Rzi = sm.Function('R^i_z')(t)\n",
    "e0i = sm.Function('e^i_0')(t)\n",
    "e1i = sm.Function('e^i_1')(t)\n",
    "e2i = sm.Function('e^i_2')(t)\n",
    "e3i = sm.Function('e^i_3')(t)\n",
    "\n",
    "Rxj = sm.Function('R^j_x')(t)\n",
    "Ryj = sm.Function('R^j_y')(t)\n",
    "Rzj = sm.Function('R^j_z')(t)\n",
    "e0j = sm.Function('e^j_0')(t)\n",
    "e1j = sm.Function('e^j_1')(t)\n",
    "e2j = sm.Function('e^j_2')(t)\n",
    "e3j = sm.Function('e^j_3')(t)\n",
    "\n",
    "\n",
    "Rxi_d = sm.Symbol(r'\\dot{R}^i_x')\n",
    "Ryi_d = sm.Symbol(r'\\dot{R}^i_y')\n",
    "Rzi_d = sm.Symbol(r'\\dot{R}^i_z')\n",
    "e0i_d = sm.Symbol(r'\\dot{e}^i_0')\n",
    "e1i_d = sm.Symbol(r'\\dot{e}^i_1')\n",
    "e2i_d = sm.Symbol(r'\\dot{e}^i_2')\n",
    "e3i_d = sm.Symbol(r'\\dot{e}^i_3')\n",
    "\n",
    "Rxj_d = sm.Symbol(r'\\dot{R}^j_x')\n",
    "Ryj_d = sm.Symbol(r'\\dot{R}^j_y')\n",
    "Rzj_d = sm.Symbol(r'\\dot{R}^j_z')\n",
    "e0j_d = sm.Symbol(r'\\dot{e}^j_0')\n",
    "e1j_d = sm.Symbol(r'\\dot{e}^j_1')\n",
    "e2j_d = sm.Symbol(r'\\dot{e}^j_2')\n",
    "e3j_d = sm.Symbol(r'\\dot{e}^j_3')\n",
    "\n",
    "\n",
    "\n",
    "Ri   = sm.Matrix([[Rxi],[Ryi],[Rzi]])\n",
    "Rid  = sm.diff(Ri,t)\n",
    "Rids = sm.Matrix([[Rxi_d],[Ryi_d],[Rzi_d]])\n",
    "\n",
    "pi   = sm.Matrix([[e0i],[e1i],[e2i],[e3i]])\n",
    "pid  = sm.diff(pi,t)\n",
    "pids = sm.Matrix([[e0i_d],[e1i_d],[e2i_d],[e3i_d]])\n",
    "\n",
    "qi   = sm.Matrix([[Rxi],[Ryi],[Rzi],[e0i],[e1i],[e2i],[e3i]])\n",
    "qid  = qi.diff(t)\n",
    "qids= sm.Matrix([[Rxi_d],[Ryi_d],[Rzi_d],[e0i_d],[e1i_d],[e2i_d],[e3i_d]])\n",
    "\n",
    "qidd = qi.diff(t,t)\n",
    "\n",
    "\n",
    "\n",
    "Rj   = sm.Matrix([[Rxj],[Ryj],[Rzj]])\n",
    "Rjd  = sm.diff(Rj,t)\n",
    "Rjds = sm.Matrix([[Rxj_d],[Ryj_d],[Rzj_d]])\n",
    "\n",
    "pj   = sm.Matrix([[e0j],[e1j],[e2j],[e3j]])\n",
    "pjd  = sm.diff(pj,t)\n",
    "pjds = sm.Matrix([[e0j_d],[e1j_d],[e2j_d],[e3j_d]])\n",
    "\n",
    "qj   = sm.Matrix([[Rxj],[Ryj],[Rzj],[e0j],[e1j],[e2j],[e3j]])\n",
    "qjd  = qj.diff(t)\n",
    "qjds= sm.Matrix([[Rxj_d],[Ryj_d],[Rzj_d],[e0j_d],[e1j_d],[e2j_d],[e3j_d]])\n",
    "\n",
    "qjdd = qj.diff(t,t)\n",
    "\n",
    "q   = sm.Matrix([[Rxi],[Ryi],[Rzi],[e0i],[e1i],[e2i],[e3i],[Rxj],[Ryj],[Rzj],[e0j],[e1j],[e2j],[e3j]])\n",
    "qd  = q.diff(t)\n",
    "qds = sm.Matrix(sm.BlockMatrix([[qids],[qjds]]))\n",
    "qdd = q.diff(t,t)\n",
    "\n",
    "theta = sm.Function('theta')(t)\n"
   ]
  },
  {
   "cell_type": "code",
   "execution_count": 4,
   "metadata": {},
   "outputs": [],
   "source": [
    "uxbi,uybi,uzbi = sm.symbols(r'\\bar{u^i}_x,\\bar{u^i}_y,\\bar{u^i}_z')\n",
    "ubi = sm.Matrix([[uxbi],[uybi],[uzbi]])\n",
    "\n",
    "\n",
    "ixbi,iybi,izbi = sm.symbols(r'\\bar{i^i}_x,\\bar{i^i}_y,\\bar{i^i}_z')\n",
    "ibi = sm.Matrix([[ixbi],[iybi],[izbi]])\n",
    "\n",
    "jxbi,jybi,jzbi = sm.symbols(r'\\bar{j^i}_x,\\bar{j^i}_y,\\bar{j^i}_z')\n",
    "jbi = sm.Matrix([[jxbi],[jybi],[jzbi]])\n",
    "\n",
    "kxbi,kybi,kzbi = sm.symbols(r'\\bar{k^i}_x,\\bar{k^i}_y,\\bar{k^i}_z')\n",
    "kbi = sm.Matrix([[kxbi],[kybi],[kzbi]])\n",
    "\n",
    "\n",
    "\n",
    "uxbj,uybj,uzbj = sm.symbols(r'\\bar{u^j}_x,\\bar{u^j}_y,\\bar{u^j}_z')\n",
    "ubj = sm.Matrix([[uxbj],[uybj],[uzbj]])\n",
    "\n",
    "u2xbj,u2ybj,u2zbj = sm.symbols(r'\\bar{u2^j}_x,\\bar{u2^j}_y,\\bar{u2^j}_z')\n",
    "u2bj = sm.Matrix([[u2xbj],[u2ybj],[u2zbj]])\n",
    "\n",
    "ixbj,iybj,izbj = sm.symbols(r'\\bar{i^j}_x,\\bar{i^j}_y,\\bar{i^j}_z')\n",
    "ibj = sm.Matrix([[ixbj],[iybj],[izbj]])\n",
    "\n",
    "jxbj,jybj,jzbj = sm.symbols(r'\\bar{j^j}_x,\\bar{j^j}_y,\\bar{j^j}_z')\n",
    "jbj = sm.Matrix([[jxbj],[jybj],[jzbj]])\n",
    "\n",
    "kxbj,kybj,kzbj = sm.symbols(r'\\bar{k^j}_x,\\bar{k^j}_y,\\bar{k^j}_z')\n",
    "kbj = sm.Matrix([[kxbj],[kybj],[kzbj]])"
   ]
  },
  {
   "cell_type": "code",
   "execution_count": 5,
   "metadata": {
    "collapsed": true
   },
   "outputs": [],
   "source": [
    "def E(p):\n",
    "    e0,e1,e2,e3=list(p)\n",
    "    m=sm.Matrix([[-e1, e0,-e3, e2],\n",
    "                [-e2, e3, e0,-e1],\n",
    "                [-e3,-e2, e1, e0]])\n",
    "    return m\n",
    "\n",
    "def G(p):\n",
    "    e0,e1,e2,e3=list(p)\n",
    "    m=sm.Matrix([[-e1, e0, e3,-e2],\n",
    "                [-e2,-e3, e0, e1],\n",
    "                [-e3, e2,-e1, e0]])\n",
    "    return m\n",
    "\n",
    "def A(p):\n",
    "    return E(p)*(G(p).T)\n",
    "\n",
    "def vec2skew(v):\n",
    "    \n",
    "    vs=sm.Matrix([[0,-v[2,0],v[1,0]],\n",
    "                  [v[2,0],0,-v[0,0]],\n",
    "                  [-v[1,0],v[0,0],0]])\n",
    "    return vs\n",
    "\n",
    "def B(p,a):\n",
    "    \n",
    "    e0,e1,e2,e3=list(p)\n",
    "    e=sm.Matrix([[e1],[e2],[e3]])\n",
    "    a=sm.Matrix(a).reshape(3,1)\n",
    "    a_s=vec2skew(a)\n",
    "    I=sm.eye(3)\n",
    "    e_s=vec2skew(e)\n",
    "    \n",
    "    m=2*sm.BlockMatrix([[(e0*I+e_s)*a, e*a.T-(e0*I+e_s)*a_s]])\n",
    "    \n",
    "    return sm.Matrix(m)\n",
    "\n",
    "\n",
    "def dcm2ep(dcm):\n",
    "    ''' \n",
    "    extracting euler parameters from a transformation matrix\n",
    "    Note: this is not fully developed. The special case of e0=0 is not dealt \n",
    "    with yet.\n",
    "    ===========================================================================\n",
    "    inputs  : \n",
    "        A   : The transofrmation matrix\n",
    "    ===========================================================================\n",
    "    outputs : \n",
    "        p   : set containing the four parameters\n",
    "    ===========================================================================\n",
    "    '''\n",
    "    trA = dcm.trace()\n",
    "    e0s=(trA+1)/4\n",
    "    \n",
    "    e1s=(2*dcm[0,0]-trA+1)/4\n",
    "    e2s=(2*dcm[1,1]-trA+1)/4\n",
    "    e3s=(2*dcm[2,2]-trA+1)/4\n",
    "    \n",
    "    \n",
    "    # Case 1 : e0 != zero\n",
    "    if e0s==max([e0s,e1s,e2s,e2s,e3s]):\n",
    "        e0=abs(np.sqrt(e0s))\n",
    "        \n",
    "        e1=(dcm[2,1]-dcm[1,2])/(4*e0)\n",
    "        e2=(dcm[0,2]-dcm[2,0])/(4*e0)\n",
    "        e3=(dcm[0,1]-dcm[1,0])/(4*e0)\n",
    "        \n",
    "    elif e1s==max([e0s,e1s,e2s,e2s,e3s]):\n",
    "        e1=abs(np.sqrt(e1s))\n",
    "        \n",
    "        e0=(dcm[2,1]-dcm[1,2])/(4*e1)\n",
    "        e2=(dcm[0,1]+dcm[1,0])/(4*e1)\n",
    "        e3=(dcm[0,2]+dcm[2,0])/(4*e1)\n",
    "    \n",
    "    elif e2s==max([e0s,e1s,e2s,e2s,e3s]):\n",
    "        e2=abs(np.sqrt(e2s))\n",
    "        \n",
    "        e0=(dcm[0,2]-dcm[2,0])/(4*e2)\n",
    "        e1=(dcm[0,1]+dcm[1,0])/(4*e2)\n",
    "        e3=(dcm[2,1]+dcm[1,2])/(4*e2)\n",
    "    \n",
    "    elif e3s==max([e0s,e1s,e2s,e2s,e3s]):\n",
    "        e3=abs(np.sqrt(e3s))\n",
    "        \n",
    "        e0=(dcm[0,1]-dcm[1,0])/(4*e3)\n",
    "        e1=(dcm[0,2]+dcm[2,0])/(4*e3)\n",
    "        e2=(dcm[2,1]+dcm[1,2])/(4*e3)\n",
    "        \n",
    "    return e0,e1,e2,e3\n",
    "\n",
    "\n",
    "I33 = sm.eye(3)\n",
    "Z33 = sm.zeros(3)\n",
    "Z13 = sm.zeros(1,3)"
   ]
  },
  {
   "cell_type": "markdown",
   "metadata": {},
   "source": [
    "# SPHERICAL CONSTRAINT"
   ]
  },
  {
   "cell_type": "markdown",
   "metadata": {},
   "source": [
    "## POSITION LEVEL"
   ]
  },
  {
   "cell_type": "code",
   "execution_count": 6,
   "metadata": {},
   "outputs": [],
   "source": [
    "dij_eq = Ri+A(pi)*ubi - Rj-A(pj)*ubj"
   ]
  },
  {
   "cell_type": "markdown",
   "metadata": {},
   "source": [
    "## JACOBIAN"
   ]
  },
  {
   "cell_type": "code",
   "execution_count": 7,
   "metadata": {
    "collapsed": true
   },
   "outputs": [],
   "source": [
    "dij_jac_i = sm.Matrix(sm.BlockMatrix([[ I33, B(pi,ubi)]]))\n",
    "dij_jac_j = sm.Matrix(sm.BlockMatrix([[-I33,-B(pj,ubj)]]))"
   ]
  },
  {
   "cell_type": "markdown",
   "metadata": {},
   "source": [
    "## VELOCITY LEVEL\n",
    "Zeros"
   ]
  },
  {
   "cell_type": "markdown",
   "metadata": {},
   "source": [
    "## ACCELERATION LEVEL"
   ]
  },
  {
   "cell_type": "code",
   "execution_count": 8,
   "metadata": {
    "collapsed": true
   },
   "outputs": [],
   "source": [
    "dij_acc_rhs = B(pid,ubi)*pid-B(pjd,ubj)*pjd"
   ]
  },
  {
   "cell_type": "markdown",
   "metadata": {},
   "source": [
    "# ---------------------------------------------------------------------"
   ]
  },
  {
   "cell_type": "markdown",
   "metadata": {},
   "source": [
    "# DP1 CONSTRAINT\n"
   ]
  },
  {
   "cell_type": "markdown",
   "metadata": {},
   "source": [
    "## POSITION LEVEL"
   ]
  },
  {
   "cell_type": "code",
   "execution_count": 9,
   "metadata": {},
   "outputs": [],
   "source": [
    "dp1_eq = (A(pi)*ibi).T*(A(pj)*jbj)"
   ]
  },
  {
   "cell_type": "markdown",
   "metadata": {},
   "source": [
    "## JACOBIAN"
   ]
  },
  {
   "cell_type": "code",
   "execution_count": 10,
   "metadata": {},
   "outputs": [],
   "source": [
    "dp1_jac_i = sm.Matrix(sm.BlockMatrix([[Z13,(A(pj)*jbj).T*B(pi,ibi)]]))\n",
    "dp1_jac_j = sm.Matrix(sm.BlockMatrix([[Z13,(A(pi)*ibi).T*B(pj,jbj)]]))"
   ]
  },
  {
   "cell_type": "markdown",
   "metadata": {},
   "source": [
    "## VELOCITY LEVEL\n",
    "Zeros"
   ]
  },
  {
   "cell_type": "markdown",
   "metadata": {},
   "source": [
    "## ACCELERATION LEVEL"
   ]
  },
  {
   "cell_type": "code",
   "execution_count": 11,
   "metadata": {
    "collapsed": true
   },
   "outputs": [],
   "source": [
    "dp1_acc_rhs = ((A(pi)*ibi).T*B(pjd,jbj)*pjd) + ((A(pj)*jbj).T*B(pid,ibi)*pid) + (2*(B(pi,ibi)*pid).T*(B(pj,jbj)*pjd))\n",
    "\n",
    "v1i = (A(pi)*ibi)\n",
    "v2j = (A(pj)*jbj)\n",
    "\n",
    "Bv2dj = B(pjd,jbj)\n",
    "Bv1di = B(pid,ibi)\n",
    "\n",
    "Bv1i = B(pi,ibi)\n",
    "Bv2j = B(pj,jbj)\n",
    "\n",
    "(v1i.T*Bv2jd*pjd) + (v2j.T*Bv1di*pid) + (2*(Bv1i*pid).T*(Bv2j*pjd))"
   ]
  },
  {
   "cell_type": "markdown",
   "metadata": {},
   "source": [
    "# ---------------------------------------------------------------------"
   ]
  },
  {
   "cell_type": "markdown",
   "metadata": {},
   "source": [
    "# DP2 CONSTRAINT\n"
   ]
  },
  {
   "cell_type": "markdown",
   "metadata": {},
   "source": [
    "## POSITION LEVEL"
   ]
  },
  {
   "cell_type": "code",
   "execution_count": 12,
   "metadata": {},
   "outputs": [],
   "source": [
    "dij = Ri+A(pi)*ubi - Rj-A(pj)*u2bj\n",
    "dp2_eq = (A(pi)*ibi).T*dij"
   ]
  },
  {
   "cell_type": "markdown",
   "metadata": {},
   "source": [
    "## JACOBIAN"
   ]
  },
  {
   "cell_type": "code",
   "execution_count": 13,
   "metadata": {
    "collapsed": true
   },
   "outputs": [],
   "source": [
    "dp2_jac_i = sm.Matrix(sm.BlockMatrix([[  (A(pi)*ibi).T , dij.T*B(pi,ibi) + (A(pi)*ibi).T*B(pi,ubi)]]))\n",
    "dp2_jac_j = sm.Matrix(sm.BlockMatrix([[ -(A(pi)*ibi).T , - (A(pi)*ibi).T*B(pj,u2bj)]]))"
   ]
  },
  {
   "cell_type": "code",
   "execution_count": 14,
   "metadata": {},
   "outputs": [
    {
     "data": {
      "text/latex": [
       "$$\\left[\\begin{array}{cccccccccccccc}0 & 0 & 0 & 0 & 0 & 0 & 0 & 0 & 0 & 0 & 0 & 0 & 0 & 0\\end{array}\\right]$$"
      ],
      "text/plain": [
       "[0  0  0  0  0  0  0  0  0  0  0  0  0  0]"
      ]
     },
     "execution_count": 14,
     "metadata": {},
     "output_type": "execute_result"
    }
   ],
   "source": [
    "sm.simplify(dp2_eq.jacobian(q)-sm.Matrix(sm.BlockMatrix([[dp2_jac_i,dp2_jac_j]])))"
   ]
  },
  {
   "cell_type": "markdown",
   "metadata": {},
   "source": [
    "## VELOCITY LEVEL\n",
    "Zeros"
   ]
  },
  {
   "cell_type": "markdown",
   "metadata": {},
   "source": [
    "## ACCELERATION LEVEL"
   ]
  },
  {
   "cell_type": "code",
   "execution_count": 15,
   "metadata": {},
   "outputs": [],
   "source": [
    "dp2_acc_rhs = (A(pi)*ibi).T*(B(pid,ubi)*pid-B(pjd,u2bj)*pjd) + dij.T*B(pid,ibi)*pid + 2*((B(pi,ibi)*pid).T*(Rid+B(pi,ubi)*pid - Rjd-B(pj,u2bj)*pjd))\n",
    "\n",
    "vi  = (A(pi)*ibi)\n",
    "Budi = B(pid,ubi)\n",
    "Budj = B(pjd,u2bj)\n",
    "Bvdi = B(pid,ibi)\n",
    "Bvi = B(pi,ibi)\n",
    "Bui = B(pi,ubi)\n",
    "Buj = B(pj,u2bj)\n",
    "\n",
    "(v1).T*(Budi*pid-Budj*pjd) + dij.T*Bvdi*pid + 2*((Bvi*pid).T*(Rid+Bui*pid - Rjd-Buj*pjd))"
   ]
  },
  {
   "cell_type": "code",
   "execution_count": 16,
   "metadata": {},
   "outputs": [
    {
     "data": {
      "text/latex": [
       "$$\\left[\\begin{matrix}0\\end{matrix}\\right]$$"
      ],
      "text/plain": [
       "[0]"
      ]
     },
     "execution_count": 16,
     "metadata": {},
     "output_type": "execute_result"
    }
   ],
   "source": [
    "sm.simplify(dp2_eq.diff(t,t) - (dp2_eq.jacobian(q)*qdd + dp2_acc_rhs ))"
   ]
  },
  {
   "cell_type": "code",
   "execution_count": 19,
   "metadata": {},
   "outputs": [],
   "source": [
    "dp2_acc_rhs;"
   ]
  },
  {
   "cell_type": "code",
   "execution_count": null,
   "metadata": {
    "collapsed": true
   },
   "outputs": [],
   "source": [
    "def jac_creator(q):\n",
    "    "
   ]
  }
 ],
 "metadata": {
  "kernelspec": {
   "display_name": "Python 3",
   "language": "python",
   "name": "python3"
  },
  "language_info": {
   "codemirror_mode": {
    "name": "ipython",
    "version": 3
   },
   "file_extension": ".py",
   "mimetype": "text/x-python",
   "name": "python",
   "nbconvert_exporter": "python",
   "pygments_lexer": "ipython3",
   "version": "3.6.3"
  }
 },
 "nbformat": 4,
 "nbformat_minor": 2
}
