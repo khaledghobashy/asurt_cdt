{
 "cells": [
  {
   "cell_type": "markdown",
   "metadata": {},
   "source": [
    "$s$"
   ]
  },
  {
   "cell_type": "code",
   "execution_count": 8,
   "metadata": {},
   "outputs": [],
   "source": [
    "import ipywidgets as widgets\n",
    "out = widgets.Output()\n",
    "with out:\n",
    "    \n",
    "    %bookmark 'model_dir'\n",
    "    current_dir = %pwd\n",
    "    while 'models' in current_dir:\n",
    "        %cd ..\n",
    "        current_dir = %pwd\n",
    "    %bookmark 'base_dir'\n",
    "    %cd source_code\n",
    "    out.clear_output()\n",
    "%run base\n",
    "%run gui_v3\n",
    "with out:\n",
    "    %cd ..\n",
    "    %cd models/st100_v1/front_suspension\n",
    "    out.clear_output()"
   ]
  },
  {
   "cell_type": "code",
   "execution_count": 9,
   "metadata": {},
   "outputs": [
    {
     "data": {
      "application/vnd.jupyter.widget-view+json": {
       "model_id": "4c4a812fcfcf4d88a023ea037d10abc2",
       "version_major": 2,
       "version_minor": 0
      },
      "text/plain": [
       "VBox(children=(HBox(children=(VBox(children=(Button(description=' New', icon='file', layout=Layout(width='100p…"
      ]
     },
     "metadata": {},
     "output_type": "display_data"
    }
   ],
   "source": [
    "m=model()\n",
    "m.show()"
   ]
  },
  {
   "cell_type": "code",
   "execution_count": 7,
   "metadata": {},
   "outputs": [],
   "source": [
    "stiffness_out = widgets.Output()\n",
    "def stiffness_toggle_click(change):\n",
    "    if change['type'] == 'change' and change['name'] == 'label':\n",
    "        if stiffness_toggle.value:\n",
    "            with stiffness_out:\n",
    "                ipy.display.display(m.points)\n",
    "        else:\n",
    "            stiffness_out.clear_output()\n",
    "stiffness_toggle.observe(stiffness_toggle_click)"
   ]
  },
  {
   "cell_type": "code",
   "execution_count": 9,
   "metadata": {},
   "outputs": [
    {
     "data": {
      "application/vnd.jupyter.widget-view+json": {
       "model_id": "6136d7f8dc9045dba54005fd31e90526",
       "version_major": 2,
       "version_minor": 0
      },
      "text/plain": [
       "VBox(children=(ToggleButton(value=False, description=' Show', icon='edit', layout=Layout(width='100px'), toolt…"
      ]
     },
     "metadata": {},
     "output_type": "display_data"
    }
   ],
   "source": [
    "widgets.VBox([stiffness_toggle,stiffness_out])"
   ]
  },
  {
   "cell_type": "code",
   "execution_count": 24,
   "metadata": {},
   "outputs": [
    {
     "data": {
      "text/plain": [
       "array(3.5)"
      ]
     },
     "execution_count": 24,
     "metadata": {},
     "output_type": "execute_result"
    }
   ],
   "source": [
    "d=pd.read_excel('_stiffness_data.xlsx')\n",
    "from scipy.interpolate import interp1d\n",
    "f=interp1d(d.Deflection,d.Force)\n",
    "f(3.5)"
   ]
  },
  {
   "cell_type": "code",
   "execution_count": 10,
   "metadata": {},
   "outputs": [
    {
     "data": {
      "text/plain": [
       "hpl_lcaf              ([-340.0], [-269.0], [527.0])\n",
       "hpl_lcao                 ([0.0], [-841.0], [453.0])\n",
       "hpl_lcar               ([340.0], [-269.0], [527.0])\n",
       "hpl_strut_chassis    ([-168.0], [-588.0], [1251.0])\n",
       "hpl_strut_lca         ([-168.0], [-588.0], [539.0])\n",
       "hpl_tro               ([-400.0], [-800.0], [604.0])\n",
       "hpl_ucaf              ([-130.0], [-334.0], [807.0])\n",
       "hpl_ucao                 ([0.0], [-812.0], [865.0])\n",
       "hpl_ucar               ([130.0], [-334.0], [807.0])\n",
       "hpl_wc                  ([0.0], [-1100.0], [600.0])\n",
       "hpr_lcaf               ([-340.0], [269.0], [527.0])\n",
       "hpr_lcao                  ([0.0], [841.0], [453.0])\n",
       "hpr_lcar                ([340.0], [269.0], [527.0])\n",
       "hpr_strut_chassis     ([-168.0], [588.0], [1251.0])\n",
       "hpr_strut_lca          ([-168.0], [588.0], [539.0])\n",
       "hpr_tro                ([-400.0], [800.0], [604.0])\n",
       "hpr_ucaf               ([-130.0], [334.0], [807.0])\n",
       "hpr_ucao                  ([0.0], [812.0], [865.0])\n",
       "hpr_ucar                ([130.0], [334.0], [807.0])\n",
       "hpr_wc                   ([0.0], [1100.0], [600.0])\n",
       "hps_tetetete                  ([0.0], [0.0], [0.0])\n",
       "dtype: object"
      ]
     },
     "execution_count": 10,
     "metadata": {},
     "output_type": "execute_result"
    }
   ],
   "source": [
    "m.points"
   ]
  },
  {
   "cell_type": "code",
   "execution_count": 11,
   "metadata": {},
   "outputs": [],
   "source": [
    "p1 = m.points['hpl_strut_chassis']\n",
    "p2 = m.points['hpl_strut_lca']\n",
    "midpoints = point.mid_point(p1,p2,'hpl_strut_mid')"
   ]
  },
  {
   "cell_type": "code",
   "execution_count": 12,
   "metadata": {},
   "outputs": [
    {
     "data": {
      "text/plain": [
       "point object at [-168. -588.  895.]"
      ]
     },
     "execution_count": 12,
     "metadata": {},
     "output_type": "execute_result"
    }
   ],
   "source": [
    "midpoints"
   ]
  },
  {
   "cell_type": "code",
   "execution_count": null,
   "metadata": {},
   "outputs": [],
   "source": []
  }
 ],
 "metadata": {
  "kernelspec": {
   "display_name": "Python 3",
   "language": "python",
   "name": "python3"
  },
  "language_info": {
   "codemirror_mode": {
    "name": "ipython",
    "version": 3
   },
   "file_extension": ".py",
   "mimetype": "text/x-python",
   "name": "python",
   "nbconvert_exporter": "python",
   "pygments_lexer": "ipython3",
   "version": "3.6.3"
  }
 },
 "nbformat": 4,
 "nbformat_minor": 2
}
