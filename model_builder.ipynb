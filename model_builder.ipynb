{
 "cells": [
  {
   "cell_type": "markdown",
   "metadata": {},
   "source": [
    "$s$"
   ]
  },
  {
   "cell_type": "code",
   "execution_count": 22,
   "metadata": {},
   "outputs": [],
   "source": [
    "import ipywidgets as widgets\n",
    "out = widgets.Output()\n",
    "with out:\n",
    "    \n",
    "    %bookmark 'model_dir'\n",
    "    current_dir = %pwd\n",
    "    while 'models' in current_dir:\n",
    "        %cd ..\n",
    "        current_dir = %pwd\n",
    "    %bookmark 'base_dir'\n",
    "    %cd source_code\n",
    "    out.clear_output()\n",
    "%run base\n",
    "%run gui_v4_vehicles\n",
    "with out:\n",
    "    %cd ..\n",
    "    %cd models/st100_v1/front_suspension\n",
    "    out.clear_output()"
   ]
  },
  {
   "cell_type": "code",
   "execution_count": 23,
   "metadata": {},
   "outputs": [
    {
     "data": {
      "application/vnd.jupyter.widget-view+json": {
       "model_id": "5b5a5f903f754d9eb55766b9fc5bc81a",
       "version_major": 2,
       "version_minor": 0
      },
      "text/plain": [
       "VBox(children=(HBox(children=(VBox(children=(Button(description=' New', icon='file', layout=Layout(width='100p…"
      ]
     },
     "metadata": {},
     "output_type": "display_data"
    }
   ],
   "source": [
    "m=model()\n",
    "m.show()"
   ]
  },
  {
   "cell_type": "code",
   "execution_count": 7,
   "metadata": {},
   "outputs": [
    {
     "data": {
      "text/plain": [
       "'mount'"
      ]
     },
     "execution_count": 7,
     "metadata": {},
     "output_type": "execute_result"
    }
   ],
   "source": [
    "m.bodies['rbs_chassis'].typ"
   ]
  },
  {
   "cell_type": "code",
   "execution_count": 8,
   "metadata": {},
   "outputs": [
    {
     "data": {
      "text/plain": [
       "jcl_hub_bearing          <constraints.revolute object at 0x000002355C8B...\n",
       "jcl_lca_ch               <constraints.revolute object at 0x000002355C8B...\n",
       "jcl_lca_upright          <constraints.spherical object at 0x000002355C8...\n",
       "jcl_strut_chassis_uni    <constraints.universal object at 0x000002355C8...\n",
       "jcl_strut_cyl            <constraints.cylindrical object at 0x000002355...\n",
       "jcl_strut_lca_uni        <constraints.universal object at 0x000002355C8...\n",
       "jcl_tie_chassis          <constraints.universal object at 0x000002355C8...\n",
       "jcl_tie_upright          <constraints.spherical object at 0x000002355C8...\n",
       "jcl_uca_ch               <constraints.revolute object at 0x000002355C8C...\n",
       "jcl_uca_upright          <constraints.spherical object at 0x000002355C8...\n",
       "jcr_hub_bearing          <constraints.revolute object at 0x000002355C8C...\n",
       "jcr_lca_ch               <constraints.revolute object at 0x000002355C8C...\n",
       "jcr_lca_upright          <constraints.spherical object at 0x000002355C8...\n",
       "jcr_strut_chassis_uni    <constraints.universal object at 0x000002355C8...\n",
       "jcr_strut_cyl            <constraints.cylindrical object at 0x000002355...\n",
       "jcr_strut_lca_uni        <constraints.universal object at 0x000002355C8...\n",
       "jcr_tie_chassis          <constraints.universal object at 0x000002355C8...\n",
       "jcr_tie_upright          <constraints.spherical object at 0x000002355C8...\n",
       "jcr_uca_ch               <constraints.revolute object at 0x000002355C8D...\n",
       "jcr_uca_upright          <constraints.spherical object at 0x000002355C8...\n",
       "dtype: object"
      ]
     },
     "execution_count": 8,
     "metadata": {},
     "output_type": "execute_result"
    }
   ],
   "source": [
    "m.joints"
   ]
  },
  {
   "cell_type": "code",
   "execution_count": 10,
   "metadata": {},
   "outputs": [
    {
     "data": {
      "image/png": "[encoded data removed]",
      "text/plain": [
       "<matplotlib.figure.Figure at 0x2355ca8ee48>"
      ]
     },
     "metadata": {},
     "output_type": "display_data"
    }
   ],
   "source": [
    "m.forces['fel_air_struts'].spring_curve()"
   ]
  },
  {
   "cell_type": "code",
   "execution_count": 11,
   "metadata": {},
   "outputs": [
    {
     "data": {
      "text/plain": [
       "ovl_lateral_vector       ([0.0], [-1.0], [0.0])\n",
       "ovl_lca_rev            ([-680.0], [0.0], [0.0])\n",
       "ovl_uca_rev             ([260.0], [0.0], [0.0])\n",
       "ovr_lateral_vector        ([0.0], [1.0], [0.0])\n",
       "ovr_lca_rev           ([-680.0], [-0.0], [0.0])\n",
       "ovr_uca_rev            ([260.0], [-0.0], [0.0])\n",
       "dtype: object"
      ]
     },
     "execution_count": 11,
     "metadata": {},
     "output_type": "execute_result"
    }
   ],
   "source": [
    "m.vectors"
   ]
  },
  {
   "cell_type": "code",
   "execution_count": 12,
   "metadata": {},
   "outputs": [
    {
     "data": {
      "text/plain": [
       "point object at [   0.  -826.5  659. ]"
      ]
     },
     "execution_count": 12,
     "metadata": {},
     "output_type": "execute_result"
    }
   ],
   "source": [
    "p1 = m.points['hpl_ucao']\n",
    "p2 = m.points['hpl_lcao']\n",
    "pl = point.mid_point(p1,p2,'hpl_upright_mid')\n",
    "pl"
   ]
  },
  {
   "cell_type": "code",
   "execution_count": 29,
   "metadata": {},
   "outputs": [
    {
     "ename": "NameError",
     "evalue": "name 'wheel_hub' is not defined",
     "output_type": "error",
     "traceback": [
      "\u001b[1;31m---------------------------------------------------------------------------\u001b[0m",
      "\u001b[1;31mNameError\u001b[0m                                 Traceback (most recent call last)",
      "\u001b[1;32m<ipython-input-29-03e94334c521>\u001b[0m in \u001b[0;36m<module>\u001b[1;34m()\u001b[0m\n\u001b[1;32m----> 1\u001b[1;33m \u001b[0mwheel_drive\u001b[0m     \u001b[1;33m=\u001b[0m \u001b[0mrotational_drive\u001b[0m\u001b[1;33m(\u001b[0m\u001b[0mwheel_hub\u001b[0m\u001b[1;33m)\u001b[0m\u001b[1;33m\u001b[0m\u001b[0m\n\u001b[0m\u001b[0;32m      2\u001b[0m \u001b[0mvertical_travel\u001b[0m \u001b[1;33m=\u001b[0m \u001b[0mabsolute_locating\u001b[0m\u001b[1;33m(\u001b[0m\u001b[0mwheel\u001b[0m\u001b[1;33m,\u001b[0m\u001b[1;34m'z'\u001b[0m\u001b[1;33m)\u001b[0m\u001b[1;33m\u001b[0m\u001b[0m\n",
      "\u001b[1;31mNameError\u001b[0m: name 'wheel_hub' is not defined"
     ]
    }
   ],
   "source": [
    "wheel_drive     = rotational_drive(wheel_hub)\n",
    "vertical_travel = absolute_locating(wheel,'z')"
   ]
  },
  {
   "cell_type": "code",
   "execution_count": 17,
   "metadata": {},
   "outputs": [
    {
     "data": {
      "application/vnd.jupyter.widget-view+json": {
       "model_id": "d0248bb603f446b8a8329516e1a119b4",
       "version_major": 2,
       "version_minor": 0
      },
      "text/plain": [
       "ToggleButton(value=False, icon='cube')"
      ]
     },
     "metadata": {},
     "output_type": "display_data"
    }
   ],
   "source": [
    "widgets.ToggleButton(icon='cube')"
   ]
  },
  {
   "cell_type": "code",
   "execution_count": null,
   "metadata": {},
   "outputs": [],
   "source": []
  }
 ],
 "metadata": {
  "kernelspec": {
   "display_name": "Python 3",
   "language": "python",
   "name": "python3"
  },
  "language_info": {
   "codemirror_mode": {
    "name": "ipython",
    "version": 3
   },
   "file_extension": ".py",
   "mimetype": "text/x-python",
   "name": "python",
   "nbconvert_exporter": "python",
   "pygments_lexer": "ipython3",
   "version": "3.6.3"
  }
 },
 "nbformat": 4,
 "nbformat_minor": 2
}
