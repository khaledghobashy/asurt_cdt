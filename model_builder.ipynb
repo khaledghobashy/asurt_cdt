{
 "cells": [
  {
   "cell_type": "code",
   "execution_count": 1,
   "metadata": {},
   "outputs": [],
   "source": [
    "import ipywidgets as widgets\n",
    "out = widgets.Output()\n",
    "with out:\n",
    "    \n",
    "    %bookmark 'model_dir'\n",
    "    current_dir = %pwd\n",
    "    while 'models' in current_dir:\n",
    "        %cd ..\n",
    "        current_dir = %pwd\n",
    "    %bookmark 'base_dir'\n",
    "    %cd source_code\n",
    "    out.clear_output()\n",
    "%run base\n",
    "%run gui_v3\n",
    "with out:\n",
    "    %cd 'model_dir'\n",
    "    out.clear_output()"
   ]
  },
  {
   "cell_type": "code",
   "execution_count": 2,
   "metadata": {},
   "outputs": [
    {
     "data": {
      "application/vnd.jupyter.widget-view+json": {
       "model_id": "58b618d34abc4dffb4db693b05a200e1",
       "version_major": 2,
       "version_minor": 0
      },
      "text/plain": [
       "VBox(children=(VBox(children=(Button(description='New Model', style=ButtonStyle(), tooltip='Creat a New Model'…"
      ]
     },
     "metadata": {},
     "output_type": "display_data"
    }
   ],
   "source": [
    "m=model()\n",
    "m.show()"
   ]
  },
  {
   "cell_type": "code",
   "execution_count": 10,
   "metadata": {},
   "outputs": [
    {
     "data": {
      "text/plain": [
       "{'ovl_uca_rev': [[-260]\n",
       "  [0]\n",
       "  [0]], 'ovr_uca_rev': [[-260]\n",
       "  [0]\n",
       "  [0]]}"
      ]
     },
     "execution_count": 10,
     "metadata": {},
     "output_type": "execute_result"
    }
   ],
   "source": [
    "dict(m.vectors)"
   ]
  },
  {
   "cell_type": "code",
   "execution_count": 72,
   "metadata": {},
   "outputs": [
    {
     "data": {
      "text/plain": [
       "'R'"
      ]
     },
     "execution_count": 72,
     "metadata": {},
     "output_type": "execute_result"
    }
   ],
   "source": [
    "m.bodies['rbr_uca'].alignment"
   ]
  },
  {
   "cell_type": "code",
   "execution_count": 81,
   "metadata": {},
   "outputs": [
    {
     "data": {
      "text/plain": [
       "'R'"
      ]
     },
     "execution_count": 81,
     "metadata": {},
     "output_type": "execute_result"
    }
   ],
   "source": [
    "s='RL'\n",
    "s.replace('L','')"
   ]
  },
  {
   "cell_type": "code",
   "execution_count": 14,
   "metadata": {},
   "outputs": [
    {
     "data": {
      "text/plain": [
       "hpl_cp                ([0], [-1100], [0])\n",
       "hpl_lcaf          ([-340], [-269], [527])\n",
       "hpl_lcao             ([0], [-841], [453])\n",
       "hpl_lcar           ([340], [-269], [527])\n",
       "hpl_strut_ch     ([-168], [-588], [1251])\n",
       "hpl_strut_lca     ([-168], [-588], [539])\n",
       "hpl_tri           ([-363], [-278], [631])\n",
       "hpl_tro           ([-400], [-800], [604])\n",
       "hpl_ucaf          ([-130], [-334], [807])\n",
       "hpl_ucao             ([0], [-812], [865])\n",
       "hpl_ucar           ([130], [-334], [807])\n",
       "hpl_wc              ([0], [-1100], [600])\n",
       "hpr_cp                 ([0], [1100], [0])\n",
       "hpr_lcaf           ([-340], [269], [527])\n",
       "hpr_lcao              ([0], [841], [453])\n",
       "hpr_lcar            ([340], [269], [527])\n",
       "hpr_strut_ch      ([-168], [588], [1251])\n",
       "hpr_strut_lca      ([-168], [588], [539])\n",
       "hpr_tri            ([-363], [278], [631])\n",
       "hpr_tro            ([-400], [800], [604])\n",
       "hpr_ucaf           ([-130], [334], [807])\n",
       "hpr_ucao              ([0], [812], [865])\n",
       "hpr_ucar            ([130], [334], [807])\n",
       "hpr_wc               ([0], [1100], [600])\n",
       "hps_origin                ([0], [0], [0])\n",
       "dtype: object"
      ]
     },
     "execution_count": 14,
     "metadata": {},
     "output_type": "execute_result"
    }
   ],
   "source": [
    "m.points.sort_index"
   ]
  },
  {
   "cell_type": "code",
   "execution_count": 16,
   "metadata": {},
   "outputs": [],
   "source": [
    "m.points=m.points.sort_index()"
   ]
  },
  {
   "cell_type": "code",
   "execution_count": 20,
   "metadata": {},
   "outputs": [
    {
     "data": {
      "application/vnd.jupyter.widget-view+json": {
       "model_id": "272cfa260d844891b1f1d9a897ae3a9a",
       "version_major": 2,
       "version_minor": 0
      },
      "text/plain": [
       "ToggleButton(value=False, button_style='success', description=' Symmetric', icon='check')"
      ]
     },
     "metadata": {},
     "output_type": "display_data"
    }
   ],
   "source": [
    "w=widgets.ToggleButton(description=' Symmetric',value=False,icon='check')\n",
    "['primary', 'success', 'info', 'warning', 'danger', '']\n",
    "w.button_style='success'\n",
    "def on_change(change):\n",
    "    if change['type'] == 'change' and change['name'] == 'value':\n",
    "        if w.value:\n",
    "            w.button_style='success'\n",
    "        else:\n",
    "             w.button_style='warning'\n",
    "        \n",
    "\n",
    "w.observe(on_change)\n",
    "w"
   ]
  },
  {
   "cell_type": "code",
   "execution_count": null,
   "metadata": {},
   "outputs": [],
   "source": []
  }
 ],
 "metadata": {
  "kernelspec": {
   "display_name": "Python 3",
   "language": "python",
   "name": "python3"
  },
  "language_info": {
   "codemirror_mode": {
    "name": "ipython",
    "version": 3
   },
   "file_extension": ".py",
   "mimetype": "text/x-python",
   "name": "python",
   "nbconvert_exporter": "python",
   "pygments_lexer": "ipython3",
   "version": "3.6.3"
  }
 },
 "nbformat": 4,
 "nbformat_minor": 2
}
