{
 "cells": [
  {
   "cell_type": "markdown",
   "metadata": {},
   "source": [
    "$s$"
   ]
  },
  {
   "cell_type": "code",
   "execution_count": 1,
   "metadata": {},
   "outputs": [],
   "source": [
    "import ipywidgets as widgets\n",
    "out = widgets.Output()\n",
    "with out:\n",
    "    \n",
    "    %bookmark 'model_dir'\n",
    "    current_dir = %pwd\n",
    "    while 'models' in current_dir:\n",
    "        %cd ..\n",
    "        current_dir = %pwd\n",
    "    %bookmark 'base_dir'\n",
    "    %cd source_code\n",
    "    out.clear_output()\n",
    "%run base\n",
    "%run gui_v3\n",
    "with out:\n",
    "    %cd 'model_dir'\n",
    "    out.clear_output()"
   ]
  },
  {
   "cell_type": "code",
   "execution_count": 2,
   "metadata": {},
   "outputs": [
    {
     "data": {
      "application/vnd.jupyter.widget-view+json": {
       "model_id": "a0c3abff9b924e96b27dc3f45cdec1b2",
       "version_major": 2,
       "version_minor": 0
      },
      "text/plain": [
       "VBox(children=(VBox(children=(Button(description='New Model', style=ButtonStyle(), tooltip='Creat a New Model'…"
      ]
     },
     "metadata": {},
     "output_type": "display_data"
    }
   ],
   "source": [
    "m=model()\n",
    "m.show()"
   ]
  },
  {
   "cell_type": "code",
   "execution_count": 3,
   "metadata": {},
   "outputs": [
    {
     "data": {
      "text/plain": [
       "hpr_ucaf     ([0.0], [14.0], [0.0])\n",
       "hpl_ucaf    ([0.0], [-14.0], [0.0])\n",
       "dtype: object"
      ]
     },
     "execution_count": 3,
     "metadata": {},
     "output_type": "execute_result"
    }
   ],
   "source": [
    "m.points"
   ]
  },
  {
   "cell_type": "code",
   "execution_count": 81,
   "metadata": {},
   "outputs": [
    {
     "data": {
      "text/plain": [
       "'R'"
      ]
     },
     "execution_count": 81,
     "metadata": {},
     "output_type": "execute_result"
    }
   ],
   "source": [
    "s='RL'\n",
    "s.replace('L','')"
   ]
  },
  {
   "cell_type": "code",
   "execution_count": 31,
   "metadata": {},
   "outputs": [
    {
     "data": {
      "application/vnd.jupyter.widget-view+json": {
       "model_id": "dffc94235cc34d15959d1c39aa2f4a51",
       "version_major": 2,
       "version_minor": 0
      },
      "text/plain": [
       "ToggleButton(value=False, description=' Symmetric', icon='times', layout=Layout(width='120px'), tooltip='press…"
      ]
     },
     "metadata": {},
     "output_type": "display_data"
    }
   ],
   "source": [
    "w=widgets.ToggleButton(description=' Symmetric',value=False,icon='times')\n",
    "['primary', 'success', 'info', 'warning', 'danger', '']\n",
    "w.layout=widgets.Layout(width='120px')\n",
    "w.tooltip='press if the object is symmetric about the x-z plane'\n",
    "def on_change(change):\n",
    "    if change['type'] == 'change' and change['name'] == 'value':\n",
    "        if w.value:\n",
    "            w.icon='check'\n",
    "        else:\n",
    "             w.icon='times'\n",
    "        \n",
    "\n",
    "w.observe(on_change)\n",
    "w"
   ]
  },
  {
   "cell_type": "code",
   "execution_count": null,
   "metadata": {},
   "outputs": [],
   "source": []
  }
 ],
 "metadata": {
  "kernelspec": {
   "display_name": "Python 3",
   "language": "python",
   "name": "python3"
  },
  "language_info": {
   "codemirror_mode": {
    "name": "ipython",
    "version": 3
   },
   "file_extension": ".py",
   "mimetype": "text/x-python",
   "name": "python",
   "nbconvert_exporter": "python",
   "pygments_lexer": "ipython3",
   "version": "3.6.3"
  }
 },
 "nbformat": 4,
 "nbformat_minor": 2
}
